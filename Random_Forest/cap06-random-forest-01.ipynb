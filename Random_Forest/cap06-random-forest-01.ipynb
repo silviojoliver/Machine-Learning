{
 "cells": [
  {
   "cell_type": "markdown",
   "metadata": {},
   "source": [
    "# Machine Learning - Random Forest (Floresta Aleatória)"
   ]
  },
  {
   "cell_type": "markdown",
   "metadata": {},
   "source": [
    "#### Importação das bibliotecas necessárias"
   ]
  },
  {
   "cell_type": "code",
   "execution_count": 92,
   "metadata": {},
   "outputs": [],
   "source": [
    "from sklearn.tree import export_graphviz\n",
    "from sklearn.ensemble import RandomForestClassifier\n",
    "from sklearn.preprocessing import LabelEncoder\n",
    "import numpy as np\n",
    "import pandas as pd\n",
    "import matplotlib.pyplot as plt\n",
    "import seaborn as sns"
   ]
  },
  {
   "cell_type": "markdown",
   "metadata": {},
   "source": [
    "#### Carregando a base de dados."
   ]
  },
  {
   "cell_type": "code",
   "execution_count": 93,
   "metadata": {},
   "outputs": [],
   "source": [
    "df_edu = pd.read_csv('xAPI-Edu-Data.csv')"
   ]
  },
  {
   "cell_type": "code",
   "execution_count": 96,
   "metadata": {},
   "outputs": [
    {
     "data": {
      "text/html": [
       "<div>\n",
       "<style scoped>\n",
       "    .dataframe tbody tr th:only-of-type {\n",
       "        vertical-align: middle;\n",
       "    }\n",
       "\n",
       "    .dataframe tbody tr th {\n",
       "        vertical-align: top;\n",
       "    }\n",
       "\n",
       "    .dataframe thead th {\n",
       "        text-align: right;\n",
       "    }\n",
       "</style>\n",
       "<table border=\"1\" class=\"dataframe\">\n",
       "  <thead>\n",
       "    <tr style=\"text-align: right;\">\n",
       "      <th></th>\n",
       "      <th>gender</th>\n",
       "      <th>NationalITy</th>\n",
       "      <th>PlaceofBirth</th>\n",
       "      <th>StageID</th>\n",
       "      <th>GradeID</th>\n",
       "      <th>SectionID</th>\n",
       "      <th>Topic</th>\n",
       "      <th>Semester</th>\n",
       "      <th>Relation</th>\n",
       "      <th>raisedhands</th>\n",
       "      <th>VisITedResources</th>\n",
       "      <th>AnnouncementsView</th>\n",
       "      <th>Discussion</th>\n",
       "      <th>ParentAnsweringSurvey</th>\n",
       "      <th>ParentschoolSatisfaction</th>\n",
       "      <th>StudentAbsenceDays</th>\n",
       "      <th>Class</th>\n",
       "    </tr>\n",
       "  </thead>\n",
       "  <tbody>\n",
       "    <tr>\n",
       "      <th>0</th>\n",
       "      <td>M</td>\n",
       "      <td>KW</td>\n",
       "      <td>KuwaIT</td>\n",
       "      <td>lowerlevel</td>\n",
       "      <td>G-04</td>\n",
       "      <td>A</td>\n",
       "      <td>IT</td>\n",
       "      <td>F</td>\n",
       "      <td>Father</td>\n",
       "      <td>15</td>\n",
       "      <td>16</td>\n",
       "      <td>2</td>\n",
       "      <td>20</td>\n",
       "      <td>Yes</td>\n",
       "      <td>Good</td>\n",
       "      <td>Under-7</td>\n",
       "      <td>M</td>\n",
       "    </tr>\n",
       "    <tr>\n",
       "      <th>1</th>\n",
       "      <td>M</td>\n",
       "      <td>KW</td>\n",
       "      <td>KuwaIT</td>\n",
       "      <td>lowerlevel</td>\n",
       "      <td>G-04</td>\n",
       "      <td>A</td>\n",
       "      <td>IT</td>\n",
       "      <td>F</td>\n",
       "      <td>Father</td>\n",
       "      <td>20</td>\n",
       "      <td>20</td>\n",
       "      <td>3</td>\n",
       "      <td>25</td>\n",
       "      <td>Yes</td>\n",
       "      <td>Good</td>\n",
       "      <td>Under-7</td>\n",
       "      <td>M</td>\n",
       "    </tr>\n",
       "    <tr>\n",
       "      <th>2</th>\n",
       "      <td>M</td>\n",
       "      <td>KW</td>\n",
       "      <td>KuwaIT</td>\n",
       "      <td>lowerlevel</td>\n",
       "      <td>G-04</td>\n",
       "      <td>A</td>\n",
       "      <td>IT</td>\n",
       "      <td>F</td>\n",
       "      <td>Father</td>\n",
       "      <td>10</td>\n",
       "      <td>7</td>\n",
       "      <td>0</td>\n",
       "      <td>30</td>\n",
       "      <td>No</td>\n",
       "      <td>Bad</td>\n",
       "      <td>Above-7</td>\n",
       "      <td>L</td>\n",
       "    </tr>\n",
       "    <tr>\n",
       "      <th>3</th>\n",
       "      <td>M</td>\n",
       "      <td>KW</td>\n",
       "      <td>KuwaIT</td>\n",
       "      <td>lowerlevel</td>\n",
       "      <td>G-04</td>\n",
       "      <td>A</td>\n",
       "      <td>IT</td>\n",
       "      <td>F</td>\n",
       "      <td>Father</td>\n",
       "      <td>30</td>\n",
       "      <td>25</td>\n",
       "      <td>5</td>\n",
       "      <td>35</td>\n",
       "      <td>No</td>\n",
       "      <td>Bad</td>\n",
       "      <td>Above-7</td>\n",
       "      <td>L</td>\n",
       "    </tr>\n",
       "    <tr>\n",
       "      <th>4</th>\n",
       "      <td>M</td>\n",
       "      <td>KW</td>\n",
       "      <td>KuwaIT</td>\n",
       "      <td>lowerlevel</td>\n",
       "      <td>G-04</td>\n",
       "      <td>A</td>\n",
       "      <td>IT</td>\n",
       "      <td>F</td>\n",
       "      <td>Father</td>\n",
       "      <td>40</td>\n",
       "      <td>50</td>\n",
       "      <td>12</td>\n",
       "      <td>50</td>\n",
       "      <td>No</td>\n",
       "      <td>Bad</td>\n",
       "      <td>Above-7</td>\n",
       "      <td>M</td>\n",
       "    </tr>\n",
       "  </tbody>\n",
       "</table>\n",
       "</div>"
      ],
      "text/plain": [
       "  gender NationalITy PlaceofBirth     StageID GradeID SectionID Topic  \\\n",
       "0      M          KW       KuwaIT  lowerlevel    G-04         A    IT   \n",
       "1      M          KW       KuwaIT  lowerlevel    G-04         A    IT   \n",
       "2      M          KW       KuwaIT  lowerlevel    G-04         A    IT   \n",
       "3      M          KW       KuwaIT  lowerlevel    G-04         A    IT   \n",
       "4      M          KW       KuwaIT  lowerlevel    G-04         A    IT   \n",
       "\n",
       "  Semester Relation  raisedhands  VisITedResources  AnnouncementsView  \\\n",
       "0        F   Father           15                16                  2   \n",
       "1        F   Father           20                20                  3   \n",
       "2        F   Father           10                 7                  0   \n",
       "3        F   Father           30                25                  5   \n",
       "4        F   Father           40                50                 12   \n",
       "\n",
       "   Discussion ParentAnsweringSurvey ParentschoolSatisfaction  \\\n",
       "0          20                   Yes                     Good   \n",
       "1          25                   Yes                     Good   \n",
       "2          30                    No                      Bad   \n",
       "3          35                    No                      Bad   \n",
       "4          50                    No                      Bad   \n",
       "\n",
       "  StudentAbsenceDays Class  \n",
       "0            Under-7     M  \n",
       "1            Under-7     M  \n",
       "2            Above-7     L  \n",
       "3            Above-7     L  \n",
       "4            Above-7     M  "
      ]
     },
     "execution_count": 96,
     "metadata": {},
     "output_type": "execute_result"
    }
   ],
   "source": [
    "df_edu.head()"
   ]
  },
  {
   "cell_type": "markdown",
   "metadata": {},
   "source": [
    "#### Verificando as distribuições de classes."
   ]
  },
  {
   "cell_type": "code",
   "execution_count": 97,
   "metadata": {},
   "outputs": [
    {
     "data": {
      "text/plain": [
       "M    211\n",
       "H    142\n",
       "L    127\n",
       "Name: Class, dtype: int64"
      ]
     },
     "execution_count": 97,
     "metadata": {},
     "output_type": "execute_result"
    }
   ],
   "source": [
    "df_edu['Class'].value_counts()"
   ]
  },
  {
   "cell_type": "markdown",
   "metadata": {},
   "source": [
    "#### Verificando os registros nulos"
   ]
  },
  {
   "cell_type": "code",
   "execution_count": 99,
   "metadata": {},
   "outputs": [
    {
     "data": {
      "text/plain": [
       "gender                      0\n",
       "NationalITy                 0\n",
       "PlaceofBirth                0\n",
       "StageID                     0\n",
       "GradeID                     0\n",
       "SectionID                   0\n",
       "Topic                       0\n",
       "Semester                    0\n",
       "Relation                    0\n",
       "raisedhands                 0\n",
       "VisITedResources            0\n",
       "AnnouncementsView           0\n",
       "Discussion                  0\n",
       "ParentAnsweringSurvey       0\n",
       "ParentschoolSatisfaction    0\n",
       "StudentAbsenceDays          0\n",
       "Class                       0\n",
       "dtype: int64"
      ]
     },
     "execution_count": 99,
     "metadata": {},
     "output_type": "execute_result"
    }
   ],
   "source": [
    "df_edu.isnull().sum()"
   ]
  },
  {
   "cell_type": "markdown",
   "metadata": {},
   "source": [
    "#### Codificando os atributos numéricos."
   ]
  },
  {
   "cell_type": "code",
   "execution_count": 101,
   "metadata": {},
   "outputs": [],
   "source": [
    "Features = df_edu\n",
    "Cat_Colums = Features.dtypes.pipe(lambda Features: Features[Features=='object']).index\n",
    "for col in Cat_Colums:\n",
    "    label = LabelEncoder()\n",
    "    Features[col] = label.fit_transform(Features[col])"
   ]
  },
  {
   "cell_type": "code",
   "execution_count": 102,
   "metadata": {},
   "outputs": [
    {
     "data": {
      "text/html": [
       "<div>\n",
       "<style scoped>\n",
       "    .dataframe tbody tr th:only-of-type {\n",
       "        vertical-align: middle;\n",
       "    }\n",
       "\n",
       "    .dataframe tbody tr th {\n",
       "        vertical-align: top;\n",
       "    }\n",
       "\n",
       "    .dataframe thead th {\n",
       "        text-align: right;\n",
       "    }\n",
       "</style>\n",
       "<table border=\"1\" class=\"dataframe\">\n",
       "  <thead>\n",
       "    <tr style=\"text-align: right;\">\n",
       "      <th></th>\n",
       "      <th>gender</th>\n",
       "      <th>NationalITy</th>\n",
       "      <th>PlaceofBirth</th>\n",
       "      <th>StageID</th>\n",
       "      <th>GradeID</th>\n",
       "      <th>SectionID</th>\n",
       "      <th>Topic</th>\n",
       "      <th>Semester</th>\n",
       "      <th>Relation</th>\n",
       "      <th>raisedhands</th>\n",
       "      <th>VisITedResources</th>\n",
       "      <th>AnnouncementsView</th>\n",
       "      <th>Discussion</th>\n",
       "      <th>ParentAnsweringSurvey</th>\n",
       "      <th>ParentschoolSatisfaction</th>\n",
       "      <th>StudentAbsenceDays</th>\n",
       "      <th>Class</th>\n",
       "    </tr>\n",
       "  </thead>\n",
       "  <tbody>\n",
       "    <tr>\n",
       "      <th>0</th>\n",
       "      <td>1</td>\n",
       "      <td>4</td>\n",
       "      <td>4</td>\n",
       "      <td>2</td>\n",
       "      <td>1</td>\n",
       "      <td>0</td>\n",
       "      <td>7</td>\n",
       "      <td>0</td>\n",
       "      <td>0</td>\n",
       "      <td>15</td>\n",
       "      <td>16</td>\n",
       "      <td>2</td>\n",
       "      <td>20</td>\n",
       "      <td>1</td>\n",
       "      <td>1</td>\n",
       "      <td>1</td>\n",
       "      <td>2</td>\n",
       "    </tr>\n",
       "    <tr>\n",
       "      <th>1</th>\n",
       "      <td>1</td>\n",
       "      <td>4</td>\n",
       "      <td>4</td>\n",
       "      <td>2</td>\n",
       "      <td>1</td>\n",
       "      <td>0</td>\n",
       "      <td>7</td>\n",
       "      <td>0</td>\n",
       "      <td>0</td>\n",
       "      <td>20</td>\n",
       "      <td>20</td>\n",
       "      <td>3</td>\n",
       "      <td>25</td>\n",
       "      <td>1</td>\n",
       "      <td>1</td>\n",
       "      <td>1</td>\n",
       "      <td>2</td>\n",
       "    </tr>\n",
       "    <tr>\n",
       "      <th>2</th>\n",
       "      <td>1</td>\n",
       "      <td>4</td>\n",
       "      <td>4</td>\n",
       "      <td>2</td>\n",
       "      <td>1</td>\n",
       "      <td>0</td>\n",
       "      <td>7</td>\n",
       "      <td>0</td>\n",
       "      <td>0</td>\n",
       "      <td>10</td>\n",
       "      <td>7</td>\n",
       "      <td>0</td>\n",
       "      <td>30</td>\n",
       "      <td>0</td>\n",
       "      <td>0</td>\n",
       "      <td>0</td>\n",
       "      <td>1</td>\n",
       "    </tr>\n",
       "    <tr>\n",
       "      <th>3</th>\n",
       "      <td>1</td>\n",
       "      <td>4</td>\n",
       "      <td>4</td>\n",
       "      <td>2</td>\n",
       "      <td>1</td>\n",
       "      <td>0</td>\n",
       "      <td>7</td>\n",
       "      <td>0</td>\n",
       "      <td>0</td>\n",
       "      <td>30</td>\n",
       "      <td>25</td>\n",
       "      <td>5</td>\n",
       "      <td>35</td>\n",
       "      <td>0</td>\n",
       "      <td>0</td>\n",
       "      <td>0</td>\n",
       "      <td>1</td>\n",
       "    </tr>\n",
       "    <tr>\n",
       "      <th>4</th>\n",
       "      <td>1</td>\n",
       "      <td>4</td>\n",
       "      <td>4</td>\n",
       "      <td>2</td>\n",
       "      <td>1</td>\n",
       "      <td>0</td>\n",
       "      <td>7</td>\n",
       "      <td>0</td>\n",
       "      <td>0</td>\n",
       "      <td>40</td>\n",
       "      <td>50</td>\n",
       "      <td>12</td>\n",
       "      <td>50</td>\n",
       "      <td>0</td>\n",
       "      <td>0</td>\n",
       "      <td>0</td>\n",
       "      <td>2</td>\n",
       "    </tr>\n",
       "  </tbody>\n",
       "</table>\n",
       "</div>"
      ],
      "text/plain": [
       "   gender  NationalITy  PlaceofBirth  StageID  GradeID  SectionID  Topic  \\\n",
       "0       1            4             4        2        1          0      7   \n",
       "1       1            4             4        2        1          0      7   \n",
       "2       1            4             4        2        1          0      7   \n",
       "3       1            4             4        2        1          0      7   \n",
       "4       1            4             4        2        1          0      7   \n",
       "\n",
       "   Semester  Relation  raisedhands  VisITedResources  AnnouncementsView  \\\n",
       "0         0         0           15                16                  2   \n",
       "1         0         0           20                20                  3   \n",
       "2         0         0           10                 7                  0   \n",
       "3         0         0           30                25                  5   \n",
       "4         0         0           40                50                 12   \n",
       "\n",
       "   Discussion  ParentAnsweringSurvey  ParentschoolSatisfaction  \\\n",
       "0          20                      1                         1   \n",
       "1          25                      1                         1   \n",
       "2          30                      0                         0   \n",
       "3          35                      0                         0   \n",
       "4          50                      0                         0   \n",
       "\n",
       "   StudentAbsenceDays  Class  \n",
       "0                   1      2  \n",
       "1                   1      2  \n",
       "2                   0      1  \n",
       "3                   0      1  \n",
       "4                   0      2  "
      ]
     },
     "execution_count": 102,
     "metadata": {},
     "output_type": "execute_result"
    }
   ],
   "source": [
    "Features.head()"
   ]
  },
  {
   "cell_type": "markdown",
   "metadata": {},
   "source": [
    "#### Dividindo os dados em treino e teste"
   ]
  },
  {
   "cell_type": "code",
   "execution_count": 112,
   "metadata": {},
   "outputs": [],
   "source": [
    "from sklearn.model_selection import train_test_split"
   ]
  },
  {
   "cell_type": "code",
   "execution_count": 113,
   "metadata": {},
   "outputs": [],
   "source": [
    "X_train, X_test, y_train, y_test = train_test_split(df_edu.drop('Class',axis=1),df_edu['Class'],test_size=0.3,random_state=0)"
   ]
  },
  {
   "cell_type": "markdown",
   "metadata": {},
   "source": [
    "#### Verificando a forma dos dados"
   ]
  },
  {
   "cell_type": "code",
   "execution_count": 114,
   "metadata": {},
   "outputs": [
    {
     "data": {
      "text/plain": [
       "((336, 16), (144, 16))"
      ]
     },
     "execution_count": 114,
     "metadata": {},
     "output_type": "execute_result"
    }
   ],
   "source": [
    "X_train.shape,X_test.shape"
   ]
  },
  {
   "cell_type": "code",
   "execution_count": 116,
   "metadata": {},
   "outputs": [
    {
     "data": {
      "text/plain": [
       "((336,), (144,))"
      ]
     },
     "execution_count": 116,
     "metadata": {},
     "output_type": "execute_result"
    }
   ],
   "source": [
    "y_train.shape,y_test.shape"
   ]
  },
  {
   "cell_type": "markdown",
   "metadata": {},
   "source": [
    "#### Instânciando o objeto classificador"
   ]
  },
  {
   "cell_type": "code",
   "execution_count": 117,
   "metadata": {},
   "outputs": [],
   "source": [
    "random_clf = RandomForestClassifier()"
   ]
  },
  {
   "cell_type": "markdown",
   "metadata": {},
   "source": [
    "#### Parâmetros do  objeto RandomForestClassifier\n",
    "* <span style=\"color:red\">n_estimators: número de árvores que serão criadas na floresta.</span>\n",
    "* <span style=\"color:red\"> bootstrap: se será considerado o bootstrap dataset durante a criação das árvores.</span>\n",
    "* <span style=\"color:red\"> max_features: número total de features que as árvores serão criadas.</span>\n",
    "* criterion: medida de qualidade da divisão.\n",
    "* splitter: estratégia utilizada para dividir o nó de decisão.\n",
    "* max_depth: profundidade máxima da árvore.\n",
    "* min_samples_split: número de amostras mínimas para considerar um nó para divisão.\n",
    "* min_samples_leaf: número de amostras mínimas no nível folha."
   ]
  },
  {
   "cell_type": "markdown",
   "metadata": {},
   "source": [
    "#### Treinando o modelo Random Forest"
   ]
  },
  {
   "cell_type": "code",
   "execution_count": 118,
   "metadata": {},
   "outputs": [
    {
     "data": {
      "text/plain": [
       "RandomForestClassifier(bootstrap=True, class_weight=None, criterion='gini',\n",
       "            max_depth=None, max_features='auto', max_leaf_nodes=None,\n",
       "            min_impurity_decrease=0.0, min_impurity_split=None,\n",
       "            min_samples_leaf=1, min_samples_split=2,\n",
       "            min_weight_fraction_leaf=0.0, n_estimators=10, n_jobs=1,\n",
       "            oob_score=False, random_state=None, verbose=0,\n",
       "            warm_start=False)"
      ]
     },
     "execution_count": 118,
     "metadata": {},
     "output_type": "execute_result"
    }
   ],
   "source": [
    "random_clf.fit(X_train,y_train)"
   ]
  },
  {
   "cell_type": "markdown",
   "metadata": {},
   "source": [
    "#### Predizendo as classes a partir do modelo treinado utilizando o conjunto de teste"
   ]
  },
  {
   "cell_type": "code",
   "execution_count": 119,
   "metadata": {},
   "outputs": [],
   "source": [
    "resultado = random_clf.predict(X_test)"
   ]
  },
  {
   "cell_type": "code",
   "execution_count": 120,
   "metadata": {},
   "outputs": [
    {
     "data": {
      "text/plain": [
       "array([2, 2, 1, 2, 2, 2, 0, 1, 1, 1, 0, 2, 0, 1, 2, 2, 2, 1, 1, 0, 1, 0,\n",
       "       2, 2, 2, 2, 0, 2, 2, 1, 2, 1, 0, 2, 2, 2, 0, 0, 0, 2, 2, 1, 2, 0,\n",
       "       2, 2, 0, 2, 1, 1, 2, 0, 0, 1, 0, 2, 1, 1, 0, 2, 2, 2, 2, 0, 0, 2,\n",
       "       1, 2, 1, 1, 1, 1, 0, 1, 2, 1, 2, 1, 2, 1, 0, 2, 2, 1, 1, 0, 2, 0,\n",
       "       2, 0, 2, 0, 0, 0, 2, 2, 1, 0, 1, 2, 1, 0, 2, 1, 2, 2, 1, 0, 1, 2,\n",
       "       1, 2, 1, 1, 0, 2, 1, 2, 2, 0, 2, 2, 0, 2, 2, 2, 0, 2, 1, 2, 0, 1,\n",
       "       0, 1, 2, 0, 2, 2, 2, 0, 2, 2, 2, 0])"
      ]
     },
     "execution_count": 120,
     "metadata": {},
     "output_type": "execute_result"
    }
   ],
   "source": [
    "resultado"
   ]
  },
  {
   "cell_type": "markdown",
   "metadata": {},
   "source": [
    "#### Métricas de Validação"
   ]
  },
  {
   "cell_type": "code",
   "execution_count": 121,
   "metadata": {},
   "outputs": [
    {
     "name": "stdout",
     "output_type": "stream",
     "text": [
      "             precision    recall  f1-score   support\n",
      "\n",
      "          0       0.66      0.64      0.65        39\n",
      "          1       0.80      0.94      0.86        34\n",
      "          2       0.76      0.70      0.73        71\n",
      "\n",
      "avg / total       0.74      0.74      0.74       144\n",
      "\n"
     ]
    }
   ],
   "source": [
    "from sklearn import metrics\n",
    "print(metrics.classification_report(y_test,resultado))"
   ]
  },
  {
   "cell_type": "markdown",
   "metadata": {},
   "source": [
    "#### Verificando as features mais importantes para o modelo treinado"
   ]
  },
  {
   "cell_type": "code",
   "execution_count": 122,
   "metadata": {},
   "outputs": [
    {
     "data": {
      "text/plain": [
       "array([0.02784434, 0.04756115, 0.027154  , 0.0211159 , 0.03781271,\n",
       "       0.02349588, 0.04420793, 0.00824017, 0.04241965, 0.12269797,\n",
       "       0.16543874, 0.13086617, 0.08907242, 0.04494746, 0.02295346,\n",
       "       0.14417206])"
      ]
     },
     "execution_count": 122,
     "metadata": {},
     "output_type": "execute_result"
    }
   ],
   "source": [
    "random_clf.feature_importances_"
   ]
  },
  {
   "cell_type": "code",
   "execution_count": 124,
   "metadata": {},
   "outputs": [],
   "source": [
    "feature_imp = pd.Series(random_clf.feature_importances_,index=X_train.columns).sort_values(ascending=False)"
   ]
  },
  {
   "cell_type": "code",
   "execution_count": 125,
   "metadata": {},
   "outputs": [
    {
     "data": {
      "text/plain": [
       "VisITedResources            0.165439\n",
       "StudentAbsenceDays          0.144172\n",
       "AnnouncementsView           0.130866\n",
       "raisedhands                 0.122698\n",
       "Discussion                  0.089072\n",
       "NationalITy                 0.047561\n",
       "ParentAnsweringSurvey       0.044947\n",
       "Topic                       0.044208\n",
       "Relation                    0.042420\n",
       "GradeID                     0.037813\n",
       "gender                      0.027844\n",
       "PlaceofBirth                0.027154\n",
       "SectionID                   0.023496\n",
       "ParentschoolSatisfaction    0.022953\n",
       "StageID                     0.021116\n",
       "Semester                    0.008240\n",
       "dtype: float64"
      ]
     },
     "execution_count": 125,
     "metadata": {},
     "output_type": "execute_result"
    }
   ],
   "source": [
    "feature_imp"
   ]
  },
  {
   "cell_type": "markdown",
   "metadata": {},
   "source": [
    "#### Features mais importantes de forma gráfica"
   ]
  },
  {
   "cell_type": "code",
   "execution_count": 126,
   "metadata": {},
   "outputs": [],
   "source": [
    "def visualiza_features_importantes(features_lista):\n",
    "    %matplotlib inline\n",
    "\n",
    "    plt.figure(figsize=(16,8))\n",
    "    sns.barplot(x=features_lista, y=features_lista.index)\n",
    "\n",
    "    plt.xlabel('Feature Importance Score')\n",
    "    plt.ylabel('Features')\n",
    "    plt.title(\"Visualizing Important Features\")\n",
    "    plt.show()"
   ]
  },
  {
   "cell_type": "code",
   "execution_count": 127,
   "metadata": {},
   "outputs": [
    {
     "data": {
      "image/png": "[encoded data removed]",
      "text/plain": [
       "<Figure size 1152x576 with 1 Axes>"
      ]
     },
     "metadata": {},
     "output_type": "display_data"
    }
   ],
   "source": [
    "visualiza_features_importantes(feature_imp)"
   ]
  },
  {
   "cell_type": "markdown",
   "metadata": {},
   "source": [
    "#### Selecionando apenas as features com importancia acima de um determinado score."
   ]
  },
  {
   "cell_type": "code",
   "execution_count": 128,
   "metadata": {},
   "outputs": [
    {
     "name": "stdout",
     "output_type": "stream",
     "text": [
      "VisITedResources:\t0.16543873795060154\n",
      "StudentAbsenceDays:\t0.1441720602085234\n",
      "AnnouncementsView:\t0.13086616966787562\n",
      "raisedhands:\t0.12269797277178016\n",
      "Discussion:\t0.08907242283969755\n",
      "NationalITy:\t0.047561151025259485\n",
      "ParentAnsweringSurvey:\t0.0449474567179747\n",
      "Topic:\t0.04420793025855516\n",
      "Relation:\t0.042419645804640055\n",
      "GradeID:\t0.03781271374442373\n"
     ]
    }
   ],
   "source": [
    "features_selecionadas = []\n",
    "for feature,importancia in feature_imp.iteritems():\n",
    "    if importancia > 0.03:\n",
    "        print(\"{}:\\t{}\".format(feature, importancia))\n",
    "        features_selecionadas.append(feature)"
   ]
  },
  {
   "cell_type": "markdown",
   "metadata": {},
   "source": [
    "#### Separando os dados em treino e teste utilizando apenas as features selecionadas"
   ]
  },
  {
   "cell_type": "code",
   "execution_count": 129,
   "metadata": {},
   "outputs": [],
   "source": [
    "X_train, X_test, y_train, y_test = train_test_split(\n",
    "    df_edu[features_selecionadas],\n",
    "    df_edu['Class'],\n",
    "    test_size=0.3,\n",
    "    random_state=0\n",
    ")"
   ]
  },
  {
   "cell_type": "markdown",
   "metadata": {},
   "source": [
    "#### Verificando a nova forma dos dados"
   ]
  },
  {
   "cell_type": "code",
   "execution_count": 130,
   "metadata": {},
   "outputs": [
    {
     "data": {
      "text/plain": [
       "((336, 10), (144, 10))"
      ]
     },
     "execution_count": 130,
     "metadata": {},
     "output_type": "execute_result"
    }
   ],
   "source": [
    "X_train.shape,X_test.shape"
   ]
  },
  {
   "cell_type": "code",
   "execution_count": 131,
   "metadata": {},
   "outputs": [
    {
     "data": {
      "text/plain": [
       "((336,), (144,))"
      ]
     },
     "execution_count": 131,
     "metadata": {},
     "output_type": "execute_result"
    }
   ],
   "source": [
    "y_train.shape,y_test.shape"
   ]
  },
  {
   "cell_type": "markdown",
   "metadata": {},
   "source": [
    "#### Instânciando o objeto classificador"
   ]
  },
  {
   "cell_type": "code",
   "execution_count": 132,
   "metadata": {},
   "outputs": [],
   "source": [
    "random_clf = RandomForestClassifier(random_state=0)"
   ]
  },
  {
   "cell_type": "markdown",
   "metadata": {},
   "source": [
    "#### Treinando novamente o modelo Random Forest"
   ]
  },
  {
   "cell_type": "code",
   "execution_count": 133,
   "metadata": {},
   "outputs": [
    {
     "data": {
      "text/plain": [
       "RandomForestClassifier(bootstrap=True, class_weight=None, criterion='gini',\n",
       "            max_depth=None, max_features='auto', max_leaf_nodes=None,\n",
       "            min_impurity_decrease=0.0, min_impurity_split=None,\n",
       "            min_samples_leaf=1, min_samples_split=2,\n",
       "            min_weight_fraction_leaf=0.0, n_estimators=10, n_jobs=1,\n",
       "            oob_score=False, random_state=0, verbose=0, warm_start=False)"
      ]
     },
     "execution_count": 133,
     "metadata": {},
     "output_type": "execute_result"
    }
   ],
   "source": [
    "random_clf.fit(X_train,y_train)"
   ]
  },
  {
   "cell_type": "markdown",
   "metadata": {},
   "source": [
    "#### Executando o algoritmo de arvore de decisão com o conjunto de teste"
   ]
  },
  {
   "cell_type": "code",
   "execution_count": 134,
   "metadata": {},
   "outputs": [
    {
     "data": {
      "text/plain": [
       "array([2, 1, 1, 1, 2, 2, 0, 1, 1, 2, 0, 1, 2, 1, 2, 0, 0, 1, 1, 0, 1, 0,\n",
       "       2, 2, 2, 0, 2, 2, 2, 1, 2, 1, 0, 2, 2, 2, 0, 0, 2, 2, 2, 1, 2, 0,\n",
       "       2, 2, 0, 2, 1, 1, 2, 2, 0, 1, 0, 2, 1, 1, 0, 2, 2, 2, 0, 0, 0, 2,\n",
       "       2, 2, 1, 1, 1, 1, 0, 1, 0, 1, 2, 1, 2, 1, 0, 2, 0, 1, 1, 0, 2, 0,\n",
       "       2, 0, 2, 0, 0, 0, 2, 0, 1, 0, 1, 0, 1, 0, 2, 1, 2, 0, 1, 0, 1, 2,\n",
       "       1, 1, 1, 1, 0, 2, 1, 0, 2, 0, 2, 2, 2, 2, 2, 0, 2, 2, 2, 2, 0, 2,\n",
       "       0, 2, 2, 0, 2, 2, 2, 0, 2, 2, 2, 0])"
      ]
     },
     "execution_count": 134,
     "metadata": {},
     "output_type": "execute_result"
    }
   ],
   "source": [
    "resultado = random_clf.predict(X_test)\n",
    "resultado"
   ]
  },
  {
   "cell_type": "markdown",
   "metadata": {},
   "source": [
    "#### Métricas de Validação"
   ]
  },
  {
   "cell_type": "code",
   "execution_count": 135,
   "metadata": {},
   "outputs": [
    {
     "name": "stdout",
     "output_type": "stream",
     "text": [
      "             precision    recall  f1-score   support\n",
      "\n",
      "          0       0.74      0.82      0.78        39\n",
      "          1       0.85      0.97      0.90        34\n",
      "          2       0.87      0.76      0.81        71\n",
      "\n",
      "avg / total       0.83      0.83      0.83       144\n",
      "\n"
     ]
    }
   ],
   "source": [
    "from sklearn import metrics\n",
    "print(metrics.classification_report(y_test,resultado))"
   ]
  },
  {
   "cell_type": "markdown",
   "metadata": {},
   "source": [
    "## Explorando as árvores da Floresta gerada"
   ]
  },
  {
   "cell_type": "code",
   "execution_count": 136,
   "metadata": {
    "scrolled": false
   },
   "outputs": [
    {
     "name": "stdout",
     "output_type": "stream",
     "text": [
      "Número de árvores da floresta: 10\n",
      "Árvores floresta gerada:\n",
      "\n",
      "Numero de nós: 131\n",
      "Profundidade da árvore: 12\n",
      "Features importantes: [0.3130636  0.18447141 0.06116519 0.06027714 0.06001637 0.03912715\n",
      " 0.08559454 0.09546845 0.06224878 0.03856738]\n",
      "\n",
      "Objeto: DecisionTreeClassifier(class_weight=None, criterion='gini', max_depth=None,\n",
      "            max_features='auto', max_leaf_nodes=None,\n",
      "            min_impurity_decrease=0.0, min_impurity_split=None,\n",
      "            min_samples_leaf=1, min_samples_split=2,\n",
      "            min_weight_fraction_leaf=0.0, presort=False,\n",
      "            random_state=209652396, splitter='best')\n",
      "\n",
      "Numero de nós: 131\n",
      "Profundidade da árvore: 9\n",
      "Features importantes: [0.29675579 0.04247732 0.11854316 0.23198744 0.06565641 0.04628071\n",
      " 0.10337816 0.01991798 0.04406178 0.03094125]\n",
      "\n",
      "Objeto: DecisionTreeClassifier(class_weight=None, criterion='gini', max_depth=None,\n",
      "            max_features='auto', max_leaf_nodes=None,\n",
      "            min_impurity_decrease=0.0, min_impurity_split=None,\n",
      "            min_samples_leaf=1, min_samples_split=2,\n",
      "            min_weight_fraction_leaf=0.0, presort=False,\n",
      "            random_state=398764591, splitter='best')\n",
      "\n",
      "Numero de nós: 113\n",
      "Profundidade da árvore: 10\n",
      "Features importantes: [0.18356513 0.24500054 0.08389805 0.12684955 0.19995857 0.03405087\n",
      " 0.00864243 0.02534388 0.03967535 0.05301563]\n",
      "\n",
      "Objeto: DecisionTreeClassifier(class_weight=None, criterion='gini', max_depth=None,\n",
      "            max_features='auto', max_leaf_nodes=None,\n",
      "            min_impurity_decrease=0.0, min_impurity_split=None,\n",
      "            min_samples_leaf=1, min_samples_split=2,\n",
      "            min_weight_fraction_leaf=0.0, presort=False,\n",
      "            random_state=924231285, splitter='best')\n",
      "\n",
      "Numero de nós: 157\n",
      "Profundidade da árvore: 12\n",
      "Features importantes: [0.15278832 0.03732512 0.0981027  0.32135612 0.10749057 0.05649077\n",
      " 0.08510215 0.03251812 0.05127054 0.05755558]\n",
      "\n",
      "Objeto: DecisionTreeClassifier(class_weight=None, criterion='gini', max_depth=None,\n",
      "            max_features='auto', max_leaf_nodes=None,\n",
      "            min_impurity_decrease=0.0, min_impurity_split=None,\n",
      "            min_samples_leaf=1, min_samples_split=2,\n",
      "            min_weight_fraction_leaf=0.0, presort=False,\n",
      "            random_state=1478610112, splitter='best')\n",
      "\n",
      "Numero de nós: 141\n",
      "Profundidade da árvore: 9\n",
      "Features importantes: [0.19254938 0.05851129 0.07895191 0.31395834 0.1337695  0.04662625\n",
      " 0.0258128  0.07749959 0.02668636 0.04563458]\n",
      "\n",
      "Objeto: DecisionTreeClassifier(class_weight=None, criterion='gini', max_depth=None,\n",
      "            max_features='auto', max_leaf_nodes=None,\n",
      "            min_impurity_decrease=0.0, min_impurity_split=None,\n",
      "            min_samples_leaf=1, min_samples_split=2,\n",
      "            min_weight_fraction_leaf=0.0, presort=False,\n",
      "            random_state=441365315, splitter='best')\n",
      "\n",
      "Numero de nós: 133\n",
      "Profundidade da árvore: 12\n",
      "Features importantes: [0.10798035 0.1721307  0.07709197 0.20780307 0.08314278 0.04662345\n",
      " 0.10072126 0.08548157 0.10619048 0.01283437]\n",
      "\n",
      "Objeto: DecisionTreeClassifier(class_weight=None, criterion='gini', max_depth=None,\n",
      "            max_features='auto', max_leaf_nodes=None,\n",
      "            min_impurity_decrease=0.0, min_impurity_split=None,\n",
      "            min_samples_leaf=1, min_samples_split=2,\n",
      "            min_weight_fraction_leaf=0.0, presort=False,\n",
      "            random_state=1537364731, splitter='best')\n",
      "\n",
      "Numero de nós: 145\n",
      "Profundidade da árvore: 11\n",
      "Features importantes: [0.13408722 0.25579747 0.16974251 0.11229646 0.05583239 0.04098706\n",
      " 0.02985889 0.08371337 0.04654842 0.07113622]\n",
      "\n",
      "Objeto: DecisionTreeClassifier(class_weight=None, criterion='gini', max_depth=None,\n",
      "            max_features='auto', max_leaf_nodes=None,\n",
      "            min_impurity_decrease=0.0, min_impurity_split=None,\n",
      "            min_samples_leaf=1, min_samples_split=2,\n",
      "            min_weight_fraction_leaf=0.0, presort=False,\n",
      "            random_state=192771779, splitter='best')\n",
      "\n",
      "Numero de nós: 131\n",
      "Profundidade da árvore: 11\n",
      "Features importantes: [0.16380824 0.1913604  0.21497746 0.12513048 0.07769237 0.03727201\n",
      " 0.01510393 0.07290703 0.01010605 0.09164204]\n",
      "\n",
      "Objeto: DecisionTreeClassifier(class_weight=None, criterion='gini', max_depth=None,\n",
      "            max_features='auto', max_leaf_nodes=None,\n",
      "            min_impurity_decrease=0.0, min_impurity_split=None,\n",
      "            min_samples_leaf=1, min_samples_split=2,\n",
      "            min_weight_fraction_leaf=0.0, presort=False,\n",
      "            random_state=1491434855, splitter='best')\n",
      "\n",
      "Numero de nós: 143\n",
      "Profundidade da árvore: 14\n",
      "Features importantes: [0.21942196 0.0453963  0.12193111 0.19430225 0.15165397 0.05271897\n",
      " 0.0810038  0.00976432 0.06870534 0.05510198]\n",
      "\n",
      "Objeto: DecisionTreeClassifier(class_weight=None, criterion='gini', max_depth=None,\n",
      "            max_features='auto', max_leaf_nodes=None,\n",
      "            min_impurity_decrease=0.0, min_impurity_split=None,\n",
      "            min_samples_leaf=1, min_samples_split=2,\n",
      "            min_weight_fraction_leaf=0.0, presort=False,\n",
      "            random_state=1819583497, splitter='best')\n",
      "\n",
      "Numero de nós: 125\n",
      "Profundidade da árvore: 11\n",
      "Features importantes: [0.19155688 0.12023844 0.27803712 0.09289009 0.06664668 0.02804439\n",
      " 0.03609746 0.0647404  0.07957703 0.04217151]\n",
      "\n",
      "Objeto: DecisionTreeClassifier(class_weight=None, criterion='gini', max_depth=None,\n",
      "            max_features='auto', max_leaf_nodes=None,\n",
      "            min_impurity_decrease=0.0, min_impurity_split=None,\n",
      "            min_samples_leaf=1, min_samples_split=2,\n",
      "            min_weight_fraction_leaf=0.0, presort=False,\n",
      "            random_state=530702035, splitter='best')\n"
     ]
    }
   ],
   "source": [
    "print(\"Número de árvores da floresta: {}\".format(len(random_clf.estimators_)))\n",
    "print(\"Árvores floresta gerada:\")\n",
    "for tree in random_clf.estimators_:\n",
    "    print(\"\\nNumero de nós: {}\".format(tree.tree_.node_count))\n",
    "    print(\"Profundidade da árvore: {}\".format(tree.tree_.max_depth))\n",
    "    print(\"Features importantes: {}\".format(tree.feature_importances_))\n",
    "    print(\"\\nObjeto: {}\".format(tree))\n"
   ]
  },
  {
   "cell_type": "markdown",
   "metadata": {},
   "source": [
    "#### Selecionando uma árvore da floresta"
   ]
  },
  {
   "cell_type": "code",
   "execution_count": 137,
   "metadata": {},
   "outputs": [],
   "source": [
    "tree0 = random_clf.estimators_[0]"
   ]
  },
  {
   "cell_type": "markdown",
   "metadata": {},
   "source": [
    "#### Visualizando de forma gráfica"
   ]
  },
  {
   "cell_type": "code",
   "execution_count": 138,
   "metadata": {},
   "outputs": [
    {
     "data": {
      "image/svg+xml": [
       "<?xml version=\"1.0\" encoding=\"UTF-8\" standalone=\"no\"?>\n",
       "<!DOCTYPE svg PUBLIC \"-//W3C//DTD SVG 1.1//EN\"\n",
       " \"http://www.w3.org/Graphics/SVG/1.1/DTD/svg11.dtd\">\n",
       "<!-- Generated by graphviz version 2.30.1 (20170916.1124)\n",
       " -->\n",
       "<!-- Title: Tree Pages: 1 -->\n",
       "<svg width=\"817pt\" height=\"434pt\"\n",
       " viewBox=\"0.00 0.00 817.00 434.00\" xmlns=\"http://www.w3.org/2000/svg\" xmlns:xlink=\"http://www.w3.org/1999/xlink\">\n",
       "<g id=\"graph0\" class=\"graph\" transform=\"scale(1 1) rotate(0) translate(4 430)\">\n",
       "<title>Tree</title>\n",
       "<polygon fill=\"white\" stroke=\"white\" points=\"-4,5 -4,-430 814,-430 814,5 -4,5\"/>\n",
       "<!-- 0 -->\n",
       "<g id=\"node1\" class=\"node\"><title>0</title>\n",
       "<path fill=\"#8139e5\" fill-opacity=\"0.152941\" stroke=\"black\" d=\"M490.25,-425.5C490.25,-425.5 317.75,-425.5 317.75,-425.5 311.75,-425.5 305.75,-419.5 305.75,-413.5 305.75,-413.5 305.75,-344.5 305.75,-344.5 305.75,-338.5 311.75,-332.5 317.75,-332.5 317.75,-332.5 490.25,-332.5 490.25,-332.5 496.25,-332.5 502.25,-338.5 502.25,-344.5 502.25,-344.5 502.25,-413.5 502.25,-413.5 502.25,-419.5 496.25,-425.5 490.25,-425.5\"/>\n",
       "<text text-anchor=\"start\" x=\"379.5\" y=\"-411.3\" font-family=\"Helvetica,sans-Serif\" font-size=\"14.00\">node #0</text>\n",
       "<text text-anchor=\"start\" x=\"314\" y=\"-397.3\" font-family=\"Helvetica,sans-Serif\" font-size=\"14.00\">ParentAnsweringSurvey ≤ 0.5</text>\n",
       "<text text-anchor=\"start\" x=\"368.5\" y=\"-383.3\" font-family=\"Helvetica,sans-Serif\" font-size=\"14.00\">gini = 0.657</text>\n",
       "<text text-anchor=\"start\" x=\"347\" y=\"-369.3\" font-family=\"Helvetica,sans-Serif\" font-size=\"14.00\">samples = 100.0%</text>\n",
       "<text text-anchor=\"start\" x=\"321.5\" y=\"-355.3\" font-family=\"Helvetica,sans-Serif\" font-size=\"14.00\">value = [0.307, 0.28, 0.414]</text>\n",
       "<text text-anchor=\"start\" x=\"376.5\" y=\"-341.3\" font-family=\"Helvetica,sans-Serif\" font-size=\"14.00\">class = 2</text>\n",
       "</g>\n",
       "<!-- 1 -->\n",
       "<g id=\"node2\" class=\"node\"><title>1</title>\n",
       "<path fill=\"#39e581\" fill-opacity=\"0.090196\" stroke=\"black\" d=\"M383.25,-295.5C383.25,-295.5 218.75,-295.5 218.75,-295.5 212.75,-295.5 206.75,-289.5 206.75,-283.5 206.75,-283.5 206.75,-214.5 206.75,-214.5 206.75,-208.5 212.75,-202.5 218.75,-202.5 218.75,-202.5 383.25,-202.5 383.25,-202.5 389.25,-202.5 395.25,-208.5 395.25,-214.5 395.25,-214.5 395.25,-283.5 395.25,-283.5 395.25,-289.5 389.25,-295.5 383.25,-295.5\"/>\n",
       "<text text-anchor=\"start\" x=\"276.5\" y=\"-281.3\" font-family=\"Helvetica,sans-Serif\" font-size=\"14.00\">node #1</text>\n",
       "<text text-anchor=\"start\" x=\"224.5\" y=\"-267.3\" font-family=\"Helvetica,sans-Serif\" font-size=\"14.00\">VisITedResources ≤ 40.5</text>\n",
       "<text text-anchor=\"start\" x=\"273\" y=\"-253.3\" font-family=\"Helvetica,sans-Serif\" font-size=\"14.00\">gini = 0.6</text>\n",
       "<text text-anchor=\"start\" x=\"248\" y=\"-239.3\" font-family=\"Helvetica,sans-Serif\" font-size=\"14.00\">samples = 47.2%</text>\n",
       "<text text-anchor=\"start\" x=\"215\" y=\"-225.3\" font-family=\"Helvetica,sans-Serif\" font-size=\"14.00\">value = [0.124, 0.464, 0.412]</text>\n",
       "<text text-anchor=\"start\" x=\"273.5\" y=\"-211.3\" font-family=\"Helvetica,sans-Serif\" font-size=\"14.00\">class = 1</text>\n",
       "</g>\n",
       "<!-- 0&#45;&gt;1 -->\n",
       "<g id=\"edge1\" class=\"edge\"><title>0&#45;&gt;1</title>\n",
       "<path fill=\"none\" stroke=\"black\" d=\"M367.106,-332.151C359.619,-322.847 351.685,-312.987 344.008,-303.447\"/>\n",
       "<polygon fill=\"black\" stroke=\"black\" points=\"346.633,-301.126 337.637,-295.529 341.179,-305.514 346.633,-301.126\"/>\n",
       "<text text-anchor=\"middle\" x=\"334.947\" y=\"-316.684\" font-family=\"Helvetica,sans-Serif\" font-size=\"14.00\">True</text>\n",
       "</g>\n",
       "<!-- 60 -->\n",
       "<g id=\"node9\" class=\"node\"><title>60</title>\n",
       "<path fill=\"#e58139\" fill-opacity=\"0.074510\" stroke=\"black\" d=\"M590.25,-295.5C590.25,-295.5 425.75,-295.5 425.75,-295.5 419.75,-295.5 413.75,-289.5 413.75,-283.5 413.75,-283.5 413.75,-214.5 413.75,-214.5 413.75,-208.5 419.75,-202.5 425.75,-202.5 425.75,-202.5 590.25,-202.5 590.25,-202.5 596.25,-202.5 602.25,-208.5 602.25,-214.5 602.25,-214.5 602.25,-283.5 602.25,-283.5 602.25,-289.5 596.25,-295.5 590.25,-295.5\"/>\n",
       "<text text-anchor=\"start\" x=\"479.5\" y=\"-281.3\" font-family=\"Helvetica,sans-Serif\" font-size=\"14.00\">node #60</text>\n",
       "<text text-anchor=\"start\" x=\"425.5\" y=\"-267.3\" font-family=\"Helvetica,sans-Serif\" font-size=\"14.00\">StudentAbsenceDays ≤ 0.5</text>\n",
       "<text text-anchor=\"start\" x=\"472.5\" y=\"-253.3\" font-family=\"Helvetica,sans-Serif\" font-size=\"14.00\">gini = 0.601</text>\n",
       "<text text-anchor=\"start\" x=\"455\" y=\"-239.3\" font-family=\"Helvetica,sans-Serif\" font-size=\"14.00\">samples = 52.8%</text>\n",
       "<text text-anchor=\"start\" x=\"422\" y=\"-225.3\" font-family=\"Helvetica,sans-Serif\" font-size=\"14.00\">value = [0.459, 0.126, 0.415]</text>\n",
       "<text text-anchor=\"start\" x=\"480.5\" y=\"-211.3\" font-family=\"Helvetica,sans-Serif\" font-size=\"14.00\">class = 0</text>\n",
       "</g>\n",
       "<!-- 0&#45;&gt;60 -->\n",
       "<g id=\"edge8\" class=\"edge\"><title>0&#45;&gt;60</title>\n",
       "<path fill=\"none\" stroke=\"black\" d=\"M441.253,-332.151C448.811,-322.847 456.823,-312.987 464.574,-303.447\"/>\n",
       "<polygon fill=\"black\" stroke=\"black\" points=\"467.418,-305.498 471.007,-295.529 461.985,-301.083 467.418,-305.498\"/>\n",
       "<text text-anchor=\"middle\" x=\"473.58\" y=\"-316.697\" font-family=\"Helvetica,sans-Serif\" font-size=\"14.00\">False</text>\n",
       "</g>\n",
       "<!-- 2 -->\n",
       "<g id=\"node3\" class=\"node\"><title>2</title>\n",
       "<path fill=\"#39e581\" fill-opacity=\"0.701961\" stroke=\"black\" d=\"M176.25,-165.5C176.25,-165.5 11.75,-165.5 11.75,-165.5 5.75,-165.5 -0.25,-159.5 -0.25,-153.5 -0.25,-153.5 -0.25,-84.5 -0.25,-84.5 -0.25,-78.5 5.75,-72.5 11.75,-72.5 11.75,-72.5 176.25,-72.5 176.25,-72.5 182.25,-72.5 188.25,-78.5 188.25,-84.5 188.25,-84.5 188.25,-153.5 188.25,-153.5 188.25,-159.5 182.25,-165.5 176.25,-165.5\"/>\n",
       "<text text-anchor=\"start\" x=\"69.5\" y=\"-151.3\" font-family=\"Helvetica,sans-Serif\" font-size=\"14.00\">node #2</text>\n",
       "<text text-anchor=\"start\" x=\"11.5\" y=\"-137.3\" font-family=\"Helvetica,sans-Serif\" font-size=\"14.00\">StudentAbsenceDays ≤ 0.5</text>\n",
       "<text text-anchor=\"start\" x=\"58.5\" y=\"-123.3\" font-family=\"Helvetica,sans-Serif\" font-size=\"14.00\">gini = 0.362</text>\n",
       "<text text-anchor=\"start\" x=\"41\" y=\"-109.3\" font-family=\"Helvetica,sans-Serif\" font-size=\"14.00\">samples = 26.9%</text>\n",
       "<text text-anchor=\"start\" x=\"8\" y=\"-95.3\" font-family=\"Helvetica,sans-Serif\" font-size=\"14.00\">value = [0.012, 0.767, 0.221]</text>\n",
       "<text text-anchor=\"start\" x=\"66.5\" y=\"-81.3\" font-family=\"Helvetica,sans-Serif\" font-size=\"14.00\">class = 1</text>\n",
       "</g>\n",
       "<!-- 1&#45;&gt;2 -->\n",
       "<g id=\"edge2\" class=\"edge\"><title>1&#45;&gt;2</title>\n",
       "<path fill=\"none\" stroke=\"black\" d=\"M227.145,-202.331C210.732,-192.182 193.233,-181.361 176.498,-171.013\"/>\n",
       "<polygon fill=\"black\" stroke=\"black\" points=\"178.173,-167.934 167.827,-165.651 174.491,-173.887 178.173,-167.934\"/>\n",
       "</g>\n",
       "<!-- 29 -->\n",
       "<g id=\"node6\" class=\"node\"><title>29</title>\n",
       "<path fill=\"#8139e5\" fill-opacity=\"0.529412\" stroke=\"black\" d=\"M383.25,-165.5C383.25,-165.5 218.75,-165.5 218.75,-165.5 212.75,-165.5 206.75,-159.5 206.75,-153.5 206.75,-153.5 206.75,-84.5 206.75,-84.5 206.75,-78.5 212.75,-72.5 218.75,-72.5 218.75,-72.5 383.25,-72.5 383.25,-72.5 389.25,-72.5 395.25,-78.5 395.25,-84.5 395.25,-84.5 395.25,-153.5 395.25,-153.5 395.25,-159.5 389.25,-165.5 383.25,-165.5\"/>\n",
       "<text text-anchor=\"start\" x=\"272.5\" y=\"-151.3\" font-family=\"Helvetica,sans-Serif\" font-size=\"14.00\">node #29</text>\n",
       "<text text-anchor=\"start\" x=\"243\" y=\"-137.3\" font-family=\"Helvetica,sans-Serif\" font-size=\"14.00\">raisedhands ≤ 79.5</text>\n",
       "<text text-anchor=\"start\" x=\"265.5\" y=\"-123.3\" font-family=\"Helvetica,sans-Serif\" font-size=\"14.00\">gini = 0.491</text>\n",
       "<text text-anchor=\"start\" x=\"248\" y=\"-109.3\" font-family=\"Helvetica,sans-Serif\" font-size=\"14.00\">samples = 20.3%</text>\n",
       "<text text-anchor=\"start\" x=\"215\" y=\"-95.3\" font-family=\"Helvetica,sans-Serif\" font-size=\"14.00\">value = [0.269, 0.075, 0.657]</text>\n",
       "<text text-anchor=\"start\" x=\"273.5\" y=\"-81.3\" font-family=\"Helvetica,sans-Serif\" font-size=\"14.00\">class = 2</text>\n",
       "</g>\n",
       "<!-- 1&#45;&gt;29 -->\n",
       "<g id=\"edge5\" class=\"edge\"><title>1&#45;&gt;29</title>\n",
       "<path fill=\"none\" stroke=\"black\" d=\"M301,-202.151C301,-193.592 301,-184.561 301,-175.742\"/>\n",
       "<polygon fill=\"black\" stroke=\"black\" points=\"304.5,-175.529 301,-165.529 297.5,-175.529 304.5,-175.529\"/>\n",
       "</g>\n",
       "<!-- 3 -->\n",
       "<g id=\"node4\" class=\"node\"><title>3</title>\n",
       "<path fill=\"#c0c0c0\" stroke=\"black\" d=\"M91,-36C91,-36 61,-36 61,-36 55,-36 49,-30 49,-24 49,-24 49,-12 49,-12 49,-6 55,-0 61,-0 61,-0 91,-0 91,-0 97,-0 103,-6 103,-12 103,-12 103,-24 103,-24 103,-30 97,-36 91,-36\"/>\n",
       "<text text-anchor=\"middle\" x=\"76\" y=\"-14.3\" font-family=\"Helvetica,sans-Serif\" font-size=\"14.00\">(...)</text>\n",
       "</g>\n",
       "<!-- 2&#45;&gt;3 -->\n",
       "<g id=\"edge3\" class=\"edge\"><title>2&#45;&gt;3</title>\n",
       "<path fill=\"none\" stroke=\"black\" d=\"M85.685,-72.2673C84.0709,-63.3901 82.4273,-54.3503 80.9634,-46.299\"/>\n",
       "<polygon fill=\"black\" stroke=\"black\" points=\"84.3926,-45.5934 79.1601,-36.3808 77.5055,-46.8456 84.3926,-45.5934\"/>\n",
       "</g>\n",
       "<!-- 22 -->\n",
       "<g id=\"node5\" class=\"node\"><title>22</title>\n",
       "<path fill=\"#c0c0c0\" stroke=\"black\" d=\"M163,-36C163,-36 133,-36 133,-36 127,-36 121,-30 121,-24 121,-24 121,-12 121,-12 121,-6 127,-0 133,-0 133,-0 163,-0 163,-0 169,-0 175,-6 175,-12 175,-12 175,-24 175,-24 175,-30 169,-36 163,-36\"/>\n",
       "<text text-anchor=\"middle\" x=\"148\" y=\"-14.3\" font-family=\"Helvetica,sans-Serif\" font-size=\"14.00\">(...)</text>\n",
       "</g>\n",
       "<!-- 2&#45;&gt;22 -->\n",
       "<g id=\"edge4\" class=\"edge\"><title>2&#45;&gt;22</title>\n",
       "<path fill=\"none\" stroke=\"black\" d=\"M118.945,-72.2673C124.005,-62.9911 129.161,-53.5374 133.698,-45.2195\"/>\n",
       "<polygon fill=\"black\" stroke=\"black\" points=\"136.804,-46.8358 138.52,-36.3808 130.658,-43.4838 136.804,-46.8358\"/>\n",
       "</g>\n",
       "<!-- 30 -->\n",
       "<g id=\"node7\" class=\"node\"><title>30</title>\n",
       "<path fill=\"#c0c0c0\" stroke=\"black\" d=\"M262,-36C262,-36 232,-36 232,-36 226,-36 220,-30 220,-24 220,-24 220,-12 220,-12 220,-6 226,-0 232,-0 232,-0 262,-0 262,-0 268,-0 274,-6 274,-12 274,-12 274,-24 274,-24 274,-30 268,-36 262,-36\"/>\n",
       "<text text-anchor=\"middle\" x=\"247\" y=\"-14.3\" font-family=\"Helvetica,sans-Serif\" font-size=\"14.00\">(...)</text>\n",
       "</g>\n",
       "<!-- 29&#45;&gt;30 -->\n",
       "<g id=\"edge6\" class=\"edge\"><title>29&#45;&gt;30</title>\n",
       "<path fill=\"none\" stroke=\"black\" d=\"M276.055,-72.2673C270.995,-62.9911 265.839,-53.5374 261.302,-45.2195\"/>\n",
       "<polygon fill=\"black\" stroke=\"black\" points=\"264.342,-43.4838 256.48,-36.3808 258.196,-46.8358 264.342,-43.4838\"/>\n",
       "</g>\n",
       "<!-- 49 -->\n",
       "<g id=\"node8\" class=\"node\"><title>49</title>\n",
       "<path fill=\"#c0c0c0\" stroke=\"black\" d=\"M334,-36C334,-36 304,-36 304,-36 298,-36 292,-30 292,-24 292,-24 292,-12 292,-12 292,-6 298,-0 304,-0 304,-0 334,-0 334,-0 340,-0 346,-6 346,-12 346,-12 346,-24 346,-24 346,-30 340,-36 334,-36\"/>\n",
       "<text text-anchor=\"middle\" x=\"319\" y=\"-14.3\" font-family=\"Helvetica,sans-Serif\" font-size=\"14.00\">(...)</text>\n",
       "</g>\n",
       "<!-- 29&#45;&gt;49 -->\n",
       "<g id=\"edge7\" class=\"edge\"><title>29&#45;&gt;49</title>\n",
       "<path fill=\"none\" stroke=\"black\" d=\"M309.315,-72.2673C310.929,-63.3901 312.573,-54.3503 314.037,-46.299\"/>\n",
       "<polygon fill=\"black\" stroke=\"black\" points=\"317.494,-46.8456 315.84,-36.3808 310.607,-45.5934 317.494,-46.8456\"/>\n",
       "</g>\n",
       "<!-- 61 -->\n",
       "<g id=\"node10\" class=\"node\"><title>61</title>\n",
       "<path fill=\"#8139e5\" fill-opacity=\"0.321569\" stroke=\"black\" d=\"M590.25,-165.5C590.25,-165.5 425.75,-165.5 425.75,-165.5 419.75,-165.5 413.75,-159.5 413.75,-153.5 413.75,-153.5 413.75,-84.5 413.75,-84.5 413.75,-78.5 419.75,-72.5 425.75,-72.5 425.75,-72.5 590.25,-72.5 590.25,-72.5 596.25,-72.5 602.25,-78.5 602.25,-84.5 602.25,-84.5 602.25,-153.5 602.25,-153.5 602.25,-159.5 596.25,-165.5 590.25,-165.5\"/>\n",
       "<text text-anchor=\"start\" x=\"479.5\" y=\"-151.3\" font-family=\"Helvetica,sans-Serif\" font-size=\"14.00\">node #61</text>\n",
       "<text text-anchor=\"start\" x=\"431.5\" y=\"-137.3\" font-family=\"Helvetica,sans-Serif\" font-size=\"14.00\">VisITedResources ≤ 61.0</text>\n",
       "<text text-anchor=\"start\" x=\"472.5\" y=\"-123.3\" font-family=\"Helvetica,sans-Serif\" font-size=\"14.00\">gini = 0.514</text>\n",
       "<text text-anchor=\"start\" x=\"455\" y=\"-109.3\" font-family=\"Helvetica,sans-Serif\" font-size=\"14.00\">samples = 17.0%</text>\n",
       "<text text-anchor=\"start\" x=\"422\" y=\"-95.3\" font-family=\"Helvetica,sans-Serif\" font-size=\"14.00\">value = [0.036, 0.382, 0.582]</text>\n",
       "<text text-anchor=\"start\" x=\"480.5\" y=\"-81.3\" font-family=\"Helvetica,sans-Serif\" font-size=\"14.00\">class = 2</text>\n",
       "</g>\n",
       "<!-- 60&#45;&gt;61 -->\n",
       "<g id=\"edge9\" class=\"edge\"><title>60&#45;&gt;61</title>\n",
       "<path fill=\"none\" stroke=\"black\" d=\"M508,-202.151C508,-193.592 508,-184.561 508,-175.742\"/>\n",
       "<polygon fill=\"black\" stroke=\"black\" points=\"511.5,-175.529 508,-165.529 504.5,-175.529 511.5,-175.529\"/>\n",
       "</g>\n",
       "<!-- 80 -->\n",
       "<g id=\"node13\" class=\"node\"><title>80</title>\n",
       "<path fill=\"#e58139\" fill-opacity=\"0.450980\" stroke=\"black\" d=\"M797.25,-165.5C797.25,-165.5 632.75,-165.5 632.75,-165.5 626.75,-165.5 620.75,-159.5 620.75,-153.5 620.75,-153.5 620.75,-84.5 620.75,-84.5 620.75,-78.5 626.75,-72.5 632.75,-72.5 632.75,-72.5 797.25,-72.5 797.25,-72.5 803.25,-72.5 809.25,-78.5 809.25,-84.5 809.25,-84.5 809.25,-153.5 809.25,-153.5 809.25,-159.5 803.25,-165.5 797.25,-165.5\"/>\n",
       "<text text-anchor=\"start\" x=\"686.5\" y=\"-151.3\" font-family=\"Helvetica,sans-Serif\" font-size=\"14.00\">node #80</text>\n",
       "<text text-anchor=\"start\" x=\"638.5\" y=\"-137.3\" font-family=\"Helvetica,sans-Serif\" font-size=\"14.00\">VisITedResources ≤ 51.5</text>\n",
       "<text text-anchor=\"start\" x=\"679.5\" y=\"-123.3\" font-family=\"Helvetica,sans-Serif\" font-size=\"14.00\">gini = 0.471</text>\n",
       "<text text-anchor=\"start\" x=\"662\" y=\"-109.3\" font-family=\"Helvetica,sans-Serif\" font-size=\"14.00\">samples = 35.8%</text>\n",
       "<text text-anchor=\"start\" x=\"629\" y=\"-95.3\" font-family=\"Helvetica,sans-Serif\" font-size=\"14.00\">value = [0.641, 0.016, 0.344]</text>\n",
       "<text text-anchor=\"start\" x=\"687.5\" y=\"-81.3\" font-family=\"Helvetica,sans-Serif\" font-size=\"14.00\">class = 0</text>\n",
       "</g>\n",
       "<!-- 60&#45;&gt;80 -->\n",
       "<g id=\"edge12\" class=\"edge\"><title>60&#45;&gt;80</title>\n",
       "<path fill=\"none\" stroke=\"black\" d=\"M581.855,-202.331C598.268,-192.182 615.767,-181.361 632.502,-171.013\"/>\n",
       "<polygon fill=\"black\" stroke=\"black\" points=\"634.509,-173.887 641.173,-165.651 630.827,-167.934 634.509,-173.887\"/>\n",
       "</g>\n",
       "<!-- 62 -->\n",
       "<g id=\"node11\" class=\"node\"><title>62</title>\n",
       "<path fill=\"#c0c0c0\" stroke=\"black\" d=\"M487,-36C487,-36 457,-36 457,-36 451,-36 445,-30 445,-24 445,-24 445,-12 445,-12 445,-6 451,-0 457,-0 457,-0 487,-0 487,-0 493,-0 499,-6 499,-12 499,-12 499,-24 499,-24 499,-30 493,-36 487,-36\"/>\n",
       "<text text-anchor=\"middle\" x=\"472\" y=\"-14.3\" font-family=\"Helvetica,sans-Serif\" font-size=\"14.00\">(...)</text>\n",
       "</g>\n",
       "<!-- 61&#45;&gt;62 -->\n",
       "<g id=\"edge10\" class=\"edge\"><title>61&#45;&gt;62</title>\n",
       "<path fill=\"none\" stroke=\"black\" d=\"M491.37,-72.2673C488.106,-63.2903 484.781,-54.1471 481.828,-46.0279\"/>\n",
       "<polygon fill=\"black\" stroke=\"black\" points=\"485.027,-44.5826 478.32,-36.3808 478.449,-46.9749 485.027,-44.5826\"/>\n",
       "</g>\n",
       "<!-- 75 -->\n",
       "<g id=\"node12\" class=\"node\"><title>75</title>\n",
       "<path fill=\"#c0c0c0\" stroke=\"black\" d=\"M559,-36C559,-36 529,-36 529,-36 523,-36 517,-30 517,-24 517,-24 517,-12 517,-12 517,-6 523,-0 529,-0 529,-0 559,-0 559,-0 565,-0 571,-6 571,-12 571,-12 571,-24 571,-24 571,-30 565,-36 559,-36\"/>\n",
       "<text text-anchor=\"middle\" x=\"544\" y=\"-14.3\" font-family=\"Helvetica,sans-Serif\" font-size=\"14.00\">(...)</text>\n",
       "</g>\n",
       "<!-- 61&#45;&gt;75 -->\n",
       "<g id=\"edge11\" class=\"edge\"><title>61&#45;&gt;75</title>\n",
       "<path fill=\"none\" stroke=\"black\" d=\"M524.63,-72.2673C527.894,-63.2903 531.219,-54.1471 534.172,-46.0279\"/>\n",
       "<polygon fill=\"black\" stroke=\"black\" points=\"537.551,-46.9749 537.68,-36.3808 530.973,-44.5826 537.551,-46.9749\"/>\n",
       "</g>\n",
       "<!-- 81 -->\n",
       "<g id=\"node14\" class=\"node\"><title>81</title>\n",
       "<path fill=\"#c0c0c0\" stroke=\"black\" d=\"M694,-36C694,-36 664,-36 664,-36 658,-36 652,-30 652,-24 652,-24 652,-12 652,-12 652,-6 658,-0 664,-0 664,-0 694,-0 694,-0 700,-0 706,-6 706,-12 706,-12 706,-24 706,-24 706,-30 700,-36 694,-36\"/>\n",
       "<text text-anchor=\"middle\" x=\"679\" y=\"-14.3\" font-family=\"Helvetica,sans-Serif\" font-size=\"14.00\">(...)</text>\n",
       "</g>\n",
       "<!-- 80&#45;&gt;81 -->\n",
       "<g id=\"edge13\" class=\"edge\"><title>80&#45;&gt;81</title>\n",
       "<path fill=\"none\" stroke=\"black\" d=\"M698.37,-72.2673C695.106,-63.2903 691.781,-54.1471 688.828,-46.0279\"/>\n",
       "<polygon fill=\"black\" stroke=\"black\" points=\"692.027,-44.5826 685.32,-36.3808 685.449,-46.9749 692.027,-44.5826\"/>\n",
       "</g>\n",
       "<!-- 94 -->\n",
       "<g id=\"node15\" class=\"node\"><title>94</title>\n",
       "<path fill=\"#c0c0c0\" stroke=\"black\" d=\"M766,-36C766,-36 736,-36 736,-36 730,-36 724,-30 724,-24 724,-24 724,-12 724,-12 724,-6 730,-0 736,-0 736,-0 766,-0 766,-0 772,-0 778,-6 778,-12 778,-12 778,-24 778,-24 778,-30 772,-36 766,-36\"/>\n",
       "<text text-anchor=\"middle\" x=\"751\" y=\"-14.3\" font-family=\"Helvetica,sans-Serif\" font-size=\"14.00\">(...)</text>\n",
       "</g>\n",
       "<!-- 80&#45;&gt;94 -->\n",
       "<g id=\"edge14\" class=\"edge\"><title>80&#45;&gt;94</title>\n",
       "<path fill=\"none\" stroke=\"black\" d=\"M731.63,-72.2673C734.894,-63.2903 738.219,-54.1471 741.172,-46.0279\"/>\n",
       "<polygon fill=\"black\" stroke=\"black\" points=\"744.551,-46.9749 744.68,-36.3808 737.973,-44.5826 744.551,-46.9749\"/>\n",
       "</g>\n",
       "</g>\n",
       "</svg>\n"
      ],
      "text/plain": [
       "<graphviz.files.Source at 0x2b3de045a198>"
      ]
     },
     "execution_count": 138,
     "metadata": {},
     "output_type": "execute_result"
    }
   ],
   "source": [
    "from sklearn.tree import export_graphviz\n",
    "import graphviz \n",
    "\n",
    "dot_data = export_graphviz(\n",
    "         tree0,\n",
    "         max_depth=2,\n",
    "         out_file=None,\n",
    "         feature_names=X_train.columns,\n",
    "         class_names=['0','1','2'], \n",
    "         filled=True, rounded=True,\n",
    "         proportion=True,\n",
    "         node_ids=True,\n",
    "         rotate=False,\n",
    "         label='all',\n",
    "         special_characters=True\n",
    "        )  \n",
    "graph = graphviz.Source(dot_data)  \n",
    "graph"
   ]
  },
  {
   "cell_type": "markdown",
   "metadata": {},
   "source": [
    "#### Selecionando outra árvore da floresta"
   ]
  },
  {
   "cell_type": "code",
   "execution_count": 139,
   "metadata": {},
   "outputs": [],
   "source": [
    "tree1 = random_clf.estimators_[1]"
   ]
  },
  {
   "cell_type": "markdown",
   "metadata": {},
   "source": [
    "#### Visualizando de forma gráfica"
   ]
  },
  {
   "cell_type": "code",
   "execution_count": 140,
   "metadata": {},
   "outputs": [
    {
     "data": {
      "image/svg+xml": [
       "<?xml version=\"1.0\" encoding=\"UTF-8\" standalone=\"no\"?>\n",
       "<!DOCTYPE svg PUBLIC \"-//W3C//DTD SVG 1.1//EN\"\n",
       " \"http://www.w3.org/Graphics/SVG/1.1/DTD/svg11.dtd\">\n",
       "<!-- Generated by graphviz version 2.30.1 (20170916.1124)\n",
       " -->\n",
       "<!-- Title: Tree Pages: 1 -->\n",
       "<svg width=\"812pt\" height=\"434pt\"\n",
       " viewBox=\"0.00 0.00 812.00 434.00\" xmlns=\"http://www.w3.org/2000/svg\" xmlns:xlink=\"http://www.w3.org/1999/xlink\">\n",
       "<g id=\"graph0\" class=\"graph\" transform=\"scale(1 1) rotate(0) translate(4 430)\">\n",
       "<title>Tree</title>\n",
       "<polygon fill=\"white\" stroke=\"white\" points=\"-4,5 -4,-430 809,-430 809,5 -4,5\"/>\n",
       "<!-- 0 -->\n",
       "<g id=\"node1\" class=\"node\"><title>0</title>\n",
       "<path fill=\"#8139e5\" fill-opacity=\"0.117647\" stroke=\"black\" d=\"M486.25,-425.5C486.25,-425.5 313.75,-425.5 313.75,-425.5 307.75,-425.5 301.75,-419.5 301.75,-413.5 301.75,-413.5 301.75,-344.5 301.75,-344.5 301.75,-338.5 307.75,-332.5 313.75,-332.5 313.75,-332.5 486.25,-332.5 486.25,-332.5 492.25,-332.5 498.25,-338.5 498.25,-344.5 498.25,-344.5 498.25,-413.5 498.25,-413.5 498.25,-419.5 492.25,-425.5 486.25,-425.5\"/>\n",
       "<text text-anchor=\"start\" x=\"375.5\" y=\"-411.3\" font-family=\"Helvetica,sans-Serif\" font-size=\"14.00\">node #0</text>\n",
       "<text text-anchor=\"start\" x=\"310\" y=\"-397.3\" font-family=\"Helvetica,sans-Serif\" font-size=\"14.00\">ParentAnsweringSurvey ≤ 0.5</text>\n",
       "<text text-anchor=\"start\" x=\"364.5\" y=\"-383.3\" font-family=\"Helvetica,sans-Serif\" font-size=\"14.00\">gini = 0.655</text>\n",
       "<text text-anchor=\"start\" x=\"343\" y=\"-369.3\" font-family=\"Helvetica,sans-Serif\" font-size=\"14.00\">samples = 100.0%</text>\n",
       "<text text-anchor=\"start\" x=\"314\" y=\"-355.3\" font-family=\"Helvetica,sans-Serif\" font-size=\"14.00\">value = [0.333, 0.256, 0.411]</text>\n",
       "<text text-anchor=\"start\" x=\"372.5\" y=\"-341.3\" font-family=\"Helvetica,sans-Serif\" font-size=\"14.00\">class = 2</text>\n",
       "</g>\n",
       "<!-- 1 -->\n",
       "<g id=\"node2\" class=\"node\"><title>1</title>\n",
       "<path fill=\"#39e581\" fill-opacity=\"0.105882\" stroke=\"black\" d=\"M379.25,-295.5C379.25,-295.5 214.75,-295.5 214.75,-295.5 208.75,-295.5 202.75,-289.5 202.75,-283.5 202.75,-283.5 202.75,-214.5 202.75,-214.5 202.75,-208.5 208.75,-202.5 214.75,-202.5 214.75,-202.5 379.25,-202.5 379.25,-202.5 385.25,-202.5 391.25,-208.5 391.25,-214.5 391.25,-214.5 391.25,-283.5 391.25,-283.5 391.25,-289.5 385.25,-295.5 379.25,-295.5\"/>\n",
       "<text text-anchor=\"start\" x=\"272.5\" y=\"-281.3\" font-family=\"Helvetica,sans-Serif\" font-size=\"14.00\">node #1</text>\n",
       "<text text-anchor=\"start\" x=\"220.5\" y=\"-267.3\" font-family=\"Helvetica,sans-Serif\" font-size=\"14.00\">VisITedResources ≤ 36.5</text>\n",
       "<text text-anchor=\"start\" x=\"261.5\" y=\"-253.3\" font-family=\"Helvetica,sans-Serif\" font-size=\"14.00\">gini = 0.599</text>\n",
       "<text text-anchor=\"start\" x=\"244\" y=\"-239.3\" font-family=\"Helvetica,sans-Serif\" font-size=\"14.00\">samples = 44.6%</text>\n",
       "<text text-anchor=\"start\" x=\"211\" y=\"-225.3\" font-family=\"Helvetica,sans-Serif\" font-size=\"14.00\">value = [0.124, 0.469, 0.407]</text>\n",
       "<text text-anchor=\"start\" x=\"269.5\" y=\"-211.3\" font-family=\"Helvetica,sans-Serif\" font-size=\"14.00\">class = 1</text>\n",
       "</g>\n",
       "<!-- 0&#45;&gt;1 -->\n",
       "<g id=\"edge1\" class=\"edge\"><title>0&#45;&gt;1</title>\n",
       "<path fill=\"none\" stroke=\"black\" d=\"M363.106,-332.151C355.619,-322.847 347.685,-312.987 340.008,-303.447\"/>\n",
       "<polygon fill=\"black\" stroke=\"black\" points=\"342.633,-301.126 333.637,-295.529 337.179,-305.514 342.633,-301.126\"/>\n",
       "<text text-anchor=\"middle\" x=\"330.947\" y=\"-316.684\" font-family=\"Helvetica,sans-Serif\" font-size=\"14.00\">True</text>\n",
       "</g>\n",
       "<!-- 64 -->\n",
       "<g id=\"node9\" class=\"node\"><title>64</title>\n",
       "<path fill=\"#e58139\" fill-opacity=\"0.133333\" stroke=\"black\" d=\"M586.25,-295.5C586.25,-295.5 421.75,-295.5 421.75,-295.5 415.75,-295.5 409.75,-289.5 409.75,-283.5 409.75,-283.5 409.75,-214.5 409.75,-214.5 409.75,-208.5 415.75,-202.5 421.75,-202.5 421.75,-202.5 586.25,-202.5 586.25,-202.5 592.25,-202.5 598.25,-208.5 598.25,-214.5 598.25,-214.5 598.25,-283.5 598.25,-283.5 598.25,-289.5 592.25,-295.5 586.25,-295.5\"/>\n",
       "<text text-anchor=\"start\" x=\"475.5\" y=\"-281.3\" font-family=\"Helvetica,sans-Serif\" font-size=\"14.00\">node #64</text>\n",
       "<text text-anchor=\"start\" x=\"446\" y=\"-267.3\" font-family=\"Helvetica,sans-Serif\" font-size=\"14.00\">raisedhands ≤ 52.5</text>\n",
       "<text text-anchor=\"start\" x=\"468.5\" y=\"-253.3\" font-family=\"Helvetica,sans-Serif\" font-size=\"14.00\">gini = 0.578</text>\n",
       "<text text-anchor=\"start\" x=\"451\" y=\"-239.3\" font-family=\"Helvetica,sans-Serif\" font-size=\"14.00\">samples = 55.4%</text>\n",
       "<text text-anchor=\"start\" x=\"418\" y=\"-225.3\" font-family=\"Helvetica,sans-Serif\" font-size=\"14.00\">value = [0.492, 0.094, 0.414]</text>\n",
       "<text text-anchor=\"start\" x=\"476.5\" y=\"-211.3\" font-family=\"Helvetica,sans-Serif\" font-size=\"14.00\">class = 0</text>\n",
       "</g>\n",
       "<!-- 0&#45;&gt;64 -->\n",
       "<g id=\"edge8\" class=\"edge\"><title>0&#45;&gt;64</title>\n",
       "<path fill=\"none\" stroke=\"black\" d=\"M437.253,-332.151C444.811,-322.847 452.823,-312.987 460.574,-303.447\"/>\n",
       "<polygon fill=\"black\" stroke=\"black\" points=\"463.418,-305.498 467.007,-295.529 457.985,-301.083 463.418,-305.498\"/>\n",
       "<text text-anchor=\"middle\" x=\"469.58\" y=\"-316.697\" font-family=\"Helvetica,sans-Serif\" font-size=\"14.00\">False</text>\n",
       "</g>\n",
       "<!-- 2 -->\n",
       "<g id=\"node3\" class=\"node\"><title>2</title>\n",
       "<path fill=\"#39e581\" fill-opacity=\"0.690196\" stroke=\"black\" d=\"M176.25,-165.5C176.25,-165.5 11.75,-165.5 11.75,-165.5 5.75,-165.5 -0.25,-159.5 -0.25,-153.5 -0.25,-153.5 -0.25,-84.5 -0.25,-84.5 -0.25,-78.5 5.75,-72.5 11.75,-72.5 11.75,-72.5 176.25,-72.5 176.25,-72.5 182.25,-72.5 188.25,-78.5 188.25,-84.5 188.25,-84.5 188.25,-153.5 188.25,-153.5 188.25,-159.5 182.25,-165.5 176.25,-165.5\"/>\n",
       "<text text-anchor=\"start\" x=\"69.5\" y=\"-151.3\" font-family=\"Helvetica,sans-Serif\" font-size=\"14.00\">node #2</text>\n",
       "<text text-anchor=\"start\" x=\"36\" y=\"-137.3\" font-family=\"Helvetica,sans-Serif\" font-size=\"14.00\">raisedhands ≤ 23.5</text>\n",
       "<text text-anchor=\"start\" x=\"58.5\" y=\"-123.3\" font-family=\"Helvetica,sans-Serif\" font-size=\"14.00\">gini = 0.376</text>\n",
       "<text text-anchor=\"start\" x=\"41\" y=\"-109.3\" font-family=\"Helvetica,sans-Serif\" font-size=\"14.00\">samples = 26.8%</text>\n",
       "<text text-anchor=\"start\" x=\"8\" y=\"-95.3\" font-family=\"Helvetica,sans-Serif\" font-size=\"14.00\">value = [0.023, 0.759, 0.218]</text>\n",
       "<text text-anchor=\"start\" x=\"66.5\" y=\"-81.3\" font-family=\"Helvetica,sans-Serif\" font-size=\"14.00\">class = 1</text>\n",
       "</g>\n",
       "<!-- 1&#45;&gt;2 -->\n",
       "<g id=\"edge2\" class=\"edge\"><title>1&#45;&gt;2</title>\n",
       "<path fill=\"none\" stroke=\"black\" d=\"M224.572,-202.331C208.476,-192.182 191.315,-181.361 174.904,-171.013\"/>\n",
       "<polygon fill=\"black\" stroke=\"black\" points=\"176.726,-168.024 166.4,-165.651 172.992,-173.946 176.726,-168.024\"/>\n",
       "</g>\n",
       "<!-- 37 -->\n",
       "<g id=\"node6\" class=\"node\"><title>37</title>\n",
       "<path fill=\"#8139e5\" fill-opacity=\"0.572549\" stroke=\"black\" d=\"M377,-165.5C377,-165.5 219,-165.5 219,-165.5 213,-165.5 207,-159.5 207,-153.5 207,-153.5 207,-84.5 207,-84.5 207,-78.5 213,-72.5 219,-72.5 219,-72.5 377,-72.5 377,-72.5 383,-72.5 389,-78.5 389,-84.5 389,-84.5 389,-153.5 389,-153.5 389,-159.5 383,-165.5 377,-165.5\"/>\n",
       "<text text-anchor=\"start\" x=\"269.5\" y=\"-151.3\" font-family=\"Helvetica,sans-Serif\" font-size=\"14.00\">node #37</text>\n",
       "<text text-anchor=\"start\" x=\"240\" y=\"-137.3\" font-family=\"Helvetica,sans-Serif\" font-size=\"14.00\">raisedhands ≤ 73.0</text>\n",
       "<text text-anchor=\"start\" x=\"262.5\" y=\"-123.3\" font-family=\"Helvetica,sans-Serif\" font-size=\"14.00\">gini = 0.447</text>\n",
       "<text text-anchor=\"start\" x=\"245\" y=\"-109.3\" font-family=\"Helvetica,sans-Serif\" font-size=\"14.00\">samples = 17.8%</text>\n",
       "<text text-anchor=\"start\" x=\"215.5\" y=\"-95.3\" font-family=\"Helvetica,sans-Serif\" font-size=\"14.00\">value = [0.276, 0.034, 0.69]</text>\n",
       "<text text-anchor=\"start\" x=\"270.5\" y=\"-81.3\" font-family=\"Helvetica,sans-Serif\" font-size=\"14.00\">class = 2</text>\n",
       "</g>\n",
       "<!-- 1&#45;&gt;37 -->\n",
       "<g id=\"edge5\" class=\"edge\"><title>1&#45;&gt;37</title>\n",
       "<path fill=\"none\" stroke=\"black\" d=\"M297.358,-202.151C297.425,-193.592 297.496,-184.561 297.565,-175.742\"/>\n",
       "<polygon fill=\"black\" stroke=\"black\" points=\"301.066,-175.556 297.644,-165.529 294.066,-175.502 301.066,-175.556\"/>\n",
       "</g>\n",
       "<!-- 3 -->\n",
       "<g id=\"node4\" class=\"node\"><title>3</title>\n",
       "<path fill=\"#c0c0c0\" stroke=\"black\" d=\"M91,-36C91,-36 61,-36 61,-36 55,-36 49,-30 49,-24 49,-24 49,-12 49,-12 49,-6 55,-0 61,-0 61,-0 91,-0 91,-0 97,-0 103,-6 103,-12 103,-12 103,-24 103,-24 103,-30 97,-36 91,-36\"/>\n",
       "<text text-anchor=\"middle\" x=\"76\" y=\"-14.3\" font-family=\"Helvetica,sans-Serif\" font-size=\"14.00\">(...)</text>\n",
       "</g>\n",
       "<!-- 2&#45;&gt;3 -->\n",
       "<g id=\"edge3\" class=\"edge\"><title>2&#45;&gt;3</title>\n",
       "<path fill=\"none\" stroke=\"black\" d=\"M85.685,-72.2673C84.0709,-63.3901 82.4273,-54.3503 80.9634,-46.299\"/>\n",
       "<polygon fill=\"black\" stroke=\"black\" points=\"84.3926,-45.5934 79.1601,-36.3808 77.5055,-46.8456 84.3926,-45.5934\"/>\n",
       "</g>\n",
       "<!-- 22 -->\n",
       "<g id=\"node5\" class=\"node\"><title>22</title>\n",
       "<path fill=\"#c0c0c0\" stroke=\"black\" d=\"M163,-36C163,-36 133,-36 133,-36 127,-36 121,-30 121,-24 121,-24 121,-12 121,-12 121,-6 127,-0 133,-0 133,-0 163,-0 163,-0 169,-0 175,-6 175,-12 175,-12 175,-24 175,-24 175,-30 169,-36 163,-36\"/>\n",
       "<text text-anchor=\"middle\" x=\"148\" y=\"-14.3\" font-family=\"Helvetica,sans-Serif\" font-size=\"14.00\">(...)</text>\n",
       "</g>\n",
       "<!-- 2&#45;&gt;22 -->\n",
       "<g id=\"edge4\" class=\"edge\"><title>2&#45;&gt;22</title>\n",
       "<path fill=\"none\" stroke=\"black\" d=\"M118.945,-72.2673C124.005,-62.9911 129.161,-53.5374 133.698,-45.2195\"/>\n",
       "<polygon fill=\"black\" stroke=\"black\" points=\"136.804,-46.8358 138.52,-36.3808 130.658,-43.4838 136.804,-46.8358\"/>\n",
       "</g>\n",
       "<!-- 38 -->\n",
       "<g id=\"node7\" class=\"node\"><title>38</title>\n",
       "<path fill=\"#c0c0c0\" stroke=\"black\" d=\"M259,-36C259,-36 229,-36 229,-36 223,-36 217,-30 217,-24 217,-24 217,-12 217,-12 217,-6 223,-0 229,-0 229,-0 259,-0 259,-0 265,-0 271,-6 271,-12 271,-12 271,-24 271,-24 271,-30 265,-36 259,-36\"/>\n",
       "<text text-anchor=\"middle\" x=\"244\" y=\"-14.3\" font-family=\"Helvetica,sans-Serif\" font-size=\"14.00\">(...)</text>\n",
       "</g>\n",
       "<!-- 37&#45;&gt;38 -->\n",
       "<g id=\"edge6\" class=\"edge\"><title>37&#45;&gt;38</title>\n",
       "<path fill=\"none\" stroke=\"black\" d=\"M273.055,-72.2673C267.995,-62.9911 262.839,-53.5374 258.302,-45.2195\"/>\n",
       "<polygon fill=\"black\" stroke=\"black\" points=\"261.342,-43.4838 253.48,-36.3808 255.196,-46.8358 261.342,-43.4838\"/>\n",
       "</g>\n",
       "<!-- 49 -->\n",
       "<g id=\"node8\" class=\"node\"><title>49</title>\n",
       "<path fill=\"#c0c0c0\" stroke=\"black\" d=\"M331,-36C331,-36 301,-36 301,-36 295,-36 289,-30 289,-24 289,-24 289,-12 289,-12 289,-6 295,-0 301,-0 301,-0 331,-0 331,-0 337,-0 343,-6 343,-12 343,-12 343,-24 343,-24 343,-30 337,-36 331,-36\"/>\n",
       "<text text-anchor=\"middle\" x=\"316\" y=\"-14.3\" font-family=\"Helvetica,sans-Serif\" font-size=\"14.00\">(...)</text>\n",
       "</g>\n",
       "<!-- 37&#45;&gt;49 -->\n",
       "<g id=\"edge7\" class=\"edge\"><title>37&#45;&gt;49</title>\n",
       "<path fill=\"none\" stroke=\"black\" d=\"M306.315,-72.2673C307.929,-63.3901 309.573,-54.3503 311.037,-46.299\"/>\n",
       "<polygon fill=\"black\" stroke=\"black\" points=\"314.494,-46.8456 312.84,-36.3808 307.607,-45.5934 314.494,-46.8456\"/>\n",
       "</g>\n",
       "<!-- 65 -->\n",
       "<g id=\"node10\" class=\"node\"><title>65</title>\n",
       "<path fill=\"#8139e5\" fill-opacity=\"0.580392\" stroke=\"black\" d=\"M585.25,-165.5C585.25,-165.5 420.75,-165.5 420.75,-165.5 414.75,-165.5 408.75,-159.5 408.75,-153.5 408.75,-153.5 408.75,-84.5 408.75,-84.5 408.75,-78.5 414.75,-72.5 420.75,-72.5 420.75,-72.5 585.25,-72.5 585.25,-72.5 591.25,-72.5 597.25,-78.5 597.25,-84.5 597.25,-84.5 597.25,-153.5 597.25,-153.5 597.25,-159.5 591.25,-165.5 585.25,-165.5\"/>\n",
       "<text text-anchor=\"start\" x=\"474.5\" y=\"-151.3\" font-family=\"Helvetica,sans-Serif\" font-size=\"14.00\">node #65</text>\n",
       "<text text-anchor=\"start\" x=\"430.5\" y=\"-137.3\" font-family=\"Helvetica,sans-Serif\" font-size=\"14.00\">VisITedResources ≤ 8.0</text>\n",
       "<text text-anchor=\"start\" x=\"471\" y=\"-123.3\" font-family=\"Helvetica,sans-Serif\" font-size=\"14.00\">gini = 0.48</text>\n",
       "<text text-anchor=\"start\" x=\"450\" y=\"-109.3\" font-family=\"Helvetica,sans-Serif\" font-size=\"14.00\">samples = 21.1%</text>\n",
       "<text text-anchor=\"start\" x=\"417\" y=\"-95.3\" font-family=\"Helvetica,sans-Serif\" font-size=\"14.00\">value = [0.092, 0.231, 0.677]</text>\n",
       "<text text-anchor=\"start\" x=\"475.5\" y=\"-81.3\" font-family=\"Helvetica,sans-Serif\" font-size=\"14.00\">class = 2</text>\n",
       "</g>\n",
       "<!-- 64&#45;&gt;65 -->\n",
       "<g id=\"edge9\" class=\"edge\"><title>64&#45;&gt;65</title>\n",
       "<path fill=\"none\" stroke=\"black\" d=\"M503.642,-202.151C503.575,-193.592 503.504,-184.561 503.435,-175.742\"/>\n",
       "<polygon fill=\"black\" stroke=\"black\" points=\"506.934,-175.502 503.356,-165.529 499.934,-175.556 506.934,-175.502\"/>\n",
       "</g>\n",
       "<!-- 92 -->\n",
       "<g id=\"node13\" class=\"node\"><title>92</title>\n",
       "<path fill=\"#e58139\" fill-opacity=\"0.584314\" stroke=\"black\" d=\"M792.25,-165.5C792.25,-165.5 627.75,-165.5 627.75,-165.5 621.75,-165.5 615.75,-159.5 615.75,-153.5 615.75,-153.5 615.75,-84.5 615.75,-84.5 615.75,-78.5 621.75,-72.5 627.75,-72.5 627.75,-72.5 792.25,-72.5 792.25,-72.5 798.25,-72.5 804.25,-78.5 804.25,-84.5 804.25,-84.5 804.25,-153.5 804.25,-153.5 804.25,-159.5 798.25,-165.5 792.25,-165.5\"/>\n",
       "<text text-anchor=\"start\" x=\"681.5\" y=\"-151.3\" font-family=\"Helvetica,sans-Serif\" font-size=\"14.00\">node #92</text>\n",
       "<text text-anchor=\"start\" x=\"667.5\" y=\"-137.3\" font-family=\"Helvetica,sans-Serif\" font-size=\"14.00\">Relation ≤ 0.5</text>\n",
       "<text text-anchor=\"start\" x=\"674.5\" y=\"-123.3\" font-family=\"Helvetica,sans-Serif\" font-size=\"14.00\">gini = 0.434</text>\n",
       "<text text-anchor=\"start\" x=\"657\" y=\"-109.3\" font-family=\"Helvetica,sans-Serif\" font-size=\"14.00\">samples = 34.3%</text>\n",
       "<text text-anchor=\"start\" x=\"624\" y=\"-95.3\" font-family=\"Helvetica,sans-Serif\" font-size=\"14.00\">value = [0.698, 0.024, 0.278]</text>\n",
       "<text text-anchor=\"start\" x=\"682.5\" y=\"-81.3\" font-family=\"Helvetica,sans-Serif\" font-size=\"14.00\">class = 0</text>\n",
       "</g>\n",
       "<!-- 64&#45;&gt;92 -->\n",
       "<g id=\"edge12\" class=\"edge\"><title>64&#45;&gt;92</title>\n",
       "<path fill=\"none\" stroke=\"black\" d=\"M577.498,-202.331C593.832,-192.182 611.247,-181.361 627.9,-171.013\"/>\n",
       "<polygon fill=\"black\" stroke=\"black\" points=\"629.883,-173.902 636.53,-165.651 626.189,-167.956 629.883,-173.902\"/>\n",
       "</g>\n",
       "<!-- 66 -->\n",
       "<g id=\"node11\" class=\"node\"><title>66</title>\n",
       "<path fill=\"#c0c0c0\" stroke=\"black\" d=\"M482,-36C482,-36 452,-36 452,-36 446,-36 440,-30 440,-24 440,-24 440,-12 440,-12 440,-6 446,-0 452,-0 452,-0 482,-0 482,-0 488,-0 494,-6 494,-12 494,-12 494,-24 494,-24 494,-30 488,-36 482,-36\"/>\n",
       "<text text-anchor=\"middle\" x=\"467\" y=\"-14.3\" font-family=\"Helvetica,sans-Serif\" font-size=\"14.00\">(...)</text>\n",
       "</g>\n",
       "<!-- 65&#45;&gt;66 -->\n",
       "<g id=\"edge10\" class=\"edge\"><title>65&#45;&gt;66</title>\n",
       "<path fill=\"none\" stroke=\"black\" d=\"M486.37,-72.2673C483.106,-63.2903 479.781,-54.1471 476.828,-46.0279\"/>\n",
       "<polygon fill=\"black\" stroke=\"black\" points=\"480.027,-44.5826 473.32,-36.3808 473.449,-46.9749 480.027,-44.5826\"/>\n",
       "</g>\n",
       "<!-- 67 -->\n",
       "<g id=\"node12\" class=\"node\"><title>67</title>\n",
       "<path fill=\"#c0c0c0\" stroke=\"black\" d=\"M554,-36C554,-36 524,-36 524,-36 518,-36 512,-30 512,-24 512,-24 512,-12 512,-12 512,-6 518,-0 524,-0 524,-0 554,-0 554,-0 560,-0 566,-6 566,-12 566,-12 566,-24 566,-24 566,-30 560,-36 554,-36\"/>\n",
       "<text text-anchor=\"middle\" x=\"539\" y=\"-14.3\" font-family=\"Helvetica,sans-Serif\" font-size=\"14.00\">(...)</text>\n",
       "</g>\n",
       "<!-- 65&#45;&gt;67 -->\n",
       "<g id=\"edge11\" class=\"edge\"><title>65&#45;&gt;67</title>\n",
       "<path fill=\"none\" stroke=\"black\" d=\"M519.63,-72.2673C522.894,-63.2903 526.219,-54.1471 529.172,-46.0279\"/>\n",
       "<polygon fill=\"black\" stroke=\"black\" points=\"532.551,-46.9749 532.68,-36.3808 525.973,-44.5826 532.551,-46.9749\"/>\n",
       "</g>\n",
       "<!-- 93 -->\n",
       "<g id=\"node14\" class=\"node\"><title>93</title>\n",
       "<path fill=\"#c0c0c0\" stroke=\"black\" d=\"M689,-36C689,-36 659,-36 659,-36 653,-36 647,-30 647,-24 647,-24 647,-12 647,-12 647,-6 653,-0 659,-0 659,-0 689,-0 689,-0 695,-0 701,-6 701,-12 701,-12 701,-24 701,-24 701,-30 695,-36 689,-36\"/>\n",
       "<text text-anchor=\"middle\" x=\"674\" y=\"-14.3\" font-family=\"Helvetica,sans-Serif\" font-size=\"14.00\">(...)</text>\n",
       "</g>\n",
       "<!-- 92&#45;&gt;93 -->\n",
       "<g id=\"edge13\" class=\"edge\"><title>92&#45;&gt;93</title>\n",
       "<path fill=\"none\" stroke=\"black\" d=\"M693.37,-72.2673C690.106,-63.2903 686.781,-54.1471 683.828,-46.0279\"/>\n",
       "<polygon fill=\"black\" stroke=\"black\" points=\"687.027,-44.5826 680.32,-36.3808 680.449,-46.9749 687.027,-44.5826\"/>\n",
       "</g>\n",
       "<!-- 106 -->\n",
       "<g id=\"node15\" class=\"node\"><title>106</title>\n",
       "<path fill=\"#c0c0c0\" stroke=\"black\" d=\"M761,-36C761,-36 731,-36 731,-36 725,-36 719,-30 719,-24 719,-24 719,-12 719,-12 719,-6 725,-0 731,-0 731,-0 761,-0 761,-0 767,-0 773,-6 773,-12 773,-12 773,-24 773,-24 773,-30 767,-36 761,-36\"/>\n",
       "<text text-anchor=\"middle\" x=\"746\" y=\"-14.3\" font-family=\"Helvetica,sans-Serif\" font-size=\"14.00\">(...)</text>\n",
       "</g>\n",
       "<!-- 92&#45;&gt;106 -->\n",
       "<g id=\"edge14\" class=\"edge\"><title>92&#45;&gt;106</title>\n",
       "<path fill=\"none\" stroke=\"black\" d=\"M726.63,-72.2673C729.894,-63.2903 733.219,-54.1471 736.172,-46.0279\"/>\n",
       "<polygon fill=\"black\" stroke=\"black\" points=\"739.551,-46.9749 739.68,-36.3808 732.973,-44.5826 739.551,-46.9749\"/>\n",
       "</g>\n",
       "</g>\n",
       "</svg>\n"
      ],
      "text/plain": [
       "<graphviz.files.Source at 0x2b3de045a278>"
      ]
     },
     "execution_count": 140,
     "metadata": {},
     "output_type": "execute_result"
    }
   ],
   "source": [
    "dot_data = export_graphviz(\n",
    "         tree1,\n",
    "         max_depth=2,\n",
    "         out_file=None,\n",
    "         feature_names=X_train.columns,\n",
    "         class_names=['0','1','2'], \n",
    "         filled=True, rounded=True,\n",
    "         proportion=True,\n",
    "         node_ids=True,\n",
    "         rotate=False,\n",
    "         label='all',\n",
    "         special_characters=True\n",
    "        )  \n",
    "graph = graphviz.Source(dot_data)  \n",
    "graph"
   ]
  }
 ],
 "metadata": {
  "kernelspec": {
   "display_name": "Python 3",
   "language": "python",
   "name": "python3"
  },
  "language_info": {
   "codemirror_mode": {
    "name": "ipython",
    "version": 3
   },
   "file_extension": ".py",
   "mimetype": "text/x-python",
   "name": "python",
   "nbconvert_exporter": "python",
   "pygments_lexer": "ipython3",
   "version": "3.6.5"
  }
 },
 "nbformat": 4,
 "nbformat_minor": 2
}
