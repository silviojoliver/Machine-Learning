{
 "cells": [
  {
   "cell_type": "markdown",
   "metadata": {},
   "source": [
    "# Machine Learning - Random Forest (Floresta Aleatória)"
   ]
  },
  {
   "cell_type": "markdown",
   "metadata": {},
   "source": [
    "#### Importação das bibliotecas necessárias"
   ]
  },
  {
   "cell_type": "code",
   "execution_count": 111,
   "metadata": {},
   "outputs": [],
   "source": [
    "from sklearn.tree import export_graphviz\n",
    "from sklearn.ensemble import RandomForestClassifier\n",
    "from sklearn.tree import DecisionTreeClassifier\n",
    "from sklearn.preprocessing import LabelEncoder\n",
    "from sklearn.cross_validation import cross_val_predict\n",
    "from sklearn.metrics import classification_report\n",
    "from sklearn.model_selection import train_test_split\n",
    "import numpy as np\n",
    "import pandas as pd\n",
    "import matplotlib.pyplot as plt\n",
    "import seaborn as sns"
   ]
  },
  {
   "cell_type": "markdown",
   "metadata": {},
   "source": [
    "#### Carregando a base de dados."
   ]
  },
  {
   "cell_type": "code",
   "execution_count": 113,
   "metadata": {},
   "outputs": [],
   "source": [
    "df_edu = pd.read_csv('xAPI-Edu-Data.csv')"
   ]
  },
  {
   "cell_type": "code",
   "execution_count": 115,
   "metadata": {
    "scrolled": true
   },
   "outputs": [
    {
     "data": {
      "text/html": [
       "<div>\n",
       "<style scoped>\n",
       "    .dataframe tbody tr th:only-of-type {\n",
       "        vertical-align: middle;\n",
       "    }\n",
       "\n",
       "    .dataframe tbody tr th {\n",
       "        vertical-align: top;\n",
       "    }\n",
       "\n",
       "    .dataframe thead th {\n",
       "        text-align: right;\n",
       "    }\n",
       "</style>\n",
       "<table border=\"1\" class=\"dataframe\">\n",
       "  <thead>\n",
       "    <tr style=\"text-align: right;\">\n",
       "      <th></th>\n",
       "      <th>gender</th>\n",
       "      <th>NationalITy</th>\n",
       "      <th>PlaceofBirth</th>\n",
       "      <th>StageID</th>\n",
       "      <th>GradeID</th>\n",
       "      <th>SectionID</th>\n",
       "      <th>Topic</th>\n",
       "      <th>Semester</th>\n",
       "      <th>Relation</th>\n",
       "      <th>raisedhands</th>\n",
       "      <th>VisITedResources</th>\n",
       "      <th>AnnouncementsView</th>\n",
       "      <th>Discussion</th>\n",
       "      <th>ParentAnsweringSurvey</th>\n",
       "      <th>ParentschoolSatisfaction</th>\n",
       "      <th>StudentAbsenceDays</th>\n",
       "      <th>Class</th>\n",
       "    </tr>\n",
       "  </thead>\n",
       "  <tbody>\n",
       "    <tr>\n",
       "      <th>0</th>\n",
       "      <td>M</td>\n",
       "      <td>KW</td>\n",
       "      <td>KuwaIT</td>\n",
       "      <td>lowerlevel</td>\n",
       "      <td>G-04</td>\n",
       "      <td>A</td>\n",
       "      <td>IT</td>\n",
       "      <td>F</td>\n",
       "      <td>Father</td>\n",
       "      <td>15</td>\n",
       "      <td>16</td>\n",
       "      <td>2</td>\n",
       "      <td>20</td>\n",
       "      <td>Yes</td>\n",
       "      <td>Good</td>\n",
       "      <td>Under-7</td>\n",
       "      <td>M</td>\n",
       "    </tr>\n",
       "    <tr>\n",
       "      <th>1</th>\n",
       "      <td>M</td>\n",
       "      <td>KW</td>\n",
       "      <td>KuwaIT</td>\n",
       "      <td>lowerlevel</td>\n",
       "      <td>G-04</td>\n",
       "      <td>A</td>\n",
       "      <td>IT</td>\n",
       "      <td>F</td>\n",
       "      <td>Father</td>\n",
       "      <td>20</td>\n",
       "      <td>20</td>\n",
       "      <td>3</td>\n",
       "      <td>25</td>\n",
       "      <td>Yes</td>\n",
       "      <td>Good</td>\n",
       "      <td>Under-7</td>\n",
       "      <td>M</td>\n",
       "    </tr>\n",
       "    <tr>\n",
       "      <th>2</th>\n",
       "      <td>M</td>\n",
       "      <td>KW</td>\n",
       "      <td>KuwaIT</td>\n",
       "      <td>lowerlevel</td>\n",
       "      <td>G-04</td>\n",
       "      <td>A</td>\n",
       "      <td>IT</td>\n",
       "      <td>F</td>\n",
       "      <td>Father</td>\n",
       "      <td>10</td>\n",
       "      <td>7</td>\n",
       "      <td>0</td>\n",
       "      <td>30</td>\n",
       "      <td>No</td>\n",
       "      <td>Bad</td>\n",
       "      <td>Above-7</td>\n",
       "      <td>L</td>\n",
       "    </tr>\n",
       "    <tr>\n",
       "      <th>3</th>\n",
       "      <td>M</td>\n",
       "      <td>KW</td>\n",
       "      <td>KuwaIT</td>\n",
       "      <td>lowerlevel</td>\n",
       "      <td>G-04</td>\n",
       "      <td>A</td>\n",
       "      <td>IT</td>\n",
       "      <td>F</td>\n",
       "      <td>Father</td>\n",
       "      <td>30</td>\n",
       "      <td>25</td>\n",
       "      <td>5</td>\n",
       "      <td>35</td>\n",
       "      <td>No</td>\n",
       "      <td>Bad</td>\n",
       "      <td>Above-7</td>\n",
       "      <td>L</td>\n",
       "    </tr>\n",
       "    <tr>\n",
       "      <th>4</th>\n",
       "      <td>M</td>\n",
       "      <td>KW</td>\n",
       "      <td>KuwaIT</td>\n",
       "      <td>lowerlevel</td>\n",
       "      <td>G-04</td>\n",
       "      <td>A</td>\n",
       "      <td>IT</td>\n",
       "      <td>F</td>\n",
       "      <td>Father</td>\n",
       "      <td>40</td>\n",
       "      <td>50</td>\n",
       "      <td>12</td>\n",
       "      <td>50</td>\n",
       "      <td>No</td>\n",
       "      <td>Bad</td>\n",
       "      <td>Above-7</td>\n",
       "      <td>M</td>\n",
       "    </tr>\n",
       "  </tbody>\n",
       "</table>\n",
       "</div>"
      ],
      "text/plain": [
       "  gender NationalITy PlaceofBirth     StageID GradeID SectionID Topic  \\\n",
       "0      M          KW       KuwaIT  lowerlevel    G-04         A    IT   \n",
       "1      M          KW       KuwaIT  lowerlevel    G-04         A    IT   \n",
       "2      M          KW       KuwaIT  lowerlevel    G-04         A    IT   \n",
       "3      M          KW       KuwaIT  lowerlevel    G-04         A    IT   \n",
       "4      M          KW       KuwaIT  lowerlevel    G-04         A    IT   \n",
       "\n",
       "  Semester Relation  raisedhands  VisITedResources  AnnouncementsView  \\\n",
       "0        F   Father           15                16                  2   \n",
       "1        F   Father           20                20                  3   \n",
       "2        F   Father           10                 7                  0   \n",
       "3        F   Father           30                25                  5   \n",
       "4        F   Father           40                50                 12   \n",
       "\n",
       "   Discussion ParentAnsweringSurvey ParentschoolSatisfaction  \\\n",
       "0          20                   Yes                     Good   \n",
       "1          25                   Yes                     Good   \n",
       "2          30                    No                      Bad   \n",
       "3          35                    No                      Bad   \n",
       "4          50                    No                      Bad   \n",
       "\n",
       "  StudentAbsenceDays Class  \n",
       "0            Under-7     M  \n",
       "1            Under-7     M  \n",
       "2            Above-7     L  \n",
       "3            Above-7     L  \n",
       "4            Above-7     M  "
      ]
     },
     "execution_count": 115,
     "metadata": {},
     "output_type": "execute_result"
    }
   ],
   "source": [
    "df_edu.head()"
   ]
  },
  {
   "cell_type": "markdown",
   "metadata": {},
   "source": [
    "#### Verificando as distribuições de classes."
   ]
  },
  {
   "cell_type": "code",
   "execution_count": 116,
   "metadata": {
    "scrolled": false
   },
   "outputs": [
    {
     "data": {
      "text/plain": [
       "M    211\n",
       "H    142\n",
       "L    127\n",
       "Name: Class, dtype: int64"
      ]
     },
     "execution_count": 116,
     "metadata": {},
     "output_type": "execute_result"
    }
   ],
   "source": [
    "df_edu['Class'].value_counts()"
   ]
  },
  {
   "cell_type": "markdown",
   "metadata": {},
   "source": [
    "#### Verificando os registros nulos"
   ]
  },
  {
   "cell_type": "code",
   "execution_count": 117,
   "metadata": {},
   "outputs": [
    {
     "data": {
      "text/plain": [
       "gender                      0\n",
       "NationalITy                 0\n",
       "PlaceofBirth                0\n",
       "StageID                     0\n",
       "GradeID                     0\n",
       "SectionID                   0\n",
       "Topic                       0\n",
       "Semester                    0\n",
       "Relation                    0\n",
       "raisedhands                 0\n",
       "VisITedResources            0\n",
       "AnnouncementsView           0\n",
       "Discussion                  0\n",
       "ParentAnsweringSurvey       0\n",
       "ParentschoolSatisfaction    0\n",
       "StudentAbsenceDays          0\n",
       "Class                       0\n",
       "dtype: int64"
      ]
     },
     "execution_count": 117,
     "metadata": {},
     "output_type": "execute_result"
    }
   ],
   "source": [
    "df_edu.isnull().sum()"
   ]
  },
  {
   "cell_type": "markdown",
   "metadata": {},
   "source": [
    "#### Codificando os atributos numéricos."
   ]
  },
  {
   "cell_type": "code",
   "execution_count": 119,
   "metadata": {},
   "outputs": [],
   "source": [
    "Features = df_edu\n",
    "Cat_Colums = Features.dtypes.pipe(lambda Features: Features[Features=='object']).index\n",
    "for col in Cat_Colums:\n",
    "    label = LabelEncoder()\n",
    "    Features[col] = label.fit_transform(Features[col])"
   ]
  },
  {
   "cell_type": "code",
   "execution_count": 120,
   "metadata": {},
   "outputs": [
    {
     "data": {
      "text/html": [
       "<div>\n",
       "<style scoped>\n",
       "    .dataframe tbody tr th:only-of-type {\n",
       "        vertical-align: middle;\n",
       "    }\n",
       "\n",
       "    .dataframe tbody tr th {\n",
       "        vertical-align: top;\n",
       "    }\n",
       "\n",
       "    .dataframe thead th {\n",
       "        text-align: right;\n",
       "    }\n",
       "</style>\n",
       "<table border=\"1\" class=\"dataframe\">\n",
       "  <thead>\n",
       "    <tr style=\"text-align: right;\">\n",
       "      <th></th>\n",
       "      <th>gender</th>\n",
       "      <th>NationalITy</th>\n",
       "      <th>PlaceofBirth</th>\n",
       "      <th>StageID</th>\n",
       "      <th>GradeID</th>\n",
       "      <th>SectionID</th>\n",
       "      <th>Topic</th>\n",
       "      <th>Semester</th>\n",
       "      <th>Relation</th>\n",
       "      <th>raisedhands</th>\n",
       "      <th>VisITedResources</th>\n",
       "      <th>AnnouncementsView</th>\n",
       "      <th>Discussion</th>\n",
       "      <th>ParentAnsweringSurvey</th>\n",
       "      <th>ParentschoolSatisfaction</th>\n",
       "      <th>StudentAbsenceDays</th>\n",
       "      <th>Class</th>\n",
       "    </tr>\n",
       "  </thead>\n",
       "  <tbody>\n",
       "    <tr>\n",
       "      <th>0</th>\n",
       "      <td>1</td>\n",
       "      <td>4</td>\n",
       "      <td>4</td>\n",
       "      <td>2</td>\n",
       "      <td>1</td>\n",
       "      <td>0</td>\n",
       "      <td>7</td>\n",
       "      <td>0</td>\n",
       "      <td>0</td>\n",
       "      <td>15</td>\n",
       "      <td>16</td>\n",
       "      <td>2</td>\n",
       "      <td>20</td>\n",
       "      <td>1</td>\n",
       "      <td>1</td>\n",
       "      <td>1</td>\n",
       "      <td>2</td>\n",
       "    </tr>\n",
       "    <tr>\n",
       "      <th>1</th>\n",
       "      <td>1</td>\n",
       "      <td>4</td>\n",
       "      <td>4</td>\n",
       "      <td>2</td>\n",
       "      <td>1</td>\n",
       "      <td>0</td>\n",
       "      <td>7</td>\n",
       "      <td>0</td>\n",
       "      <td>0</td>\n",
       "      <td>20</td>\n",
       "      <td>20</td>\n",
       "      <td>3</td>\n",
       "      <td>25</td>\n",
       "      <td>1</td>\n",
       "      <td>1</td>\n",
       "      <td>1</td>\n",
       "      <td>2</td>\n",
       "    </tr>\n",
       "    <tr>\n",
       "      <th>2</th>\n",
       "      <td>1</td>\n",
       "      <td>4</td>\n",
       "      <td>4</td>\n",
       "      <td>2</td>\n",
       "      <td>1</td>\n",
       "      <td>0</td>\n",
       "      <td>7</td>\n",
       "      <td>0</td>\n",
       "      <td>0</td>\n",
       "      <td>10</td>\n",
       "      <td>7</td>\n",
       "      <td>0</td>\n",
       "      <td>30</td>\n",
       "      <td>0</td>\n",
       "      <td>0</td>\n",
       "      <td>0</td>\n",
       "      <td>1</td>\n",
       "    </tr>\n",
       "    <tr>\n",
       "      <th>3</th>\n",
       "      <td>1</td>\n",
       "      <td>4</td>\n",
       "      <td>4</td>\n",
       "      <td>2</td>\n",
       "      <td>1</td>\n",
       "      <td>0</td>\n",
       "      <td>7</td>\n",
       "      <td>0</td>\n",
       "      <td>0</td>\n",
       "      <td>30</td>\n",
       "      <td>25</td>\n",
       "      <td>5</td>\n",
       "      <td>35</td>\n",
       "      <td>0</td>\n",
       "      <td>0</td>\n",
       "      <td>0</td>\n",
       "      <td>1</td>\n",
       "    </tr>\n",
       "    <tr>\n",
       "      <th>4</th>\n",
       "      <td>1</td>\n",
       "      <td>4</td>\n",
       "      <td>4</td>\n",
       "      <td>2</td>\n",
       "      <td>1</td>\n",
       "      <td>0</td>\n",
       "      <td>7</td>\n",
       "      <td>0</td>\n",
       "      <td>0</td>\n",
       "      <td>40</td>\n",
       "      <td>50</td>\n",
       "      <td>12</td>\n",
       "      <td>50</td>\n",
       "      <td>0</td>\n",
       "      <td>0</td>\n",
       "      <td>0</td>\n",
       "      <td>2</td>\n",
       "    </tr>\n",
       "  </tbody>\n",
       "</table>\n",
       "</div>"
      ],
      "text/plain": [
       "   gender  NationalITy  PlaceofBirth  StageID  GradeID  SectionID  Topic  \\\n",
       "0       1            4             4        2        1          0      7   \n",
       "1       1            4             4        2        1          0      7   \n",
       "2       1            4             4        2        1          0      7   \n",
       "3       1            4             4        2        1          0      7   \n",
       "4       1            4             4        2        1          0      7   \n",
       "\n",
       "   Semester  Relation  raisedhands  VisITedResources  AnnouncementsView  \\\n",
       "0         0         0           15                16                  2   \n",
       "1         0         0           20                20                  3   \n",
       "2         0         0           10                 7                  0   \n",
       "3         0         0           30                25                  5   \n",
       "4         0         0           40                50                 12   \n",
       "\n",
       "   Discussion  ParentAnsweringSurvey  ParentschoolSatisfaction  \\\n",
       "0          20                      1                         1   \n",
       "1          25                      1                         1   \n",
       "2          30                      0                         0   \n",
       "3          35                      0                         0   \n",
       "4          50                      0                         0   \n",
       "\n",
       "   StudentAbsenceDays  Class  \n",
       "0                   1      2  \n",
       "1                   1      2  \n",
       "2                   0      1  \n",
       "3                   0      1  \n",
       "4                   0      2  "
      ]
     },
     "execution_count": 120,
     "metadata": {},
     "output_type": "execute_result"
    }
   ],
   "source": [
    "Features.head()"
   ]
  },
  {
   "cell_type": "markdown",
   "metadata": {},
   "source": [
    "#### Separando os dados e classes"
   ]
  },
  {
   "cell_type": "code",
   "execution_count": 123,
   "metadata": {},
   "outputs": [],
   "source": [
    "dataset = df_edu.drop('Class',axis=1)"
   ]
  },
  {
   "cell_type": "code",
   "execution_count": 124,
   "metadata": {},
   "outputs": [],
   "source": [
    "classes = df_edu['Class']"
   ]
  },
  {
   "cell_type": "markdown",
   "metadata": {},
   "source": [
    "# Random Forest vs Árvore de Decisão"
   ]
  },
  {
   "cell_type": "markdown",
   "metadata": {},
   "source": [
    "#### Resultados Random Forest"
   ]
  },
  {
   "cell_type": "code",
   "execution_count": 126,
   "metadata": {},
   "outputs": [],
   "source": [
    "random_clf = RandomForestClassifier(random_state=1,n_estimators=100)"
   ]
  },
  {
   "cell_type": "code",
   "execution_count": 128,
   "metadata": {},
   "outputs": [],
   "source": [
    "resultados_random = cross_val_predict(random_clf, dataset, classes, cv=5)"
   ]
  },
  {
   "cell_type": "code",
   "execution_count": 129,
   "metadata": {
    "scrolled": true
   },
   "outputs": [
    {
     "name": "stdout",
     "output_type": "stream",
     "text": [
      "             precision    recall  f1-score   support\n",
      "\n",
      "          0       0.66      0.67      0.67       142\n",
      "          1       0.79      0.81      0.80       127\n",
      "          2       0.66      0.64      0.65       211\n",
      "\n",
      "avg / total       0.69      0.69      0.69       480\n",
      "\n"
     ]
    }
   ],
   "source": [
    "print(classification_report(classes,resultados_random))"
   ]
  },
  {
   "cell_type": "markdown",
   "metadata": {},
   "source": [
    "#### Resultados Decision Tree"
   ]
  },
  {
   "cell_type": "code",
   "execution_count": 131,
   "metadata": {},
   "outputs": [],
   "source": [
    "tree_clf = DecisionTreeClassifier(random_state=1)"
   ]
  },
  {
   "cell_type": "code",
   "execution_count": 133,
   "metadata": {},
   "outputs": [],
   "source": [
    "resultados_tree = cross_val_predict(tree_clf,dataset,classes,cv=5)"
   ]
  },
  {
   "cell_type": "code",
   "execution_count": 134,
   "metadata": {
    "scrolled": false
   },
   "outputs": [
    {
     "name": "stdout",
     "output_type": "stream",
     "text": [
      "             precision    recall  f1-score   support\n",
      "\n",
      "          0       0.45      0.51      0.48       142\n",
      "          1       0.73      0.63      0.68       127\n",
      "          2       0.49      0.49      0.49       211\n",
      "\n",
      "avg / total       0.54      0.53      0.54       480\n",
      "\n"
     ]
    }
   ],
   "source": [
    "print(classification_report(classes,resultados_tree))"
   ]
  },
  {
   "cell_type": "markdown",
   "metadata": {},
   "source": [
    "#### Verificando Overfitting"
   ]
  },
  {
   "cell_type": "code",
   "execution_count": 144,
   "metadata": {},
   "outputs": [],
   "source": [
    "X_train, X_test, y_train, y_test = train_test_split(df_edu.drop('Class',axis=1),df_edu['Class'],test_size=0.3,random_state=1)"
   ]
  },
  {
   "cell_type": "code",
   "execution_count": 150,
   "metadata": {},
   "outputs": [],
   "source": [
    "def compara_modelos_random_forest(maxdepth):\n",
    "    if maxdepth == 0:\n",
    "        rf = RandomForestClassifier(n_estimators=100,random_state=1)\n",
    "    else: \n",
    "        rf = RandomForestClassifier(n_estimators=100,random_state=1, max_depth=maxdepth)\n",
    "    rf.fit(X_train, y_train)\n",
    "    train_score = rf.score(X_train, y_train)\n",
    "    test_score = rf.score(X_test, y_test)\n",
    "    return train_score,test_score"
   ]
  },
  {
   "cell_type": "code",
   "execution_count": 151,
   "metadata": {},
   "outputs": [
    {
     "name": "stdout",
     "output_type": "stream",
     "text": [
      "depth      Training score       Testing score       \n",
      "-----      --------------       -------------       \n",
      "2         (0.75, 0.6180555555555556) \n",
      "3         (0.8244047619047619, 0.6805555555555556) \n",
      "4         (0.8720238095238095, 0.7152777777777778) \n",
      "10         (1.0, 0.7569444444444444) \n",
      "15         (1.0, 0.7986111111111112) \n",
      "Full         (1.0, 0.7986111111111112) \n"
     ]
    }
   ],
   "source": [
    "print('{:10} {:20} {:20}'.format('depth', 'Training score','Testing score'))\n",
    "print('{:10} {:20} {:20}'.format('-----', '--------------','-------------'))\n",
    "print('{:1}         {} '.format(2,str(compara_modelos_random_forest(2))))\n",
    "print('{:1}         {} '.format(3,str(compara_modelos_random_forest(3))))\n",
    "print('{:1}         {} '.format(4,str(compara_modelos_random_forest(4))))\n",
    "print('{:1}         {} '.format(10,str(compara_modelos_random_forest(10))))\n",
    "print('{:1}         {} '.format(15,str(compara_modelos_random_forest(15))))\n",
    "print('{:1}         {} '.format('Full',str(compara_modelos_random_forest(0))))"
   ]
  },
  {
   "cell_type": "code",
   "execution_count": 155,
   "metadata": {},
   "outputs": [],
   "source": [
    "def compara_modelos_decision_tree(maxdepth):\n",
    "    if maxdepth == 0:\n",
    "        df = DecisionTreeClassifier(random_state=1)\n",
    "    else: \n",
    "        df = DecisionTreeClassifier(random_state=1, max_depth=maxdepth)\n",
    "    df.fit(X_train, y_train)\n",
    "    train_score = df.score(X_train, y_train)\n",
    "    test_score = df.score(X_test, y_test)\n",
    "    return train_score,test_score"
   ]
  },
  {
   "cell_type": "code",
   "execution_count": 156,
   "metadata": {},
   "outputs": [
    {
     "name": "stdout",
     "output_type": "stream",
     "text": [
      "depth      Training score       Testing score       \n",
      "-----      --------------       -------------       \n",
      "2         (0.6398809523809523, 0.6805555555555556) \n",
      "3         (0.7321428571428571, 0.7013888888888888) \n",
      "4         (0.7916666666666666, 0.7430555555555556) \n",
      "10         (0.9910714285714286, 0.6875) \n",
      "15         (1.0, 0.6944444444444444) \n",
      "Full         (1.0, 0.6944444444444444) \n"
     ]
    }
   ],
   "source": [
    "print('{:10} {:20} {:20}'.format('depth', 'Training score','Testing score'))\n",
    "print('{:10} {:20} {:20}'.format('-----', '--------------','-------------'))\n",
    "print('{:1}         {} '.format(2,str(compara_modelos_decision_tree(2))))\n",
    "print('{:1}         {} '.format(3,str(compara_modelos_decision_tree(3))))\n",
    "print('{:1}         {} '.format(4,str(compara_modelos_decision_tree(4))))\n",
    "print('{:1}         {} '.format(10,str(compara_modelos_decision_tree(10))))\n",
    "print('{:1}         {} '.format(15,str(compara_modelos_decision_tree(15))))\n",
    "print('{:1}         {} '.format('Full',str(compara_modelos_decision_tree(0))))"
   ]
  },
  {
   "cell_type": "markdown",
   "metadata": {},
   "source": [
    "# Tunning do Modelo para Garantir o Melhor Desempenho"
   ]
  },
  {
   "cell_type": "markdown",
   "metadata": {},
   "source": [
    "#### Como encontrar os melhores valores para os parametros do modelo?"
   ]
  },
  {
   "cell_type": "markdown",
   "metadata": {},
   "source": [
    "RandomForestClassifier(\n",
    "n_estimators=?,\n",
    "criterion='gini' ou 'entropy',\n",
    "max_depth=?,\n",
    "min_samples_split=?,\n",
    "min_samples_leaf=?\n",
    ") ..."
   ]
  },
  {
   "cell_type": "markdown",
   "metadata": {},
   "source": [
    "#### GridSearchCV para testes de Hyperparametros"
   ]
  },
  {
   "cell_type": "code",
   "execution_count": 174,
   "metadata": {},
   "outputs": [],
   "source": [
    "from sklearn.model_selection import GridSearchCV"
   ]
  },
  {
   "cell_type": "markdown",
   "metadata": {},
   "source": [
    "#### Lista de possíveis valores de estimators ou quantidade de árvores da floresta."
   ]
  },
  {
   "cell_type": "code",
   "execution_count": 175,
   "metadata": {},
   "outputs": [],
   "source": [
    "valores_estimators = [10, 20, 50, 100, 150]"
   ]
  },
  {
   "cell_type": "markdown",
   "metadata": {},
   "source": [
    "#### Lista de possíveis valores para o critério de divisão."
   ]
  },
  {
   "cell_type": "code",
   "execution_count": 176,
   "metadata": {},
   "outputs": [],
   "source": [
    "valores_criterion = ['gini','entropy']"
   ]
  },
  {
   "cell_type": "markdown",
   "metadata": {},
   "source": [
    "#### Lista de possíveis valores para a profundidade máxima de cada árvore"
   ]
  },
  {
   "cell_type": "code",
   "execution_count": 177,
   "metadata": {},
   "outputs": [],
   "source": [
    "valores_max_depth = [10, 20, 50, 100]"
   ]
  },
  {
   "cell_type": "markdown",
   "metadata": {},
   "source": [
    "#### Lista de possíveis valores para os parametros min_samples_split e min_samples_leaf."
   ]
  },
  {
   "cell_type": "code",
   "execution_count": 178,
   "metadata": {},
   "outputs": [],
   "source": [
    "valores_min_samples_split = [2, 5, 10,15]\n",
    "valores_min_samples_leaf = [1, 5, 10,15]"
   ]
  },
  {
   "cell_type": "markdown",
   "metadata": {},
   "source": [
    "#### Define um dicionário que recebe as listas de parâmetros e valores."
   ]
  },
  {
   "cell_type": "code",
   "execution_count": 183,
   "metadata": {},
   "outputs": [],
   "source": [
    "parametros_grid = dict(n_estimators=valores_estimators,\n",
    "                       criterion=valores_criterion,\n",
    "                       max_depth=valores_max_depth,\n",
    "                       min_samples_split=valores_min_samples_split,\n",
    "                       min_samples_leaf=valores_min_samples_leaf \n",
    "                      )"
   ]
  },
  {
   "cell_type": "markdown",
   "metadata": {},
   "source": [
    "#### Dicionário com os parametros que serão utilizados no grid."
   ]
  },
  {
   "cell_type": "code",
   "execution_count": 184,
   "metadata": {
    "scrolled": true
   },
   "outputs": [
    {
     "data": {
      "text/plain": [
       "{'n_estimators': [10, 20, 50, 100, 150],\n",
       " 'criterion': ['gini', 'entropy'],\n",
       " 'max_depth': [10, 20, 50, 100],\n",
       " 'min_samples_split': [2, 5, 10, 15],\n",
       " 'min_samples_leaf': [1, 5, 10, 15]}"
      ]
     },
     "execution_count": 184,
     "metadata": {},
     "output_type": "execute_result"
    }
   ],
   "source": [
    "parametros_grid"
   ]
  },
  {
   "cell_type": "markdown",
   "metadata": {},
   "source": [
    "#### Instancia o GridSearch com o modelo a ser utilizado, parametros, número de folds e scoring."
   ]
  },
  {
   "cell_type": "code",
   "execution_count": 185,
   "metadata": {},
   "outputs": [],
   "source": [
    "rf = RandomForestClassifier()"
   ]
  },
  {
   "cell_type": "code",
   "execution_count": 187,
   "metadata": {},
   "outputs": [],
   "source": [
    "grid = GridSearchCV(rf, parametros_grid, cv=5, scoring='accuracy')"
   ]
  },
  {
   "cell_type": "markdown",
   "metadata": {},
   "source": [
    "#### Aplica o GridSearch passando as features e classes"
   ]
  },
  {
   "cell_type": "code",
   "execution_count": 189,
   "metadata": {},
   "outputs": [
    {
     "data": {
      "text/plain": [
       "GridSearchCV(cv=5, error_score='raise',\n",
       "       estimator=RandomForestClassifier(bootstrap=True, class_weight=None, criterion='gini',\n",
       "            max_depth=None, max_features='auto', max_leaf_nodes=None,\n",
       "            min_impurity_decrease=0.0, min_impurity_split=None,\n",
       "            min_samples_leaf=1, min_samples_split=2,\n",
       "            min_weight_fraction_leaf=0.0, n_estimators=10, n_jobs=1,\n",
       "            oob_score=False, random_state=None, verbose=0,\n",
       "            warm_start=False),\n",
       "       fit_params=None, iid=True, n_jobs=1,\n",
       "       param_grid={'n_estimators': [10, 20, 50, 100, 150], 'criterion': ['gini', 'entropy'], 'max_depth': [10, 20, 50, 100], 'min_samples_split': [2, 5, 10, 15], 'min_samples_leaf': [1, 5, 10, 15]},\n",
       "       pre_dispatch='2*n_jobs', refit=True, return_train_score='warn',\n",
       "       scoring='accuracy', verbose=0)"
      ]
     },
     "execution_count": 189,
     "metadata": {},
     "output_type": "execute_result"
    }
   ],
   "source": [
    "grid.fit(df_edu.drop('Class',axis=1),df_edu['Class'])"
   ]
  },
  {
   "cell_type": "markdown",
   "metadata": {},
   "source": [
    "#### Imprime os scores por combinações."
   ]
  },
  {
   "cell_type": "code",
   "execution_count": 194,
   "metadata": {},
   "outputs": [
    {
     "name": "stderr",
     "output_type": "stream",
     "text": [
      "/web/datascience/anaconda/lib/python3.6/site-packages/sklearn/model_selection/_search.py:761: DeprecationWarning: The grid_scores_ attribute was deprecated in version 0.18 in favor of the more elaborate cv_results_ attribute. The grid_scores_ attribute will not be available from 0.20\n",
      "  DeprecationWarning)\n"
     ]
    },
    {
     "data": {
      "text/plain": [
       "[mean: 0.64792, std: 0.08213, params: {'criterion': 'gini', 'max_depth': 10, 'min_samples_leaf': 1, 'min_samples_split': 2, 'n_estimators': 10},\n",
       " mean: 0.68542, std: 0.03445, params: {'criterion': 'gini', 'max_depth': 10, 'min_samples_leaf': 1, 'min_samples_split': 2, 'n_estimators': 20},\n",
       " mean: 0.68958, std: 0.04520, params: {'criterion': 'gini', 'max_depth': 10, 'min_samples_leaf': 1, 'min_samples_split': 2, 'n_estimators': 50},\n",
       " mean: 0.66458, std: 0.05504, params: {'criterion': 'gini', 'max_depth': 10, 'min_samples_leaf': 1, 'min_samples_split': 2, 'n_estimators': 100},\n",
       " mean: 0.67917, std: 0.05063, params: {'criterion': 'gini', 'max_depth': 10, 'min_samples_leaf': 1, 'min_samples_split': 2, 'n_estimators': 150},\n",
       " mean: 0.67500, std: 0.03677, params: {'criterion': 'gini', 'max_depth': 10, 'min_samples_leaf': 1, 'min_samples_split': 5, 'n_estimators': 10},\n",
       " mean: 0.65208, std: 0.03516, params: {'criterion': 'gini', 'max_depth': 10, 'min_samples_leaf': 1, 'min_samples_split': 5, 'n_estimators': 20},\n",
       " mean: 0.67708, std: 0.03454, params: {'criterion': 'gini', 'max_depth': 10, 'min_samples_leaf': 1, 'min_samples_split': 5, 'n_estimators': 50},\n",
       " mean: 0.68333, std: 0.04842, params: {'criterion': 'gini', 'max_depth': 10, 'min_samples_leaf': 1, 'min_samples_split': 5, 'n_estimators': 100},\n",
       " mean: 0.67500, std: 0.04149, params: {'criterion': 'gini', 'max_depth': 10, 'min_samples_leaf': 1, 'min_samples_split': 5, 'n_estimators': 150},\n",
       " mean: 0.66042, std: 0.02932, params: {'criterion': 'gini', 'max_depth': 10, 'min_samples_leaf': 1, 'min_samples_split': 10, 'n_estimators': 10},\n",
       " mean: 0.68333, std: 0.04867, params: {'criterion': 'gini', 'max_depth': 10, 'min_samples_leaf': 1, 'min_samples_split': 10, 'n_estimators': 20},\n",
       " mean: 0.68542, std: 0.04243, params: {'criterion': 'gini', 'max_depth': 10, 'min_samples_leaf': 1, 'min_samples_split': 10, 'n_estimators': 50},\n",
       " mean: 0.68958, std: 0.02258, params: {'criterion': 'gini', 'max_depth': 10, 'min_samples_leaf': 1, 'min_samples_split': 10, 'n_estimators': 100},\n",
       " mean: 0.67708, std: 0.05762, params: {'criterion': 'gini', 'max_depth': 10, 'min_samples_leaf': 1, 'min_samples_split': 10, 'n_estimators': 150},\n",
       " mean: 0.66667, std: 0.04403, params: {'criterion': 'gini', 'max_depth': 10, 'min_samples_leaf': 1, 'min_samples_split': 15, 'n_estimators': 10},\n",
       " mean: 0.66458, std: 0.05694, params: {'criterion': 'gini', 'max_depth': 10, 'min_samples_leaf': 1, 'min_samples_split': 15, 'n_estimators': 20},\n",
       " mean: 0.70625, std: 0.03564, params: {'criterion': 'gini', 'max_depth': 10, 'min_samples_leaf': 1, 'min_samples_split': 15, 'n_estimators': 50},\n",
       " mean: 0.68333, std: 0.04792, params: {'criterion': 'gini', 'max_depth': 10, 'min_samples_leaf': 1, 'min_samples_split': 15, 'n_estimators': 100},\n",
       " mean: 0.68750, std: 0.04748, params: {'criterion': 'gini', 'max_depth': 10, 'min_samples_leaf': 1, 'min_samples_split': 15, 'n_estimators': 150},\n",
       " mean: 0.67500, std: 0.04781, params: {'criterion': 'gini', 'max_depth': 10, 'min_samples_leaf': 5, 'min_samples_split': 2, 'n_estimators': 10},\n",
       " mean: 0.71250, std: 0.05930, params: {'criterion': 'gini', 'max_depth': 10, 'min_samples_leaf': 5, 'min_samples_split': 2, 'n_estimators': 20},\n",
       " mean: 0.68125, std: 0.04416, params: {'criterion': 'gini', 'max_depth': 10, 'min_samples_leaf': 5, 'min_samples_split': 2, 'n_estimators': 50},\n",
       " mean: 0.69583, std: 0.04556, params: {'criterion': 'gini', 'max_depth': 10, 'min_samples_leaf': 5, 'min_samples_split': 2, 'n_estimators': 100},\n",
       " mean: 0.69375, std: 0.03873, params: {'criterion': 'gini', 'max_depth': 10, 'min_samples_leaf': 5, 'min_samples_split': 2, 'n_estimators': 150},\n",
       " mean: 0.65000, std: 0.02601, params: {'criterion': 'gini', 'max_depth': 10, 'min_samples_leaf': 5, 'min_samples_split': 5, 'n_estimators': 10},\n",
       " mean: 0.68333, std: 0.05595, params: {'criterion': 'gini', 'max_depth': 10, 'min_samples_leaf': 5, 'min_samples_split': 5, 'n_estimators': 20},\n",
       " mean: 0.69375, std: 0.03029, params: {'criterion': 'gini', 'max_depth': 10, 'min_samples_leaf': 5, 'min_samples_split': 5, 'n_estimators': 50},\n",
       " mean: 0.71458, std: 0.04252, params: {'criterion': 'gini', 'max_depth': 10, 'min_samples_leaf': 5, 'min_samples_split': 5, 'n_estimators': 100},\n",
       " mean: 0.69375, std: 0.05098, params: {'criterion': 'gini', 'max_depth': 10, 'min_samples_leaf': 5, 'min_samples_split': 5, 'n_estimators': 150},\n",
       " mean: 0.66667, std: 0.03612, params: {'criterion': 'gini', 'max_depth': 10, 'min_samples_leaf': 5, 'min_samples_split': 10, 'n_estimators': 10},\n",
       " mean: 0.67500, std: 0.04930, params: {'criterion': 'gini', 'max_depth': 10, 'min_samples_leaf': 5, 'min_samples_split': 10, 'n_estimators': 20},\n",
       " mean: 0.68542, std: 0.04448, params: {'criterion': 'gini', 'max_depth': 10, 'min_samples_leaf': 5, 'min_samples_split': 10, 'n_estimators': 50},\n",
       " mean: 0.68750, std: 0.05277, params: {'criterion': 'gini', 'max_depth': 10, 'min_samples_leaf': 5, 'min_samples_split': 10, 'n_estimators': 100},\n",
       " mean: 0.69583, std: 0.04371, params: {'criterion': 'gini', 'max_depth': 10, 'min_samples_leaf': 5, 'min_samples_split': 10, 'n_estimators': 150},\n",
       " mean: 0.65417, std: 0.04862, params: {'criterion': 'gini', 'max_depth': 10, 'min_samples_leaf': 5, 'min_samples_split': 15, 'n_estimators': 10},\n",
       " mean: 0.68542, std: 0.02746, params: {'criterion': 'gini', 'max_depth': 10, 'min_samples_leaf': 5, 'min_samples_split': 15, 'n_estimators': 20},\n",
       " mean: 0.69167, std: 0.04124, params: {'criterion': 'gini', 'max_depth': 10, 'min_samples_leaf': 5, 'min_samples_split': 15, 'n_estimators': 50},\n",
       " mean: 0.68542, std: 0.03917, params: {'criterion': 'gini', 'max_depth': 10, 'min_samples_leaf': 5, 'min_samples_split': 15, 'n_estimators': 100},\n",
       " mean: 0.69167, std: 0.05175, params: {'criterion': 'gini', 'max_depth': 10, 'min_samples_leaf': 5, 'min_samples_split': 15, 'n_estimators': 150},\n",
       " mean: 0.67500, std: 0.04830, params: {'criterion': 'gini', 'max_depth': 10, 'min_samples_leaf': 10, 'min_samples_split': 2, 'n_estimators': 10},\n",
       " mean: 0.68125, std: 0.04396, params: {'criterion': 'gini', 'max_depth': 10, 'min_samples_leaf': 10, 'min_samples_split': 2, 'n_estimators': 20},\n",
       " mean: 0.69375, std: 0.01817, params: {'criterion': 'gini', 'max_depth': 10, 'min_samples_leaf': 10, 'min_samples_split': 2, 'n_estimators': 50},\n",
       " mean: 0.69792, std: 0.02055, params: {'criterion': 'gini', 'max_depth': 10, 'min_samples_leaf': 10, 'min_samples_split': 2, 'n_estimators': 100},\n",
       " mean: 0.68542, std: 0.02834, params: {'criterion': 'gini', 'max_depth': 10, 'min_samples_leaf': 10, 'min_samples_split': 2, 'n_estimators': 150},\n",
       " mean: 0.66875, std: 0.05265, params: {'criterion': 'gini', 'max_depth': 10, 'min_samples_leaf': 10, 'min_samples_split': 5, 'n_estimators': 10},\n",
       " mean: 0.68333, std: 0.03787, params: {'criterion': 'gini', 'max_depth': 10, 'min_samples_leaf': 10, 'min_samples_split': 5, 'n_estimators': 20},\n",
       " mean: 0.68125, std: 0.03634, params: {'criterion': 'gini', 'max_depth': 10, 'min_samples_leaf': 10, 'min_samples_split': 5, 'n_estimators': 50},\n",
       " mean: 0.68333, std: 0.03700, params: {'criterion': 'gini', 'max_depth': 10, 'min_samples_leaf': 10, 'min_samples_split': 5, 'n_estimators': 100},\n",
       " mean: 0.69375, std: 0.04385, params: {'criterion': 'gini', 'max_depth': 10, 'min_samples_leaf': 10, 'min_samples_split': 5, 'n_estimators': 150},\n",
       " mean: 0.66250, std: 0.02690, params: {'criterion': 'gini', 'max_depth': 10, 'min_samples_leaf': 10, 'min_samples_split': 10, 'n_estimators': 10},\n",
       " mean: 0.65833, std: 0.05327, params: {'criterion': 'gini', 'max_depth': 10, 'min_samples_leaf': 10, 'min_samples_split': 10, 'n_estimators': 20},\n",
       " mean: 0.68958, std: 0.03004, params: {'criterion': 'gini', 'max_depth': 10, 'min_samples_leaf': 10, 'min_samples_split': 10, 'n_estimators': 50},\n",
       " mean: 0.68750, std: 0.04666, params: {'criterion': 'gini', 'max_depth': 10, 'min_samples_leaf': 10, 'min_samples_split': 10, 'n_estimators': 100},\n",
       " mean: 0.70625, std: 0.04437, params: {'criterion': 'gini', 'max_depth': 10, 'min_samples_leaf': 10, 'min_samples_split': 10, 'n_estimators': 150},\n",
       " mean: 0.71667, std: 0.03573, params: {'criterion': 'gini', 'max_depth': 10, 'min_samples_leaf': 10, 'min_samples_split': 15, 'n_estimators': 10},\n",
       " mean: 0.68333, std: 0.04205, params: {'criterion': 'gini', 'max_depth': 10, 'min_samples_leaf': 10, 'min_samples_split': 15, 'n_estimators': 20},\n",
       " mean: 0.69792, std: 0.03982, params: {'criterion': 'gini', 'max_depth': 10, 'min_samples_leaf': 10, 'min_samples_split': 15, 'n_estimators': 50},\n",
       " mean: 0.69375, std: 0.04567, params: {'criterion': 'gini', 'max_depth': 10, 'min_samples_leaf': 10, 'min_samples_split': 15, 'n_estimators': 100},\n",
       " mean: 0.69167, std: 0.04275, params: {'criterion': 'gini', 'max_depth': 10, 'min_samples_leaf': 10, 'min_samples_split': 15, 'n_estimators': 150},\n",
       " mean: 0.64583, std: 0.08196, params: {'criterion': 'gini', 'max_depth': 10, 'min_samples_leaf': 15, 'min_samples_split': 2, 'n_estimators': 10},\n",
       " mean: 0.66250, std: 0.04844, params: {'criterion': 'gini', 'max_depth': 10, 'min_samples_leaf': 15, 'min_samples_split': 2, 'n_estimators': 20},\n",
       " mean: 0.69375, std: 0.03793, params: {'criterion': 'gini', 'max_depth': 10, 'min_samples_leaf': 15, 'min_samples_split': 2, 'n_estimators': 50},\n",
       " mean: 0.67917, std: 0.04800, params: {'criterion': 'gini', 'max_depth': 10, 'min_samples_leaf': 15, 'min_samples_split': 2, 'n_estimators': 100},\n",
       " mean: 0.68125, std: 0.03797, params: {'criterion': 'gini', 'max_depth': 10, 'min_samples_leaf': 15, 'min_samples_split': 2, 'n_estimators': 150},\n",
       " mean: 0.65833, std: 0.07527, params: {'criterion': 'gini', 'max_depth': 10, 'min_samples_leaf': 15, 'min_samples_split': 5, 'n_estimators': 10},\n",
       " mean: 0.66458, std: 0.04921, params: {'criterion': 'gini', 'max_depth': 10, 'min_samples_leaf': 15, 'min_samples_split': 5, 'n_estimators': 20},\n",
       " mean: 0.67917, std: 0.04178, params: {'criterion': 'gini', 'max_depth': 10, 'min_samples_leaf': 15, 'min_samples_split': 5, 'n_estimators': 50},\n",
       " mean: 0.68750, std: 0.03452, params: {'criterion': 'gini', 'max_depth': 10, 'min_samples_leaf': 15, 'min_samples_split': 5, 'n_estimators': 100},\n",
       " mean: 0.70833, std: 0.03525, params: {'criterion': 'gini', 'max_depth': 10, 'min_samples_leaf': 15, 'min_samples_split': 5, 'n_estimators': 150},\n",
       " mean: 0.67500, std: 0.07093, params: {'criterion': 'gini', 'max_depth': 10, 'min_samples_leaf': 15, 'min_samples_split': 10, 'n_estimators': 10},\n",
       " mean: 0.70417, std: 0.04143, params: {'criterion': 'gini', 'max_depth': 10, 'min_samples_leaf': 15, 'min_samples_split': 10, 'n_estimators': 20},\n",
       " mean: 0.69583, std: 0.04672, params: {'criterion': 'gini', 'max_depth': 10, 'min_samples_leaf': 15, 'min_samples_split': 10, 'n_estimators': 50},\n",
       " mean: 0.68333, std: 0.02588, params: {'criterion': 'gini', 'max_depth': 10, 'min_samples_leaf': 15, 'min_samples_split': 10, 'n_estimators': 100},\n",
       " mean: 0.68750, std: 0.03521, params: {'criterion': 'gini', 'max_depth': 10, 'min_samples_leaf': 15, 'min_samples_split': 10, 'n_estimators': 150},\n",
       " mean: 0.67292, std: 0.04044, params: {'criterion': 'gini', 'max_depth': 10, 'min_samples_leaf': 15, 'min_samples_split': 15, 'n_estimators': 10},\n",
       " mean: 0.66042, std: 0.03443, params: {'criterion': 'gini', 'max_depth': 10, 'min_samples_leaf': 15, 'min_samples_split': 15, 'n_estimators': 20},\n",
       " mean: 0.68542, std: 0.04892, params: {'criterion': 'gini', 'max_depth': 10, 'min_samples_leaf': 15, 'min_samples_split': 15, 'n_estimators': 50},\n",
       " mean: 0.70208, std: 0.03949, params: {'criterion': 'gini', 'max_depth': 10, 'min_samples_leaf': 15, 'min_samples_split': 15, 'n_estimators': 100},\n",
       " mean: 0.69375, std: 0.04178, params: {'criterion': 'gini', 'max_depth': 10, 'min_samples_leaf': 15, 'min_samples_split': 15, 'n_estimators': 150},\n",
       " mean: 0.64792, std: 0.04177, params: {'criterion': 'gini', 'max_depth': 20, 'min_samples_leaf': 1, 'min_samples_split': 2, 'n_estimators': 10},\n",
       " mean: 0.65833, std: 0.02631, params: {'criterion': 'gini', 'max_depth': 20, 'min_samples_leaf': 1, 'min_samples_split': 2, 'n_estimators': 20},\n",
       " mean: 0.67292, std: 0.04543, params: {'criterion': 'gini', 'max_depth': 20, 'min_samples_leaf': 1, 'min_samples_split': 2, 'n_estimators': 50},\n",
       " mean: 0.67500, std: 0.04585, params: {'criterion': 'gini', 'max_depth': 20, 'min_samples_leaf': 1, 'min_samples_split': 2, 'n_estimators': 100},\n",
       " mean: 0.68125, std: 0.05607, params: {'criterion': 'gini', 'max_depth': 20, 'min_samples_leaf': 1, 'min_samples_split': 2, 'n_estimators': 150},\n",
       " mean: 0.66875, std: 0.06904, params: {'criterion': 'gini', 'max_depth': 20, 'min_samples_leaf': 1, 'min_samples_split': 5, 'n_estimators': 10},\n",
       " mean: 0.65833, std: 0.05042, params: {'criterion': 'gini', 'max_depth': 20, 'min_samples_leaf': 1, 'min_samples_split': 5, 'n_estimators': 20},\n",
       " mean: 0.66042, std: 0.04180, params: {'criterion': 'gini', 'max_depth': 20, 'min_samples_leaf': 1, 'min_samples_split': 5, 'n_estimators': 50},\n",
       " mean: 0.68125, std: 0.05234, params: {'criterion': 'gini', 'max_depth': 20, 'min_samples_leaf': 1, 'min_samples_split': 5, 'n_estimators': 100},\n",
       " mean: 0.68125, std: 0.04416, params: {'criterion': 'gini', 'max_depth': 20, 'min_samples_leaf': 1, 'min_samples_split': 5, 'n_estimators': 150},\n",
       " mean: 0.67917, std: 0.05106, params: {'criterion': 'gini', 'max_depth': 20, 'min_samples_leaf': 1, 'min_samples_split': 10, 'n_estimators': 10},\n",
       " mean: 0.67917, std: 0.03847, params: {'criterion': 'gini', 'max_depth': 20, 'min_samples_leaf': 1, 'min_samples_split': 10, 'n_estimators': 20},\n",
       " mean: 0.67500, std: 0.04712, params: {'criterion': 'gini', 'max_depth': 20, 'min_samples_leaf': 1, 'min_samples_split': 10, 'n_estimators': 50},\n",
       " mean: 0.69583, std: 0.04152, params: {'criterion': 'gini', 'max_depth': 20, 'min_samples_leaf': 1, 'min_samples_split': 10, 'n_estimators': 100},\n",
       " mean: 0.68958, std: 0.05799, params: {'criterion': 'gini', 'max_depth': 20, 'min_samples_leaf': 1, 'min_samples_split': 10, 'n_estimators': 150},\n",
       " mean: 0.65000, std: 0.05076, params: {'criterion': 'gini', 'max_depth': 20, 'min_samples_leaf': 1, 'min_samples_split': 15, 'n_estimators': 10},\n",
       " mean: 0.69792, std: 0.04488, params: {'criterion': 'gini', 'max_depth': 20, 'min_samples_leaf': 1, 'min_samples_split': 15, 'n_estimators': 20},\n",
       " mean: 0.68750, std: 0.03646, params: {'criterion': 'gini', 'max_depth': 20, 'min_samples_leaf': 1, 'min_samples_split': 15, 'n_estimators': 50},\n",
       " mean: 0.67917, std: 0.04505, params: {'criterion': 'gini', 'max_depth': 20, 'min_samples_leaf': 1, 'min_samples_split': 15, 'n_estimators': 100},\n",
       " mean: 0.68542, std: 0.04496, params: {'criterion': 'gini', 'max_depth': 20, 'min_samples_leaf': 1, 'min_samples_split': 15, 'n_estimators': 150},\n",
       " mean: 0.66875, std: 0.05592, params: {'criterion': 'gini', 'max_depth': 20, 'min_samples_leaf': 5, 'min_samples_split': 2, 'n_estimators': 10},\n",
       " mean: 0.66250, std: 0.06076, params: {'criterion': 'gini', 'max_depth': 20, 'min_samples_leaf': 5, 'min_samples_split': 2, 'n_estimators': 20},\n",
       " mean: 0.68750, std: 0.01640, params: {'criterion': 'gini', 'max_depth': 20, 'min_samples_leaf': 5, 'min_samples_split': 2, 'n_estimators': 50},\n",
       " mean: 0.66875, std: 0.04104, params: {'criterion': 'gini', 'max_depth': 20, 'min_samples_leaf': 5, 'min_samples_split': 2, 'n_estimators': 100},\n",
       " mean: 0.68958, std: 0.04845, params: {'criterion': 'gini', 'max_depth': 20, 'min_samples_leaf': 5, 'min_samples_split': 2, 'n_estimators': 150},\n",
       " mean: 0.65833, std: 0.03366, params: {'criterion': 'gini', 'max_depth': 20, 'min_samples_leaf': 5, 'min_samples_split': 5, 'n_estimators': 10},\n",
       " mean: 0.69167, std: 0.04716, params: {'criterion': 'gini', 'max_depth': 20, 'min_samples_leaf': 5, 'min_samples_split': 5, 'n_estimators': 20},\n",
       " mean: 0.70000, std: 0.04746, params: {'criterion': 'gini', 'max_depth': 20, 'min_samples_leaf': 5, 'min_samples_split': 5, 'n_estimators': 50},\n",
       " mean: 0.68750, std: 0.03347, params: {'criterion': 'gini', 'max_depth': 20, 'min_samples_leaf': 5, 'min_samples_split': 5, 'n_estimators': 100},\n",
       " mean: 0.69583, std: 0.02651, params: {'criterion': 'gini', 'max_depth': 20, 'min_samples_leaf': 5, 'min_samples_split': 5, 'n_estimators': 150},\n",
       " mean: 0.67083, std: 0.05544, params: {'criterion': 'gini', 'max_depth': 20, 'min_samples_leaf': 5, 'min_samples_split': 10, 'n_estimators': 10},\n",
       " mean: 0.68125, std: 0.05253, params: {'criterion': 'gini', 'max_depth': 20, 'min_samples_leaf': 5, 'min_samples_split': 10, 'n_estimators': 20},\n",
       " mean: 0.68958, std: 0.04151, params: {'criterion': 'gini', 'max_depth': 20, 'min_samples_leaf': 5, 'min_samples_split': 10, 'n_estimators': 50},\n",
       " mean: 0.69167, std: 0.06312, params: {'criterion': 'gini', 'max_depth': 20, 'min_samples_leaf': 5, 'min_samples_split': 10, 'n_estimators': 100},\n",
       " mean: 0.69583, std: 0.04159, params: {'criterion': 'gini', 'max_depth': 20, 'min_samples_leaf': 5, 'min_samples_split': 10, 'n_estimators': 150},\n",
       " mean: 0.69167, std: 0.03790, params: {'criterion': 'gini', 'max_depth': 20, 'min_samples_leaf': 5, 'min_samples_split': 15, 'n_estimators': 10},\n",
       " mean: 0.68958, std: 0.04589, params: {'criterion': 'gini', 'max_depth': 20, 'min_samples_leaf': 5, 'min_samples_split': 15, 'n_estimators': 20},\n",
       " mean: 0.67708, std: 0.04454, params: {'criterion': 'gini', 'max_depth': 20, 'min_samples_leaf': 5, 'min_samples_split': 15, 'n_estimators': 50},\n",
       " mean: 0.69167, std: 0.04642, params: {'criterion': 'gini', 'max_depth': 20, 'min_samples_leaf': 5, 'min_samples_split': 15, 'n_estimators': 100},\n",
       " mean: 0.68750, std: 0.03931, params: {'criterion': 'gini', 'max_depth': 20, 'min_samples_leaf': 5, 'min_samples_split': 15, 'n_estimators': 150},\n",
       " mean: 0.69167, std: 0.02109, params: {'criterion': 'gini', 'max_depth': 20, 'min_samples_leaf': 10, 'min_samples_split': 2, 'n_estimators': 10},\n",
       " mean: 0.69167, std: 0.04147, params: {'criterion': 'gini', 'max_depth': 20, 'min_samples_leaf': 10, 'min_samples_split': 2, 'n_estimators': 20},\n",
       " mean: 0.66875, std: 0.03281, params: {'criterion': 'gini', 'max_depth': 20, 'min_samples_leaf': 10, 'min_samples_split': 2, 'n_estimators': 50},\n",
       " mean: 0.67708, std: 0.02916, params: {'criterion': 'gini', 'max_depth': 20, 'min_samples_leaf': 10, 'min_samples_split': 2, 'n_estimators': 100},\n",
       " mean: 0.68542, std: 0.04429, params: {'criterion': 'gini', 'max_depth': 20, 'min_samples_leaf': 10, 'min_samples_split': 2, 'n_estimators': 150},\n",
       " mean: 0.67917, std: 0.02079, params: {'criterion': 'gini', 'max_depth': 20, 'min_samples_leaf': 10, 'min_samples_split': 5, 'n_estimators': 10},\n",
       " mean: 0.67083, std: 0.05109, params: {'criterion': 'gini', 'max_depth': 20, 'min_samples_leaf': 10, 'min_samples_split': 5, 'n_estimators': 20},\n",
       " mean: 0.69167, std: 0.01801, params: {'criterion': 'gini', 'max_depth': 20, 'min_samples_leaf': 10, 'min_samples_split': 5, 'n_estimators': 50},\n",
       " mean: 0.68750, std: 0.03603, params: {'criterion': 'gini', 'max_depth': 20, 'min_samples_leaf': 10, 'min_samples_split': 5, 'n_estimators': 100},\n",
       " mean: 0.68958, std: 0.02322, params: {'criterion': 'gini', 'max_depth': 20, 'min_samples_leaf': 10, 'min_samples_split': 5, 'n_estimators': 150},\n",
       " mean: 0.66875, std: 0.02530, params: {'criterion': 'gini', 'max_depth': 20, 'min_samples_leaf': 10, 'min_samples_split': 10, 'n_estimators': 10},\n",
       " mean: 0.68125, std: 0.03533, params: {'criterion': 'gini', 'max_depth': 20, 'min_samples_leaf': 10, 'min_samples_split': 10, 'n_estimators': 20},\n",
       " mean: 0.68750, std: 0.05155, params: {'criterion': 'gini', 'max_depth': 20, 'min_samples_leaf': 10, 'min_samples_split': 10, 'n_estimators': 50},\n",
       " mean: 0.70417, std: 0.02936, params: {'criterion': 'gini', 'max_depth': 20, 'min_samples_leaf': 10, 'min_samples_split': 10, 'n_estimators': 100},\n",
       " mean: 0.70000, std: 0.04773, params: {'criterion': 'gini', 'max_depth': 20, 'min_samples_leaf': 10, 'min_samples_split': 10, 'n_estimators': 150},\n",
       " mean: 0.69792, std: 0.05321, params: {'criterion': 'gini', 'max_depth': 20, 'min_samples_leaf': 10, 'min_samples_split': 15, 'n_estimators': 10},\n",
       " mean: 0.69167, std: 0.04047, params: {'criterion': 'gini', 'max_depth': 20, 'min_samples_leaf': 10, 'min_samples_split': 15, 'n_estimators': 20},\n",
       " mean: 0.69375, std: 0.02681, params: {'criterion': 'gini', 'max_depth': 20, 'min_samples_leaf': 10, 'min_samples_split': 15, 'n_estimators': 50},\n",
       " mean: 0.69375, std: 0.05176, params: {'criterion': 'gini', 'max_depth': 20, 'min_samples_leaf': 10, 'min_samples_split': 15, 'n_estimators': 100},\n",
       " mean: 0.68333, std: 0.03177, params: {'criterion': 'gini', 'max_depth': 20, 'min_samples_leaf': 10, 'min_samples_split': 15, 'n_estimators': 150},\n",
       " mean: 0.65000, std: 0.04521, params: {'criterion': 'gini', 'max_depth': 20, 'min_samples_leaf': 15, 'min_samples_split': 2, 'n_estimators': 10},\n",
       " mean: 0.68542, std: 0.04057, params: {'criterion': 'gini', 'max_depth': 20, 'min_samples_leaf': 15, 'min_samples_split': 2, 'n_estimators': 20},\n",
       " mean: 0.69583, std: 0.04956, params: {'criterion': 'gini', 'max_depth': 20, 'min_samples_leaf': 15, 'min_samples_split': 2, 'n_estimators': 50},\n",
       " mean: 0.68750, std: 0.03662, params: {'criterion': 'gini', 'max_depth': 20, 'min_samples_leaf': 15, 'min_samples_split': 2, 'n_estimators': 100},\n",
       " mean: 0.67917, std: 0.04559, params: {'criterion': 'gini', 'max_depth': 20, 'min_samples_leaf': 15, 'min_samples_split': 2, 'n_estimators': 150},\n",
       " mean: 0.60625, std: 0.05093, params: {'criterion': 'gini', 'max_depth': 20, 'min_samples_leaf': 15, 'min_samples_split': 5, 'n_estimators': 10},\n",
       " mean: 0.68125, std: 0.04209, params: {'criterion': 'gini', 'max_depth': 20, 'min_samples_leaf': 15, 'min_samples_split': 5, 'n_estimators': 20},\n",
       " mean: 0.72083, std: 0.03294, params: {'criterion': 'gini', 'max_depth': 20, 'min_samples_leaf': 15, 'min_samples_split': 5, 'n_estimators': 50},\n",
       " mean: 0.68958, std: 0.04079, params: {'criterion': 'gini', 'max_depth': 20, 'min_samples_leaf': 15, 'min_samples_split': 5, 'n_estimators': 100},\n",
       " mean: 0.70000, std: 0.05006, params: {'criterion': 'gini', 'max_depth': 20, 'min_samples_leaf': 15, 'min_samples_split': 5, 'n_estimators': 150},\n",
       " mean: 0.68125, std: 0.05227, params: {'criterion': 'gini', 'max_depth': 20, 'min_samples_leaf': 15, 'min_samples_split': 10, 'n_estimators': 10},\n",
       " mean: 0.66250, std: 0.04271, params: {'criterion': 'gini', 'max_depth': 20, 'min_samples_leaf': 15, 'min_samples_split': 10, 'n_estimators': 20},\n",
       " mean: 0.67500, std: 0.04187, params: {'criterion': 'gini', 'max_depth': 20, 'min_samples_leaf': 15, 'min_samples_split': 10, 'n_estimators': 50},\n",
       " mean: 0.67292, std: 0.02812, params: {'criterion': 'gini', 'max_depth': 20, 'min_samples_leaf': 15, 'min_samples_split': 10, 'n_estimators': 100},\n",
       " mean: 0.68542, std: 0.03803, params: {'criterion': 'gini', 'max_depth': 20, 'min_samples_leaf': 15, 'min_samples_split': 10, 'n_estimators': 150},\n",
       " mean: 0.68125, std: 0.03795, params: {'criterion': 'gini', 'max_depth': 20, 'min_samples_leaf': 15, 'min_samples_split': 15, 'n_estimators': 10},\n",
       " mean: 0.68125, std: 0.05663, params: {'criterion': 'gini', 'max_depth': 20, 'min_samples_leaf': 15, 'min_samples_split': 15, 'n_estimators': 20},\n",
       " mean: 0.67500, std: 0.06587, params: {'criterion': 'gini', 'max_depth': 20, 'min_samples_leaf': 15, 'min_samples_split': 15, 'n_estimators': 50},\n",
       " mean: 0.67917, std: 0.03634, params: {'criterion': 'gini', 'max_depth': 20, 'min_samples_leaf': 15, 'min_samples_split': 15, 'n_estimators': 100},\n",
       " mean: 0.67708, std: 0.03789, params: {'criterion': 'gini', 'max_depth': 20, 'min_samples_leaf': 15, 'min_samples_split': 15, 'n_estimators': 150},\n",
       " mean: 0.62708, std: 0.04090, params: {'criterion': 'gini', 'max_depth': 50, 'min_samples_leaf': 1, 'min_samples_split': 2, 'n_estimators': 10},\n",
       " mean: 0.66667, std: 0.03944, params: {'criterion': 'gini', 'max_depth': 50, 'min_samples_leaf': 1, 'min_samples_split': 2, 'n_estimators': 20},\n",
       " mean: 0.65417, std: 0.05123, params: {'criterion': 'gini', 'max_depth': 50, 'min_samples_leaf': 1, 'min_samples_split': 2, 'n_estimators': 50},\n",
       " mean: 0.66250, std: 0.04419, params: {'criterion': 'gini', 'max_depth': 50, 'min_samples_leaf': 1, 'min_samples_split': 2, 'n_estimators': 100},\n",
       " mean: 0.66875, std: 0.05091, params: {'criterion': 'gini', 'max_depth': 50, 'min_samples_leaf': 1, 'min_samples_split': 2, 'n_estimators': 150},\n",
       " mean: 0.64583, std: 0.03779, params: {'criterion': 'gini', 'max_depth': 50, 'min_samples_leaf': 1, 'min_samples_split': 5, 'n_estimators': 10},\n",
       " mean: 0.67083, std: 0.04747, params: {'criterion': 'gini', 'max_depth': 50, 'min_samples_leaf': 1, 'min_samples_split': 5, 'n_estimators': 20},\n",
       " mean: 0.67083, std: 0.04571, params: {'criterion': 'gini', 'max_depth': 50, 'min_samples_leaf': 1, 'min_samples_split': 5, 'n_estimators': 50},\n",
       " mean: 0.68125, std: 0.02978, params: {'criterion': 'gini', 'max_depth': 50, 'min_samples_leaf': 1, 'min_samples_split': 5, 'n_estimators': 100},\n",
       " mean: 0.65833, std: 0.03616, params: {'criterion': 'gini', 'max_depth': 50, 'min_samples_leaf': 1, 'min_samples_split': 5, 'n_estimators': 150},\n",
       " mean: 0.68125, std: 0.02894, params: {'criterion': 'gini', 'max_depth': 50, 'min_samples_leaf': 1, 'min_samples_split': 10, 'n_estimators': 10},\n",
       " mean: 0.68125, std: 0.04750, params: {'criterion': 'gini', 'max_depth': 50, 'min_samples_leaf': 1, 'min_samples_split': 10, 'n_estimators': 20},\n",
       " mean: 0.66667, std: 0.05537, params: {'criterion': 'gini', 'max_depth': 50, 'min_samples_leaf': 1, 'min_samples_split': 10, 'n_estimators': 50},\n",
       " mean: 0.68750, std: 0.04759, params: {'criterion': 'gini', 'max_depth': 50, 'min_samples_leaf': 1, 'min_samples_split': 10, 'n_estimators': 100},\n",
       " mean: 0.67917, std: 0.05431, params: {'criterion': 'gini', 'max_depth': 50, 'min_samples_leaf': 1, 'min_samples_split': 10, 'n_estimators': 150},\n",
       " mean: 0.67917, std: 0.03595, params: {'criterion': 'gini', 'max_depth': 50, 'min_samples_leaf': 1, 'min_samples_split': 15, 'n_estimators': 10},\n",
       " mean: 0.65625, std: 0.05947, params: {'criterion': 'gini', 'max_depth': 50, 'min_samples_leaf': 1, 'min_samples_split': 15, 'n_estimators': 20},\n",
       " mean: 0.67083, std: 0.02742, params: {'criterion': 'gini', 'max_depth': 50, 'min_samples_leaf': 1, 'min_samples_split': 15, 'n_estimators': 50},\n",
       " mean: 0.68958, std: 0.03432, params: {'criterion': 'gini', 'max_depth': 50, 'min_samples_leaf': 1, 'min_samples_split': 15, 'n_estimators': 100},\n",
       " mean: 0.66458, std: 0.03839, params: {'criterion': 'gini', 'max_depth': 50, 'min_samples_leaf': 1, 'min_samples_split': 15, 'n_estimators': 150},\n",
       " mean: 0.65833, std: 0.02188, params: {'criterion': 'gini', 'max_depth': 50, 'min_samples_leaf': 5, 'min_samples_split': 2, 'n_estimators': 10},\n",
       " mean: 0.68542, std: 0.06905, params: {'criterion': 'gini', 'max_depth': 50, 'min_samples_leaf': 5, 'min_samples_split': 2, 'n_estimators': 20},\n",
       " mean: 0.69167, std: 0.06421, params: {'criterion': 'gini', 'max_depth': 50, 'min_samples_leaf': 5, 'min_samples_split': 2, 'n_estimators': 50},\n",
       " mean: 0.69167, std: 0.03731, params: {'criterion': 'gini', 'max_depth': 50, 'min_samples_leaf': 5, 'min_samples_split': 2, 'n_estimators': 100},\n",
       " mean: 0.70000, std: 0.04523, params: {'criterion': 'gini', 'max_depth': 50, 'min_samples_leaf': 5, 'min_samples_split': 2, 'n_estimators': 150},\n",
       " mean: 0.66250, std: 0.04939, params: {'criterion': 'gini', 'max_depth': 50, 'min_samples_leaf': 5, 'min_samples_split': 5, 'n_estimators': 10},\n",
       " mean: 0.70000, std: 0.04588, params: {'criterion': 'gini', 'max_depth': 50, 'min_samples_leaf': 5, 'min_samples_split': 5, 'n_estimators': 20},\n",
       " mean: 0.67917, std: 0.04566, params: {'criterion': 'gini', 'max_depth': 50, 'min_samples_leaf': 5, 'min_samples_split': 5, 'n_estimators': 50},\n",
       " mean: 0.70208, std: 0.04708, params: {'criterion': 'gini', 'max_depth': 50, 'min_samples_leaf': 5, 'min_samples_split': 5, 'n_estimators': 100},\n",
       " mean: 0.69583, std: 0.04628, params: {'criterion': 'gini', 'max_depth': 50, 'min_samples_leaf': 5, 'min_samples_split': 5, 'n_estimators': 150},\n",
       " mean: 0.64792, std: 0.05204, params: {'criterion': 'gini', 'max_depth': 50, 'min_samples_leaf': 5, 'min_samples_split': 10, 'n_estimators': 10},\n",
       " mean: 0.69792, std: 0.05016, params: {'criterion': 'gini', 'max_depth': 50, 'min_samples_leaf': 5, 'min_samples_split': 10, 'n_estimators': 20},\n",
       " mean: 0.66875, std: 0.05239, params: {'criterion': 'gini', 'max_depth': 50, 'min_samples_leaf': 5, 'min_samples_split': 10, 'n_estimators': 50},\n",
       " mean: 0.70208, std: 0.03232, params: {'criterion': 'gini', 'max_depth': 50, 'min_samples_leaf': 5, 'min_samples_split': 10, 'n_estimators': 100},\n",
       " mean: 0.69792, std: 0.04664, params: {'criterion': 'gini', 'max_depth': 50, 'min_samples_leaf': 5, 'min_samples_split': 10, 'n_estimators': 150},\n",
       " mean: 0.65417, std: 0.04539, params: {'criterion': 'gini', 'max_depth': 50, 'min_samples_leaf': 5, 'min_samples_split': 15, 'n_estimators': 10},\n",
       " mean: 0.67917, std: 0.06593, params: {'criterion': 'gini', 'max_depth': 50, 'min_samples_leaf': 5, 'min_samples_split': 15, 'n_estimators': 20},\n",
       " mean: 0.69583, std: 0.02651, params: {'criterion': 'gini', 'max_depth': 50, 'min_samples_leaf': 5, 'min_samples_split': 15, 'n_estimators': 50},\n",
       " mean: 0.69167, std: 0.04564, params: {'criterion': 'gini', 'max_depth': 50, 'min_samples_leaf': 5, 'min_samples_split': 15, 'n_estimators': 100},\n",
       " mean: 0.68958, std: 0.02708, params: {'criterion': 'gini', 'max_depth': 50, 'min_samples_leaf': 5, 'min_samples_split': 15, 'n_estimators': 150},\n",
       " mean: 0.62917, std: 0.05414, params: {'criterion': 'gini', 'max_depth': 50, 'min_samples_leaf': 10, 'min_samples_split': 2, 'n_estimators': 10},\n",
       " mean: 0.70000, std: 0.01705, params: {'criterion': 'gini', 'max_depth': 50, 'min_samples_leaf': 10, 'min_samples_split': 2, 'n_estimators': 20},\n",
       " mean: 0.67917, std: 0.02958, params: {'criterion': 'gini', 'max_depth': 50, 'min_samples_leaf': 10, 'min_samples_split': 2, 'n_estimators': 50},\n",
       " mean: 0.67708, std: 0.03161, params: {'criterion': 'gini', 'max_depth': 50, 'min_samples_leaf': 10, 'min_samples_split': 2, 'n_estimators': 100},\n",
       " mean: 0.69792, std: 0.04343, params: {'criterion': 'gini', 'max_depth': 50, 'min_samples_leaf': 10, 'min_samples_split': 2, 'n_estimators': 150},\n",
       " mean: 0.68125, std: 0.01072, params: {'criterion': 'gini', 'max_depth': 50, 'min_samples_leaf': 10, 'min_samples_split': 5, 'n_estimators': 10},\n",
       " mean: 0.67917, std: 0.05913, params: {'criterion': 'gini', 'max_depth': 50, 'min_samples_leaf': 10, 'min_samples_split': 5, 'n_estimators': 20},\n",
       " mean: 0.69167, std: 0.03652, params: {'criterion': 'gini', 'max_depth': 50, 'min_samples_leaf': 10, 'min_samples_split': 5, 'n_estimators': 50},\n",
       " mean: 0.68333, std: 0.03596, params: {'criterion': 'gini', 'max_depth': 50, 'min_samples_leaf': 10, 'min_samples_split': 5, 'n_estimators': 100},\n",
       " mean: 0.69792, std: 0.03911, params: {'criterion': 'gini', 'max_depth': 50, 'min_samples_leaf': 10, 'min_samples_split': 5, 'n_estimators': 150},\n",
       " mean: 0.67708, std: 0.02207, params: {'criterion': 'gini', 'max_depth': 50, 'min_samples_leaf': 10, 'min_samples_split': 10, 'n_estimators': 10},\n",
       " mean: 0.66458, std: 0.02271, params: {'criterion': 'gini', 'max_depth': 50, 'min_samples_leaf': 10, 'min_samples_split': 10, 'n_estimators': 20},\n",
       " mean: 0.69167, std: 0.03571, params: {'criterion': 'gini', 'max_depth': 50, 'min_samples_leaf': 10, 'min_samples_split': 10, 'n_estimators': 50},\n",
       " mean: 0.69792, std: 0.05656, params: {'criterion': 'gini', 'max_depth': 50, 'min_samples_leaf': 10, 'min_samples_split': 10, 'n_estimators': 100},\n",
       " mean: 0.67500, std: 0.03961, params: {'criterion': 'gini', 'max_depth': 50, 'min_samples_leaf': 10, 'min_samples_split': 10, 'n_estimators': 150},\n",
       " mean: 0.65833, std: 0.04687, params: {'criterion': 'gini', 'max_depth': 50, 'min_samples_leaf': 10, 'min_samples_split': 15, 'n_estimators': 10},\n",
       " mean: 0.67708, std: 0.07576, params: {'criterion': 'gini', 'max_depth': 50, 'min_samples_leaf': 10, 'min_samples_split': 15, 'n_estimators': 20},\n",
       " mean: 0.69167, std: 0.02774, params: {'criterion': 'gini', 'max_depth': 50, 'min_samples_leaf': 10, 'min_samples_split': 15, 'n_estimators': 50},\n",
       " mean: 0.69375, std: 0.03111, params: {'criterion': 'gini', 'max_depth': 50, 'min_samples_leaf': 10, 'min_samples_split': 15, 'n_estimators': 100},\n",
       " mean: 0.68333, std: 0.03777, params: {'criterion': 'gini', 'max_depth': 50, 'min_samples_leaf': 10, 'min_samples_split': 15, 'n_estimators': 150},\n",
       " mean: 0.64375, std: 0.05221, params: {'criterion': 'gini', 'max_depth': 50, 'min_samples_leaf': 15, 'min_samples_split': 2, 'n_estimators': 10},\n",
       " mean: 0.67917, std: 0.05230, params: {'criterion': 'gini', 'max_depth': 50, 'min_samples_leaf': 15, 'min_samples_split': 2, 'n_estimators': 20},\n",
       " mean: 0.66042, std: 0.04456, params: {'criterion': 'gini', 'max_depth': 50, 'min_samples_leaf': 15, 'min_samples_split': 2, 'n_estimators': 50},\n",
       " mean: 0.67708, std: 0.04581, params: {'criterion': 'gini', 'max_depth': 50, 'min_samples_leaf': 15, 'min_samples_split': 2, 'n_estimators': 100},\n",
       " mean: 0.68333, std: 0.03973, params: {'criterion': 'gini', 'max_depth': 50, 'min_samples_leaf': 15, 'min_samples_split': 2, 'n_estimators': 150},\n",
       " mean: 0.68750, std: 0.03335, params: {'criterion': 'gini', 'max_depth': 50, 'min_samples_leaf': 15, 'min_samples_split': 5, 'n_estimators': 10},\n",
       " mean: 0.69167, std: 0.04464, params: {'criterion': 'gini', 'max_depth': 50, 'min_samples_leaf': 15, 'min_samples_split': 5, 'n_estimators': 20},\n",
       " mean: 0.70000, std: 0.02891, params: {'criterion': 'gini', 'max_depth': 50, 'min_samples_leaf': 15, 'min_samples_split': 5, 'n_estimators': 50},\n",
       " mean: 0.68333, std: 0.04602, params: {'criterion': 'gini', 'max_depth': 50, 'min_samples_leaf': 15, 'min_samples_split': 5, 'n_estimators': 100},\n",
       " mean: 0.69167, std: 0.03652, params: {'criterion': 'gini', 'max_depth': 50, 'min_samples_leaf': 15, 'min_samples_split': 5, 'n_estimators': 150},\n",
       " mean: 0.72917, std: 0.03983, params: {'criterion': 'gini', 'max_depth': 50, 'min_samples_leaf': 15, 'min_samples_split': 10, 'n_estimators': 10},\n",
       " mean: 0.67292, std: 0.03381, params: {'criterion': 'gini', 'max_depth': 50, 'min_samples_leaf': 15, 'min_samples_split': 10, 'n_estimators': 20},\n",
       " mean: 0.67500, std: 0.04426, params: {'criterion': 'gini', 'max_depth': 50, 'min_samples_leaf': 15, 'min_samples_split': 10, 'n_estimators': 50},\n",
       " mean: 0.66250, std: 0.02882, params: {'criterion': 'gini', 'max_depth': 50, 'min_samples_leaf': 15, 'min_samples_split': 10, 'n_estimators': 100},\n",
       " mean: 0.68958, std: 0.04268, params: {'criterion': 'gini', 'max_depth': 50, 'min_samples_leaf': 15, 'min_samples_split': 10, 'n_estimators': 150},\n",
       " mean: 0.70208, std: 0.03382, params: {'criterion': 'gini', 'max_depth': 50, 'min_samples_leaf': 15, 'min_samples_split': 15, 'n_estimators': 10},\n",
       " mean: 0.68958, std: 0.04337, params: {'criterion': 'gini', 'max_depth': 50, 'min_samples_leaf': 15, 'min_samples_split': 15, 'n_estimators': 20},\n",
       " mean: 0.68542, std: 0.04693, params: {'criterion': 'gini', 'max_depth': 50, 'min_samples_leaf': 15, 'min_samples_split': 15, 'n_estimators': 50},\n",
       " mean: 0.69792, std: 0.04763, params: {'criterion': 'gini', 'max_depth': 50, 'min_samples_leaf': 15, 'min_samples_split': 15, 'n_estimators': 100},\n",
       " mean: 0.69583, std: 0.03291, params: {'criterion': 'gini', 'max_depth': 50, 'min_samples_leaf': 15, 'min_samples_split': 15, 'n_estimators': 150},\n",
       " mean: 0.63125, std: 0.06010, params: {'criterion': 'gini', 'max_depth': 100, 'min_samples_leaf': 1, 'min_samples_split': 2, 'n_estimators': 10},\n",
       " mean: 0.67500, std: 0.04538, params: {'criterion': 'gini', 'max_depth': 100, 'min_samples_leaf': 1, 'min_samples_split': 2, 'n_estimators': 20},\n",
       " mean: 0.67083, std: 0.04874, params: {'criterion': 'gini', 'max_depth': 100, 'min_samples_leaf': 1, 'min_samples_split': 2, 'n_estimators': 50},\n",
       " mean: 0.67917, std: 0.04494, params: {'criterion': 'gini', 'max_depth': 100, 'min_samples_leaf': 1, 'min_samples_split': 2, 'n_estimators': 100},\n",
       " mean: 0.67500, std: 0.05895, params: {'criterion': 'gini', 'max_depth': 100, 'min_samples_leaf': 1, 'min_samples_split': 2, 'n_estimators': 150},\n",
       " mean: 0.63958, std: 0.02507, params: {'criterion': 'gini', 'max_depth': 100, 'min_samples_leaf': 1, 'min_samples_split': 5, 'n_estimators': 10},\n",
       " mean: 0.67500, std: 0.05692, params: {'criterion': 'gini', 'max_depth': 100, 'min_samples_leaf': 1, 'min_samples_split': 5, 'n_estimators': 20},\n",
       " mean: 0.68333, std: 0.04159, params: {'criterion': 'gini', 'max_depth': 100, 'min_samples_leaf': 1, 'min_samples_split': 5, 'n_estimators': 50},\n",
       " mean: 0.65833, std: 0.05129, params: {'criterion': 'gini', 'max_depth': 100, 'min_samples_leaf': 1, 'min_samples_split': 5, 'n_estimators': 100},\n",
       " mean: 0.67292, std: 0.04297, params: {'criterion': 'gini', 'max_depth': 100, 'min_samples_leaf': 1, 'min_samples_split': 5, 'n_estimators': 150},\n",
       " mean: 0.65625, std: 0.05639, params: {'criterion': 'gini', 'max_depth': 100, 'min_samples_leaf': 1, 'min_samples_split': 10, 'n_estimators': 10},\n",
       " mean: 0.69792, std: 0.04897, params: {'criterion': 'gini', 'max_depth': 100, 'min_samples_leaf': 1, 'min_samples_split': 10, 'n_estimators': 20},\n",
       " mean: 0.67500, std: 0.02825, params: {'criterion': 'gini', 'max_depth': 100, 'min_samples_leaf': 1, 'min_samples_split': 10, 'n_estimators': 50},\n",
       " mean: 0.68542, std: 0.04653, params: {'criterion': 'gini', 'max_depth': 100, 'min_samples_leaf': 1, 'min_samples_split': 10, 'n_estimators': 100},\n",
       " mean: 0.68542, std: 0.04560, params: {'criterion': 'gini', 'max_depth': 100, 'min_samples_leaf': 1, 'min_samples_split': 10, 'n_estimators': 150},\n",
       " mean: 0.67083, std: 0.05857, params: {'criterion': 'gini', 'max_depth': 100, 'min_samples_leaf': 1, 'min_samples_split': 15, 'n_estimators': 10},\n",
       " mean: 0.67917, std: 0.01810, params: {'criterion': 'gini', 'max_depth': 100, 'min_samples_leaf': 1, 'min_samples_split': 15, 'n_estimators': 20},\n",
       " mean: 0.68542, std: 0.04336, params: {'criterion': 'gini', 'max_depth': 100, 'min_samples_leaf': 1, 'min_samples_split': 15, 'n_estimators': 50},\n",
       " mean: 0.68958, std: 0.03613, params: {'criterion': 'gini', 'max_depth': 100, 'min_samples_leaf': 1, 'min_samples_split': 15, 'n_estimators': 100},\n",
       " mean: 0.68750, std: 0.05026, params: {'criterion': 'gini', 'max_depth': 100, 'min_samples_leaf': 1, 'min_samples_split': 15, 'n_estimators': 150},\n",
       " mean: 0.67917, std: 0.06011, params: {'criterion': 'gini', 'max_depth': 100, 'min_samples_leaf': 5, 'min_samples_split': 2, 'n_estimators': 10},\n",
       " mean: 0.68542, std: 0.04417, params: {'criterion': 'gini', 'max_depth': 100, 'min_samples_leaf': 5, 'min_samples_split': 2, 'n_estimators': 20},\n",
       " mean: 0.69792, std: 0.04455, params: {'criterion': 'gini', 'max_depth': 100, 'min_samples_leaf': 5, 'min_samples_split': 2, 'n_estimators': 50},\n",
       " mean: 0.69167, std: 0.03497, params: {'criterion': 'gini', 'max_depth': 100, 'min_samples_leaf': 5, 'min_samples_split': 2, 'n_estimators': 100},\n",
       " mean: 0.69167, std: 0.06124, params: {'criterion': 'gini', 'max_depth': 100, 'min_samples_leaf': 5, 'min_samples_split': 2, 'n_estimators': 150},\n",
       " mean: 0.67083, std: 0.04995, params: {'criterion': 'gini', 'max_depth': 100, 'min_samples_leaf': 5, 'min_samples_split': 5, 'n_estimators': 10},\n",
       " mean: 0.71667, std: 0.04925, params: {'criterion': 'gini', 'max_depth': 100, 'min_samples_leaf': 5, 'min_samples_split': 5, 'n_estimators': 20},\n",
       " mean: 0.69583, std: 0.03009, params: {'criterion': 'gini', 'max_depth': 100, 'min_samples_leaf': 5, 'min_samples_split': 5, 'n_estimators': 50},\n",
       " mean: 0.68958, std: 0.04198, params: {'criterion': 'gini', 'max_depth': 100, 'min_samples_leaf': 5, 'min_samples_split': 5, 'n_estimators': 100},\n",
       " mean: 0.69375, std: 0.04555, params: {'criterion': 'gini', 'max_depth': 100, 'min_samples_leaf': 5, 'min_samples_split': 5, 'n_estimators': 150},\n",
       " mean: 0.66875, std: 0.02087, params: {'criterion': 'gini', 'max_depth': 100, 'min_samples_leaf': 5, 'min_samples_split': 10, 'n_estimators': 10},\n",
       " mean: 0.69583, std: 0.02709, params: {'criterion': 'gini', 'max_depth': 100, 'min_samples_leaf': 5, 'min_samples_split': 10, 'n_estimators': 20},\n",
       " mean: 0.70000, std: 0.04237, params: {'criterion': 'gini', 'max_depth': 100, 'min_samples_leaf': 5, 'min_samples_split': 10, 'n_estimators': 50},\n",
       " mean: 0.70208, std: 0.04858, params: {'criterion': 'gini', 'max_depth': 100, 'min_samples_leaf': 5, 'min_samples_split': 10, 'n_estimators': 100},\n",
       " mean: 0.68542, std: 0.03979, params: {'criterion': 'gini', 'max_depth': 100, 'min_samples_leaf': 5, 'min_samples_split': 10, 'n_estimators': 150},\n",
       " mean: 0.64792, std: 0.02357, params: {'criterion': 'gini', 'max_depth': 100, 'min_samples_leaf': 5, 'min_samples_split': 15, 'n_estimators': 10},\n",
       " mean: 0.66875, std: 0.04564, params: {'criterion': 'gini', 'max_depth': 100, 'min_samples_leaf': 5, 'min_samples_split': 15, 'n_estimators': 20},\n",
       " mean: 0.66667, std: 0.03273, params: {'criterion': 'gini', 'max_depth': 100, 'min_samples_leaf': 5, 'min_samples_split': 15, 'n_estimators': 50},\n",
       " mean: 0.71458, std: 0.04054, params: {'criterion': 'gini', 'max_depth': 100, 'min_samples_leaf': 5, 'min_samples_split': 15, 'n_estimators': 100},\n",
       " mean: 0.69583, std: 0.04604, params: {'criterion': 'gini', 'max_depth': 100, 'min_samples_leaf': 5, 'min_samples_split': 15, 'n_estimators': 150},\n",
       " mean: 0.67708, std: 0.03148, params: {'criterion': 'gini', 'max_depth': 100, 'min_samples_leaf': 10, 'min_samples_split': 2, 'n_estimators': 10},\n",
       " mean: 0.68333, std: 0.01847, params: {'criterion': 'gini', 'max_depth': 100, 'min_samples_leaf': 10, 'min_samples_split': 2, 'n_estimators': 20},\n",
       " mean: 0.68125, std: 0.03149, params: {'criterion': 'gini', 'max_depth': 100, 'min_samples_leaf': 10, 'min_samples_split': 2, 'n_estimators': 50},\n",
       " mean: 0.70000, std: 0.03112, params: {'criterion': 'gini', 'max_depth': 100, 'min_samples_leaf': 10, 'min_samples_split': 2, 'n_estimators': 100},\n",
       " mean: 0.71042, std: 0.03798, params: {'criterion': 'gini', 'max_depth': 100, 'min_samples_leaf': 10, 'min_samples_split': 2, 'n_estimators': 150},\n",
       " mean: 0.69792, std: 0.02018, params: {'criterion': 'gini', 'max_depth': 100, 'min_samples_leaf': 10, 'min_samples_split': 5, 'n_estimators': 10},\n",
       " mean: 0.68542, std: 0.03337, params: {'criterion': 'gini', 'max_depth': 100, 'min_samples_leaf': 10, 'min_samples_split': 5, 'n_estimators': 20},\n",
       " mean: 0.67292, std: 0.03816, params: {'criterion': 'gini', 'max_depth': 100, 'min_samples_leaf': 10, 'min_samples_split': 5, 'n_estimators': 50},\n",
       " mean: 0.70417, std: 0.03537, params: {'criterion': 'gini', 'max_depth': 100, 'min_samples_leaf': 10, 'min_samples_split': 5, 'n_estimators': 100},\n",
       " mean: 0.68125, std: 0.04329, params: {'criterion': 'gini', 'max_depth': 100, 'min_samples_leaf': 10, 'min_samples_split': 5, 'n_estimators': 150},\n",
       " mean: 0.67292, std: 0.04017, params: {'criterion': 'gini', 'max_depth': 100, 'min_samples_leaf': 10, 'min_samples_split': 10, 'n_estimators': 10},\n",
       " mean: 0.67708, std: 0.02708, params: {'criterion': 'gini', 'max_depth': 100, 'min_samples_leaf': 10, 'min_samples_split': 10, 'n_estimators': 20},\n",
       " mean: 0.70208, std: 0.05288, params: {'criterion': 'gini', 'max_depth': 100, 'min_samples_leaf': 10, 'min_samples_split': 10, 'n_estimators': 50},\n",
       " mean: 0.68333, std: 0.05537, params: {'criterion': 'gini', 'max_depth': 100, 'min_samples_leaf': 10, 'min_samples_split': 10, 'n_estimators': 100},\n",
       " mean: 0.70625, std: 0.04130, params: {'criterion': 'gini', 'max_depth': 100, 'min_samples_leaf': 10, 'min_samples_split': 10, 'n_estimators': 150},\n",
       " mean: 0.67708, std: 0.05683, params: {'criterion': 'gini', 'max_depth': 100, 'min_samples_leaf': 10, 'min_samples_split': 15, 'n_estimators': 10},\n",
       " mean: 0.70625, std: 0.02913, params: {'criterion': 'gini', 'max_depth': 100, 'min_samples_leaf': 10, 'min_samples_split': 15, 'n_estimators': 20},\n",
       " mean: 0.68125, std: 0.03411, params: {'criterion': 'gini', 'max_depth': 100, 'min_samples_leaf': 10, 'min_samples_split': 15, 'n_estimators': 50},\n",
       " mean: 0.68958, std: 0.05069, params: {'criterion': 'gini', 'max_depth': 100, 'min_samples_leaf': 10, 'min_samples_split': 15, 'n_estimators': 100},\n",
       " mean: 0.69167, std: 0.04931, params: {'criterion': 'gini', 'max_depth': 100, 'min_samples_leaf': 10, 'min_samples_split': 15, 'n_estimators': 150},\n",
       " mean: 0.66875, std: 0.03409, params: {'criterion': 'gini', 'max_depth': 100, 'min_samples_leaf': 15, 'min_samples_split': 2, 'n_estimators': 10},\n",
       " mean: 0.70208, std: 0.04760, params: {'criterion': 'gini', 'max_depth': 100, 'min_samples_leaf': 15, 'min_samples_split': 2, 'n_estimators': 20},\n",
       " mean: 0.70000, std: 0.02801, params: {'criterion': 'gini', 'max_depth': 100, 'min_samples_leaf': 15, 'min_samples_split': 2, 'n_estimators': 50},\n",
       " mean: 0.70417, std: 0.04333, params: {'criterion': 'gini', 'max_depth': 100, 'min_samples_leaf': 15, 'min_samples_split': 2, 'n_estimators': 100},\n",
       " mean: 0.66875, std: 0.03391, params: {'criterion': 'gini', 'max_depth': 100, 'min_samples_leaf': 15, 'min_samples_split': 2, 'n_estimators': 150},\n",
       " mean: 0.65000, std: 0.05897, params: {'criterion': 'gini', 'max_depth': 100, 'min_samples_leaf': 15, 'min_samples_split': 5, 'n_estimators': 10},\n",
       " mean: 0.67083, std: 0.04590, params: {'criterion': 'gini', 'max_depth': 100, 'min_samples_leaf': 15, 'min_samples_split': 5, 'n_estimators': 20},\n",
       " mean: 0.67708, std: 0.05293, params: {'criterion': 'gini', 'max_depth': 100, 'min_samples_leaf': 15, 'min_samples_split': 5, 'n_estimators': 50},\n",
       " mean: 0.65417, std: 0.02591, params: {'criterion': 'gini', 'max_depth': 100, 'min_samples_leaf': 15, 'min_samples_split': 5, 'n_estimators': 100},\n",
       " mean: 0.68958, std: 0.03553, params: {'criterion': 'gini', 'max_depth': 100, 'min_samples_leaf': 15, 'min_samples_split': 5, 'n_estimators': 150},\n",
       " mean: 0.66042, std: 0.03701, params: {'criterion': 'gini', 'max_depth': 100, 'min_samples_leaf': 15, 'min_samples_split': 10, 'n_estimators': 10},\n",
       " mean: 0.65833, std: 0.03904, params: {'criterion': 'gini', 'max_depth': 100, 'min_samples_leaf': 15, 'min_samples_split': 10, 'n_estimators': 20},\n",
       " mean: 0.68125, std: 0.02871, params: {'criterion': 'gini', 'max_depth': 100, 'min_samples_leaf': 15, 'min_samples_split': 10, 'n_estimators': 50},\n",
       " mean: 0.68125, std: 0.04165, params: {'criterion': 'gini', 'max_depth': 100, 'min_samples_leaf': 15, 'min_samples_split': 10, 'n_estimators': 100},\n",
       " mean: 0.71042, std: 0.04388, params: {'criterion': 'gini', 'max_depth': 100, 'min_samples_leaf': 15, 'min_samples_split': 10, 'n_estimators': 150},\n",
       " mean: 0.68333, std: 0.02766, params: {'criterion': 'gini', 'max_depth': 100, 'min_samples_leaf': 15, 'min_samples_split': 15, 'n_estimators': 10},\n",
       " mean: 0.68542, std: 0.05326, params: {'criterion': 'gini', 'max_depth': 100, 'min_samples_leaf': 15, 'min_samples_split': 15, 'n_estimators': 20},\n",
       " mean: 0.67917, std: 0.04711, params: {'criterion': 'gini', 'max_depth': 100, 'min_samples_leaf': 15, 'min_samples_split': 15, 'n_estimators': 50},\n",
       " mean: 0.70417, std: 0.04223, params: {'criterion': 'gini', 'max_depth': 100, 'min_samples_leaf': 15, 'min_samples_split': 15, 'n_estimators': 100},\n",
       " mean: 0.69375, std: 0.03399, params: {'criterion': 'gini', 'max_depth': 100, 'min_samples_leaf': 15, 'min_samples_split': 15, 'n_estimators': 150},\n",
       " mean: 0.65208, std: 0.07167, params: {'criterion': 'entropy', 'max_depth': 10, 'min_samples_leaf': 1, 'min_samples_split': 2, 'n_estimators': 10},\n",
       " mean: 0.66042, std: 0.02426, params: {'criterion': 'entropy', 'max_depth': 10, 'min_samples_leaf': 1, 'min_samples_split': 2, 'n_estimators': 20},\n",
       " mean: 0.66875, std: 0.03493, params: {'criterion': 'entropy', 'max_depth': 10, 'min_samples_leaf': 1, 'min_samples_split': 2, 'n_estimators': 50},\n",
       " mean: 0.68542, std: 0.05505, params: {'criterion': 'entropy', 'max_depth': 10, 'min_samples_leaf': 1, 'min_samples_split': 2, 'n_estimators': 100},\n",
       " mean: 0.68542, std: 0.04448, params: {'criterion': 'entropy', 'max_depth': 10, 'min_samples_leaf': 1, 'min_samples_split': 2, 'n_estimators': 150},\n",
       " mean: 0.67500, std: 0.05436, params: {'criterion': 'entropy', 'max_depth': 10, 'min_samples_leaf': 1, 'min_samples_split': 5, 'n_estimators': 10},\n",
       " mean: 0.67917, std: 0.03906, params: {'criterion': 'entropy', 'max_depth': 10, 'min_samples_leaf': 1, 'min_samples_split': 5, 'n_estimators': 20},\n",
       " mean: 0.67500, std: 0.02785, params: {'criterion': 'entropy', 'max_depth': 10, 'min_samples_leaf': 1, 'min_samples_split': 5, 'n_estimators': 50},\n",
       " mean: 0.68958, std: 0.04043, params: {'criterion': 'entropy', 'max_depth': 10, 'min_samples_leaf': 1, 'min_samples_split': 5, 'n_estimators': 100},\n",
       " mean: 0.68750, std: 0.03503, params: {'criterion': 'entropy', 'max_depth': 10, 'min_samples_leaf': 1, 'min_samples_split': 5, 'n_estimators': 150},\n",
       " mean: 0.67292, std: 0.03498, params: {'criterion': 'entropy', 'max_depth': 10, 'min_samples_leaf': 1, 'min_samples_split': 10, 'n_estimators': 10},\n",
       " mean: 0.68333, std: 0.05338, params: {'criterion': 'entropy', 'max_depth': 10, 'min_samples_leaf': 1, 'min_samples_split': 10, 'n_estimators': 20},\n",
       " mean: 0.68333, std: 0.04128, params: {'criterion': 'entropy', 'max_depth': 10, 'min_samples_leaf': 1, 'min_samples_split': 10, 'n_estimators': 50},\n",
       " mean: 0.67708, std: 0.03945, params: {'criterion': 'entropy', 'max_depth': 10, 'min_samples_leaf': 1, 'min_samples_split': 10, 'n_estimators': 100},\n",
       " mean: 0.68958, std: 0.05315, params: {'criterion': 'entropy', 'max_depth': 10, 'min_samples_leaf': 1, 'min_samples_split': 10, 'n_estimators': 150},\n",
       " mean: 0.65417, std: 0.04527, params: {'criterion': 'entropy', 'max_depth': 10, 'min_samples_leaf': 1, 'min_samples_split': 15, 'n_estimators': 10},\n",
       " mean: 0.67083, std: 0.07293, params: {'criterion': 'entropy', 'max_depth': 10, 'min_samples_leaf': 1, 'min_samples_split': 15, 'n_estimators': 20},\n",
       " mean: 0.67917, std: 0.04042, params: {'criterion': 'entropy', 'max_depth': 10, 'min_samples_leaf': 1, 'min_samples_split': 15, 'n_estimators': 50},\n",
       " mean: 0.66667, std: 0.02503, params: {'criterion': 'entropy', 'max_depth': 10, 'min_samples_leaf': 1, 'min_samples_split': 15, 'n_estimators': 100},\n",
       " mean: 0.69375, std: 0.04849, params: {'criterion': 'entropy', 'max_depth': 10, 'min_samples_leaf': 1, 'min_samples_split': 15, 'n_estimators': 150},\n",
       " mean: 0.66667, std: 0.04792, params: {'criterion': 'entropy', 'max_depth': 10, 'min_samples_leaf': 5, 'min_samples_split': 2, 'n_estimators': 10},\n",
       " mean: 0.70625, std: 0.03217, params: {'criterion': 'entropy', 'max_depth': 10, 'min_samples_leaf': 5, 'min_samples_split': 2, 'n_estimators': 20},\n",
       " mean: 0.69167, std: 0.04527, params: {'criterion': 'entropy', 'max_depth': 10, 'min_samples_leaf': 5, 'min_samples_split': 2, 'n_estimators': 50},\n",
       " mean: 0.68333, std: 0.04437, params: {'criterion': 'entropy', 'max_depth': 10, 'min_samples_leaf': 5, 'min_samples_split': 2, 'n_estimators': 100},\n",
       " mean: 0.67708, std: 0.02983, params: {'criterion': 'entropy', 'max_depth': 10, 'min_samples_leaf': 5, 'min_samples_split': 2, 'n_estimators': 150},\n",
       " mean: 0.69167, std: 0.05344, params: {'criterion': 'entropy', 'max_depth': 10, 'min_samples_leaf': 5, 'min_samples_split': 5, 'n_estimators': 10},\n",
       " mean: 0.68958, std: 0.05327, params: {'criterion': 'entropy', 'max_depth': 10, 'min_samples_leaf': 5, 'min_samples_split': 5, 'n_estimators': 20},\n",
       " mean: 0.68958, std: 0.03914, params: {'criterion': 'entropy', 'max_depth': 10, 'min_samples_leaf': 5, 'min_samples_split': 5, 'n_estimators': 50},\n",
       " mean: 0.68333, std: 0.04723, params: {'criterion': 'entropy', 'max_depth': 10, 'min_samples_leaf': 5, 'min_samples_split': 5, 'n_estimators': 100},\n",
       " mean: 0.69375, std: 0.05205, params: {'criterion': 'entropy', 'max_depth': 10, 'min_samples_leaf': 5, 'min_samples_split': 5, 'n_estimators': 150},\n",
       " mean: 0.69583, std: 0.05065, params: {'criterion': 'entropy', 'max_depth': 10, 'min_samples_leaf': 5, 'min_samples_split': 10, 'n_estimators': 10},\n",
       " mean: 0.65208, std: 0.02810, params: {'criterion': 'entropy', 'max_depth': 10, 'min_samples_leaf': 5, 'min_samples_split': 10, 'n_estimators': 20},\n",
       " mean: 0.68333, std: 0.03907, params: {'criterion': 'entropy', 'max_depth': 10, 'min_samples_leaf': 5, 'min_samples_split': 10, 'n_estimators': 50},\n",
       " mean: 0.67292, std: 0.05288, params: {'criterion': 'entropy', 'max_depth': 10, 'min_samples_leaf': 5, 'min_samples_split': 10, 'n_estimators': 100},\n",
       " mean: 0.67917, std: 0.03595, params: {'criterion': 'entropy', 'max_depth': 10, 'min_samples_leaf': 5, 'min_samples_split': 10, 'n_estimators': 150},\n",
       " mean: 0.68958, std: 0.03445, params: {'criterion': 'entropy', 'max_depth': 10, 'min_samples_leaf': 5, 'min_samples_split': 15, 'n_estimators': 10},\n",
       " mean: 0.68958, std: 0.03449, params: {'criterion': 'entropy', 'max_depth': 10, 'min_samples_leaf': 5, 'min_samples_split': 15, 'n_estimators': 20},\n",
       " mean: 0.67500, std: 0.03133, params: {'criterion': 'entropy', 'max_depth': 10, 'min_samples_leaf': 5, 'min_samples_split': 15, 'n_estimators': 50},\n",
       " mean: 0.70000, std: 0.04908, params: {'criterion': 'entropy', 'max_depth': 10, 'min_samples_leaf': 5, 'min_samples_split': 15, 'n_estimators': 100},\n",
       " mean: 0.69167, std: 0.04999, params: {'criterion': 'entropy', 'max_depth': 10, 'min_samples_leaf': 5, 'min_samples_split': 15, 'n_estimators': 150},\n",
       " mean: 0.67708, std: 0.03211, params: {'criterion': 'entropy', 'max_depth': 10, 'min_samples_leaf': 10, 'min_samples_split': 2, 'n_estimators': 10},\n",
       " mean: 0.68333, std: 0.04734, params: {'criterion': 'entropy', 'max_depth': 10, 'min_samples_leaf': 10, 'min_samples_split': 2, 'n_estimators': 20},\n",
       " mean: 0.68750, std: 0.04225, params: {'criterion': 'entropy', 'max_depth': 10, 'min_samples_leaf': 10, 'min_samples_split': 2, 'n_estimators': 50},\n",
       " mean: 0.68958, std: 0.03909, params: {'criterion': 'entropy', 'max_depth': 10, 'min_samples_leaf': 10, 'min_samples_split': 2, 'n_estimators': 100},\n",
       " mean: 0.66875, std: 0.03217, params: {'criterion': 'entropy', 'max_depth': 10, 'min_samples_leaf': 10, 'min_samples_split': 2, 'n_estimators': 150},\n",
       " mean: 0.70625, std: 0.05293, params: {'criterion': 'entropy', 'max_depth': 10, 'min_samples_leaf': 10, 'min_samples_split': 5, 'n_estimators': 10},\n",
       " mean: 0.70625, std: 0.04555, params: {'criterion': 'entropy', 'max_depth': 10, 'min_samples_leaf': 10, 'min_samples_split': 5, 'n_estimators': 20},\n",
       " mean: 0.68750, std: 0.04463, params: {'criterion': 'entropy', 'max_depth': 10, 'min_samples_leaf': 10, 'min_samples_split': 5, 'n_estimators': 50},\n",
       " mean: 0.69375, std: 0.03719, params: {'criterion': 'entropy', 'max_depth': 10, 'min_samples_leaf': 10, 'min_samples_split': 5, 'n_estimators': 100},\n",
       " mean: 0.68125, std: 0.02237, params: {'criterion': 'entropy', 'max_depth': 10, 'min_samples_leaf': 10, 'min_samples_split': 5, 'n_estimators': 150},\n",
       " mean: 0.68125, std: 0.04995, params: {'criterion': 'entropy', 'max_depth': 10, 'min_samples_leaf': 10, 'min_samples_split': 10, 'n_estimators': 10},\n",
       " mean: 0.67708, std: 0.05042, params: {'criterion': 'entropy', 'max_depth': 10, 'min_samples_leaf': 10, 'min_samples_split': 10, 'n_estimators': 20},\n",
       " mean: 0.68750, std: 0.02440, params: {'criterion': 'entropy', 'max_depth': 10, 'min_samples_leaf': 10, 'min_samples_split': 10, 'n_estimators': 50},\n",
       " mean: 0.69792, std: 0.03297, params: {'criterion': 'entropy', 'max_depth': 10, 'min_samples_leaf': 10, 'min_samples_split': 10, 'n_estimators': 100},\n",
       " mean: 0.69583, std: 0.03414, params: {'criterion': 'entropy', 'max_depth': 10, 'min_samples_leaf': 10, 'min_samples_split': 10, 'n_estimators': 150},\n",
       " mean: 0.66667, std: 0.03238, params: {'criterion': 'entropy', 'max_depth': 10, 'min_samples_leaf': 10, 'min_samples_split': 15, 'n_estimators': 10},\n",
       " mean: 0.69792, std: 0.06513, params: {'criterion': 'entropy', 'max_depth': 10, 'min_samples_leaf': 10, 'min_samples_split': 15, 'n_estimators': 20},\n",
       " mean: 0.68958, std: 0.01839, params: {'criterion': 'entropy', 'max_depth': 10, 'min_samples_leaf': 10, 'min_samples_split': 15, 'n_estimators': 50},\n",
       " mean: 0.69375, std: 0.04251, params: {'criterion': 'entropy', 'max_depth': 10, 'min_samples_leaf': 10, 'min_samples_split': 15, 'n_estimators': 100},\n",
       " mean: 0.68750, std: 0.03866, params: {'criterion': 'entropy', 'max_depth': 10, 'min_samples_leaf': 10, 'min_samples_split': 15, 'n_estimators': 150},\n",
       " mean: 0.70417, std: 0.05310, params: {'criterion': 'entropy', 'max_depth': 10, 'min_samples_leaf': 15, 'min_samples_split': 2, 'n_estimators': 10},\n",
       " mean: 0.67708, std: 0.05257, params: {'criterion': 'entropy', 'max_depth': 10, 'min_samples_leaf': 15, 'min_samples_split': 2, 'n_estimators': 20},\n",
       " mean: 0.69583, std: 0.05315, params: {'criterion': 'entropy', 'max_depth': 10, 'min_samples_leaf': 15, 'min_samples_split': 2, 'n_estimators': 50},\n",
       " mean: 0.69583, std: 0.03891, params: {'criterion': 'entropy', 'max_depth': 10, 'min_samples_leaf': 15, 'min_samples_split': 2, 'n_estimators': 100},\n",
       " mean: 0.67917, std: 0.04038, params: {'criterion': 'entropy', 'max_depth': 10, 'min_samples_leaf': 15, 'min_samples_split': 2, 'n_estimators': 150},\n",
       " mean: 0.70208, std: 0.05763, params: {'criterion': 'entropy', 'max_depth': 10, 'min_samples_leaf': 15, 'min_samples_split': 5, 'n_estimators': 10},\n",
       " mean: 0.68542, std: 0.03251, params: {'criterion': 'entropy', 'max_depth': 10, 'min_samples_leaf': 15, 'min_samples_split': 5, 'n_estimators': 20},\n",
       " mean: 0.67500, std: 0.03133, params: {'criterion': 'entropy', 'max_depth': 10, 'min_samples_leaf': 15, 'min_samples_split': 5, 'n_estimators': 50},\n",
       " mean: 0.68125, std: 0.03781, params: {'criterion': 'entropy', 'max_depth': 10, 'min_samples_leaf': 15, 'min_samples_split': 5, 'n_estimators': 100},\n",
       " mean: 0.67292, std: 0.04597, params: {'criterion': 'entropy', 'max_depth': 10, 'min_samples_leaf': 15, 'min_samples_split': 5, 'n_estimators': 150},\n",
       " mean: 0.68333, std: 0.05902, params: {'criterion': 'entropy', 'max_depth': 10, 'min_samples_leaf': 15, 'min_samples_split': 10, 'n_estimators': 10},\n",
       " mean: 0.64583, std: 0.04647, params: {'criterion': 'entropy', 'max_depth': 10, 'min_samples_leaf': 15, 'min_samples_split': 10, 'n_estimators': 20},\n",
       " mean: 0.69583, std: 0.03717, params: {'criterion': 'entropy', 'max_depth': 10, 'min_samples_leaf': 15, 'min_samples_split': 10, 'n_estimators': 50},\n",
       " mean: 0.67500, std: 0.04885, params: {'criterion': 'entropy', 'max_depth': 10, 'min_samples_leaf': 15, 'min_samples_split': 10, 'n_estimators': 100},\n",
       " mean: 0.69792, std: 0.05060, params: {'criterion': 'entropy', 'max_depth': 10, 'min_samples_leaf': 15, 'min_samples_split': 10, 'n_estimators': 150},\n",
       " mean: 0.69792, std: 0.04882, params: {'criterion': 'entropy', 'max_depth': 10, 'min_samples_leaf': 15, 'min_samples_split': 15, 'n_estimators': 10},\n",
       " mean: 0.67917, std: 0.04835, params: {'criterion': 'entropy', 'max_depth': 10, 'min_samples_leaf': 15, 'min_samples_split': 15, 'n_estimators': 20},\n",
       " mean: 0.67083, std: 0.05189, params: {'criterion': 'entropy', 'max_depth': 10, 'min_samples_leaf': 15, 'min_samples_split': 15, 'n_estimators': 50},\n",
       " mean: 0.70625, std: 0.03579, params: {'criterion': 'entropy', 'max_depth': 10, 'min_samples_leaf': 15, 'min_samples_split': 15, 'n_estimators': 100},\n",
       " mean: 0.68125, std: 0.05111, params: {'criterion': 'entropy', 'max_depth': 10, 'min_samples_leaf': 15, 'min_samples_split': 15, 'n_estimators': 150},\n",
       " mean: 0.68958, std: 0.05851, params: {'criterion': 'entropy', 'max_depth': 20, 'min_samples_leaf': 1, 'min_samples_split': 2, 'n_estimators': 10},\n",
       " mean: 0.66250, std: 0.03880, params: {'criterion': 'entropy', 'max_depth': 20, 'min_samples_leaf': 1, 'min_samples_split': 2, 'n_estimators': 20},\n",
       " mean: 0.67083, std: 0.05317, params: {'criterion': 'entropy', 'max_depth': 20, 'min_samples_leaf': 1, 'min_samples_split': 2, 'n_estimators': 50},\n",
       " mean: 0.69792, std: 0.06471, params: {'criterion': 'entropy', 'max_depth': 20, 'min_samples_leaf': 1, 'min_samples_split': 2, 'n_estimators': 100},\n",
       " mean: 0.67917, std: 0.05105, params: {'criterion': 'entropy', 'max_depth': 20, 'min_samples_leaf': 1, 'min_samples_split': 2, 'n_estimators': 150},\n",
       " mean: 0.71042, std: 0.03915, params: {'criterion': 'entropy', 'max_depth': 20, 'min_samples_leaf': 1, 'min_samples_split': 5, 'n_estimators': 10},\n",
       " mean: 0.68125, std: 0.07074, params: {'criterion': 'entropy', 'max_depth': 20, 'min_samples_leaf': 1, 'min_samples_split': 5, 'n_estimators': 20},\n",
       " mean: 0.66667, std: 0.06169, params: {'criterion': 'entropy', 'max_depth': 20, 'min_samples_leaf': 1, 'min_samples_split': 5, 'n_estimators': 50},\n",
       " mean: 0.67917, std: 0.02459, params: {'criterion': 'entropy', 'max_depth': 20, 'min_samples_leaf': 1, 'min_samples_split': 5, 'n_estimators': 100},\n",
       " mean: 0.68125, std: 0.05710, params: {'criterion': 'entropy', 'max_depth': 20, 'min_samples_leaf': 1, 'min_samples_split': 5, 'n_estimators': 150},\n",
       " mean: 0.65417, std: 0.05043, params: {'criterion': 'entropy', 'max_depth': 20, 'min_samples_leaf': 1, 'min_samples_split': 10, 'n_estimators': 10},\n",
       " mean: 0.68333, std: 0.04086, params: {'criterion': 'entropy', 'max_depth': 20, 'min_samples_leaf': 1, 'min_samples_split': 10, 'n_estimators': 20},\n",
       " mean: 0.67917, std: 0.05432, params: {'criterion': 'entropy', 'max_depth': 20, 'min_samples_leaf': 1, 'min_samples_split': 10, 'n_estimators': 50},\n",
       " mean: 0.69167, std: 0.04174, params: {'criterion': 'entropy', 'max_depth': 20, 'min_samples_leaf': 1, 'min_samples_split': 10, 'n_estimators': 100},\n",
       " mean: 0.68333, std: 0.05207, params: {'criterion': 'entropy', 'max_depth': 20, 'min_samples_leaf': 1, 'min_samples_split': 10, 'n_estimators': 150},\n",
       " mean: 0.67708, std: 0.04490, params: {'criterion': 'entropy', 'max_depth': 20, 'min_samples_leaf': 1, 'min_samples_split': 15, 'n_estimators': 10},\n",
       " mean: 0.69167, std: 0.05958, params: {'criterion': 'entropy', 'max_depth': 20, 'min_samples_leaf': 1, 'min_samples_split': 15, 'n_estimators': 20},\n",
       " mean: 0.68542, std: 0.03337, params: {'criterion': 'entropy', 'max_depth': 20, 'min_samples_leaf': 1, 'min_samples_split': 15, 'n_estimators': 50},\n",
       " mean: 0.68542, std: 0.04982, params: {'criterion': 'entropy', 'max_depth': 20, 'min_samples_leaf': 1, 'min_samples_split': 15, 'n_estimators': 100},\n",
       " mean: 0.69167, std: 0.04461, params: {'criterion': 'entropy', 'max_depth': 20, 'min_samples_leaf': 1, 'min_samples_split': 15, 'n_estimators': 150},\n",
       " mean: 0.68958, std: 0.02979, params: {'criterion': 'entropy', 'max_depth': 20, 'min_samples_leaf': 5, 'min_samples_split': 2, 'n_estimators': 10},\n",
       " mean: 0.68542, std: 0.01867, params: {'criterion': 'entropy', 'max_depth': 20, 'min_samples_leaf': 5, 'min_samples_split': 2, 'n_estimators': 20},\n",
       " mean: 0.70000, std: 0.04949, params: {'criterion': 'entropy', 'max_depth': 20, 'min_samples_leaf': 5, 'min_samples_split': 2, 'n_estimators': 50},\n",
       " mean: 0.69167, std: 0.04944, params: {'criterion': 'entropy', 'max_depth': 20, 'min_samples_leaf': 5, 'min_samples_split': 2, 'n_estimators': 100},\n",
       " mean: 0.69583, std: 0.03912, params: {'criterion': 'entropy', 'max_depth': 20, 'min_samples_leaf': 5, 'min_samples_split': 2, 'n_estimators': 150},\n",
       " mean: 0.66042, std: 0.04927, params: {'criterion': 'entropy', 'max_depth': 20, 'min_samples_leaf': 5, 'min_samples_split': 5, 'n_estimators': 10},\n",
       " mean: 0.67708, std: 0.04502, params: {'criterion': 'entropy', 'max_depth': 20, 'min_samples_leaf': 5, 'min_samples_split': 5, 'n_estimators': 20},\n",
       " mean: 0.68750, std: 0.05307, params: {'criterion': 'entropy', 'max_depth': 20, 'min_samples_leaf': 5, 'min_samples_split': 5, 'n_estimators': 50},\n",
       " mean: 0.69167, std: 0.03810, params: {'criterion': 'entropy', 'max_depth': 20, 'min_samples_leaf': 5, 'min_samples_split': 5, 'n_estimators': 100},\n",
       " mean: 0.69792, std: 0.04365, params: {'criterion': 'entropy', 'max_depth': 20, 'min_samples_leaf': 5, 'min_samples_split': 5, 'n_estimators': 150},\n",
       " mean: 0.66458, std: 0.02891, params: {'criterion': 'entropy', 'max_depth': 20, 'min_samples_leaf': 5, 'min_samples_split': 10, 'n_estimators': 10},\n",
       " mean: 0.66458, std: 0.02619, params: {'criterion': 'entropy', 'max_depth': 20, 'min_samples_leaf': 5, 'min_samples_split': 10, 'n_estimators': 20},\n",
       " mean: 0.67500, std: 0.03479, params: {'criterion': 'entropy', 'max_depth': 20, 'min_samples_leaf': 5, 'min_samples_split': 10, 'n_estimators': 50},\n",
       " mean: 0.68333, std: 0.04606, params: {'criterion': 'entropy', 'max_depth': 20, 'min_samples_leaf': 5, 'min_samples_split': 10, 'n_estimators': 100},\n",
       " mean: 0.69375, std: 0.04682, params: {'criterion': 'entropy', 'max_depth': 20, 'min_samples_leaf': 5, 'min_samples_split': 10, 'n_estimators': 150},\n",
       " mean: 0.65000, std: 0.04755, params: {'criterion': 'entropy', 'max_depth': 20, 'min_samples_leaf': 5, 'min_samples_split': 15, 'n_estimators': 10},\n",
       " mean: 0.67292, std: 0.04645, params: {'criterion': 'entropy', 'max_depth': 20, 'min_samples_leaf': 5, 'min_samples_split': 15, 'n_estimators': 20},\n",
       " mean: 0.65833, std: 0.03872, params: {'criterion': 'entropy', 'max_depth': 20, 'min_samples_leaf': 5, 'min_samples_split': 15, 'n_estimators': 50},\n",
       " mean: 0.68750, std: 0.05397, params: {'criterion': 'entropy', 'max_depth': 20, 'min_samples_leaf': 5, 'min_samples_split': 15, 'n_estimators': 100},\n",
       " mean: 0.68542, std: 0.04965, params: {'criterion': 'entropy', 'max_depth': 20, 'min_samples_leaf': 5, 'min_samples_split': 15, 'n_estimators': 150},\n",
       " mean: 0.69583, std: 0.01072, params: {'criterion': 'entropy', 'max_depth': 20, 'min_samples_leaf': 10, 'min_samples_split': 2, 'n_estimators': 10},\n",
       " mean: 0.71875, std: 0.05191, params: {'criterion': 'entropy', 'max_depth': 20, 'min_samples_leaf': 10, 'min_samples_split': 2, 'n_estimators': 20},\n",
       " mean: 0.67708, std: 0.03034, params: {'criterion': 'entropy', 'max_depth': 20, 'min_samples_leaf': 10, 'min_samples_split': 2, 'n_estimators': 50},\n",
       " mean: 0.69375, std: 0.05370, params: {'criterion': 'entropy', 'max_depth': 20, 'min_samples_leaf': 10, 'min_samples_split': 2, 'n_estimators': 100},\n",
       " mean: 0.68125, std: 0.04020, params: {'criterion': 'entropy', 'max_depth': 20, 'min_samples_leaf': 10, 'min_samples_split': 2, 'n_estimators': 150},\n",
       " mean: 0.66667, std: 0.05389, params: {'criterion': 'entropy', 'max_depth': 20, 'min_samples_leaf': 10, 'min_samples_split': 5, 'n_estimators': 10},\n",
       " mean: 0.69375, std: 0.04308, params: {'criterion': 'entropy', 'max_depth': 20, 'min_samples_leaf': 10, 'min_samples_split': 5, 'n_estimators': 20},\n",
       " mean: 0.67292, std: 0.02687, params: {'criterion': 'entropy', 'max_depth': 20, 'min_samples_leaf': 10, 'min_samples_split': 5, 'n_estimators': 50},\n",
       " mean: 0.69167, std: 0.02212, params: {'criterion': 'entropy', 'max_depth': 20, 'min_samples_leaf': 10, 'min_samples_split': 5, 'n_estimators': 100},\n",
       " mean: 0.69375, std: 0.02638, params: {'criterion': 'entropy', 'max_depth': 20, 'min_samples_leaf': 10, 'min_samples_split': 5, 'n_estimators': 150},\n",
       " mean: 0.67292, std: 0.02856, params: {'criterion': 'entropy', 'max_depth': 20, 'min_samples_leaf': 10, 'min_samples_split': 10, 'n_estimators': 10},\n",
       " mean: 0.68958, std: 0.07054, params: {'criterion': 'entropy', 'max_depth': 20, 'min_samples_leaf': 10, 'min_samples_split': 10, 'n_estimators': 20},\n",
       " mean: 0.68125, std: 0.03745, params: {'criterion': 'entropy', 'max_depth': 20, 'min_samples_leaf': 10, 'min_samples_split': 10, 'n_estimators': 50},\n",
       " mean: 0.69375, std: 0.02253, params: {'criterion': 'entropy', 'max_depth': 20, 'min_samples_leaf': 10, 'min_samples_split': 10, 'n_estimators': 100},\n",
       " mean: 0.68125, std: 0.03459, params: {'criterion': 'entropy', 'max_depth': 20, 'min_samples_leaf': 10, 'min_samples_split': 10, 'n_estimators': 150},\n",
       " mean: 0.68542, std: 0.04720, params: {'criterion': 'entropy', 'max_depth': 20, 'min_samples_leaf': 10, 'min_samples_split': 15, 'n_estimators': 10},\n",
       " mean: 0.70208, std: 0.03568, params: {'criterion': 'entropy', 'max_depth': 20, 'min_samples_leaf': 10, 'min_samples_split': 15, 'n_estimators': 20},\n",
       " mean: 0.69792, std: 0.02326, params: {'criterion': 'entropy', 'max_depth': 20, 'min_samples_leaf': 10, 'min_samples_split': 15, 'n_estimators': 50},\n",
       " mean: 0.68750, std: 0.03872, params: {'criterion': 'entropy', 'max_depth': 20, 'min_samples_leaf': 10, 'min_samples_split': 15, 'n_estimators': 100},\n",
       " mean: 0.68333, std: 0.05238, params: {'criterion': 'entropy', 'max_depth': 20, 'min_samples_leaf': 10, 'min_samples_split': 15, 'n_estimators': 150},\n",
       " mean: 0.70208, std: 0.04207, params: {'criterion': 'entropy', 'max_depth': 20, 'min_samples_leaf': 15, 'min_samples_split': 2, 'n_estimators': 10},\n",
       " mean: 0.69792, std: 0.03522, params: {'criterion': 'entropy', 'max_depth': 20, 'min_samples_leaf': 15, 'min_samples_split': 2, 'n_estimators': 20},\n",
       " mean: 0.67292, std: 0.04195, params: {'criterion': 'entropy', 'max_depth': 20, 'min_samples_leaf': 15, 'min_samples_split': 2, 'n_estimators': 50},\n",
       " mean: 0.69167, std: 0.02688, params: {'criterion': 'entropy', 'max_depth': 20, 'min_samples_leaf': 15, 'min_samples_split': 2, 'n_estimators': 100},\n",
       " mean: 0.68333, std: 0.01964, params: {'criterion': 'entropy', 'max_depth': 20, 'min_samples_leaf': 15, 'min_samples_split': 2, 'n_estimators': 150},\n",
       " mean: 0.67083, std: 0.05840, params: {'criterion': 'entropy', 'max_depth': 20, 'min_samples_leaf': 15, 'min_samples_split': 5, 'n_estimators': 10},\n",
       " mean: 0.67708, std: 0.03585, params: {'criterion': 'entropy', 'max_depth': 20, 'min_samples_leaf': 15, 'min_samples_split': 5, 'n_estimators': 20},\n",
       " mean: 0.67500, std: 0.04729, params: {'criterion': 'entropy', 'max_depth': 20, 'min_samples_leaf': 15, 'min_samples_split': 5, 'n_estimators': 50},\n",
       " mean: 0.69583, std: 0.03912, params: {'criterion': 'entropy', 'max_depth': 20, 'min_samples_leaf': 15, 'min_samples_split': 5, 'n_estimators': 100},\n",
       " mean: 0.69375, std: 0.04407, params: {'criterion': 'entropy', 'max_depth': 20, 'min_samples_leaf': 15, 'min_samples_split': 5, 'n_estimators': 150},\n",
       " mean: 0.69167, std: 0.04421, params: {'criterion': 'entropy', 'max_depth': 20, 'min_samples_leaf': 15, 'min_samples_split': 10, 'n_estimators': 10},\n",
       " mean: 0.67708, std: 0.06754, params: {'criterion': 'entropy', 'max_depth': 20, 'min_samples_leaf': 15, 'min_samples_split': 10, 'n_estimators': 20},\n",
       " mean: 0.68333, std: 0.05840, params: {'criterion': 'entropy', 'max_depth': 20, 'min_samples_leaf': 15, 'min_samples_split': 10, 'n_estimators': 50},\n",
       " mean: 0.68958, std: 0.02349, params: {'criterion': 'entropy', 'max_depth': 20, 'min_samples_leaf': 15, 'min_samples_split': 10, 'n_estimators': 100},\n",
       " mean: 0.67708, std: 0.02868, params: {'criterion': 'entropy', 'max_depth': 20, 'min_samples_leaf': 15, 'min_samples_split': 10, 'n_estimators': 150},\n",
       " mean: 0.69792, std: 0.01979, params: {'criterion': 'entropy', 'max_depth': 20, 'min_samples_leaf': 15, 'min_samples_split': 15, 'n_estimators': 10},\n",
       " mean: 0.68750, std: 0.04143, params: {'criterion': 'entropy', 'max_depth': 20, 'min_samples_leaf': 15, 'min_samples_split': 15, 'n_estimators': 20},\n",
       " mean: 0.71458, std: 0.04461, params: {'criterion': 'entropy', 'max_depth': 20, 'min_samples_leaf': 15, 'min_samples_split': 15, 'n_estimators': 50},\n",
       " mean: 0.67708, std: 0.04738, params: {'criterion': 'entropy', 'max_depth': 20, 'min_samples_leaf': 15, 'min_samples_split': 15, 'n_estimators': 100},\n",
       " mean: 0.68750, std: 0.04767, params: {'criterion': 'entropy', 'max_depth': 20, 'min_samples_leaf': 15, 'min_samples_split': 15, 'n_estimators': 150},\n",
       " mean: 0.62292, std: 0.04739, params: {'criterion': 'entropy', 'max_depth': 50, 'min_samples_leaf': 1, 'min_samples_split': 2, 'n_estimators': 10},\n",
       " mean: 0.63750, std: 0.05264, params: {'criterion': 'entropy', 'max_depth': 50, 'min_samples_leaf': 1, 'min_samples_split': 2, 'n_estimators': 20},\n",
       " mean: 0.65625, std: 0.05099, params: {'criterion': 'entropy', 'max_depth': 50, 'min_samples_leaf': 1, 'min_samples_split': 2, 'n_estimators': 50},\n",
       " mean: 0.68750, std: 0.05420, params: {'criterion': 'entropy', 'max_depth': 50, 'min_samples_leaf': 1, 'min_samples_split': 2, 'n_estimators': 100},\n",
       " mean: 0.68750, std: 0.03891, params: {'criterion': 'entropy', 'max_depth': 50, 'min_samples_leaf': 1, 'min_samples_split': 2, 'n_estimators': 150},\n",
       " mean: 0.65000, std: 0.04664, params: {'criterion': 'entropy', 'max_depth': 50, 'min_samples_leaf': 1, 'min_samples_split': 5, 'n_estimators': 10},\n",
       " mean: 0.67917, std: 0.04517, params: {'criterion': 'entropy', 'max_depth': 50, 'min_samples_leaf': 1, 'min_samples_split': 5, 'n_estimators': 20},\n",
       " mean: 0.68958, std: 0.05908, params: {'criterion': 'entropy', 'max_depth': 50, 'min_samples_leaf': 1, 'min_samples_split': 5, 'n_estimators': 50},\n",
       " mean: 0.68125, std: 0.04020, params: {'criterion': 'entropy', 'max_depth': 50, 'min_samples_leaf': 1, 'min_samples_split': 5, 'n_estimators': 100},\n",
       " mean: 0.67708, std: 0.04509, params: {'criterion': 'entropy', 'max_depth': 50, 'min_samples_leaf': 1, 'min_samples_split': 5, 'n_estimators': 150},\n",
       " mean: 0.67917, std: 0.04985, params: {'criterion': 'entropy', 'max_depth': 50, 'min_samples_leaf': 1, 'min_samples_split': 10, 'n_estimators': 10},\n",
       " mean: 0.64792, std: 0.03116, params: {'criterion': 'entropy', 'max_depth': 50, 'min_samples_leaf': 1, 'min_samples_split': 10, 'n_estimators': 20},\n",
       " mean: 0.67917, std: 0.03186, params: {'criterion': 'entropy', 'max_depth': 50, 'min_samples_leaf': 1, 'min_samples_split': 10, 'n_estimators': 50},\n",
       " mean: 0.68750, std: 0.03515, params: {'criterion': 'entropy', 'max_depth': 50, 'min_samples_leaf': 1, 'min_samples_split': 10, 'n_estimators': 100},\n",
       " mean: 0.67292, std: 0.03398, params: {'criterion': 'entropy', 'max_depth': 50, 'min_samples_leaf': 1, 'min_samples_split': 10, 'n_estimators': 150},\n",
       " mean: 0.68333, std: 0.04252, params: {'criterion': 'entropy', 'max_depth': 50, 'min_samples_leaf': 1, 'min_samples_split': 15, 'n_estimators': 10},\n",
       " mean: 0.66875, std: 0.04491, params: {'criterion': 'entropy', 'max_depth': 50, 'min_samples_leaf': 1, 'min_samples_split': 15, 'n_estimators': 20},\n",
       " mean: 0.71042, std: 0.05252, params: {'criterion': 'entropy', 'max_depth': 50, 'min_samples_leaf': 1, 'min_samples_split': 15, 'n_estimators': 50},\n",
       " mean: 0.68958, std: 0.04460, params: {'criterion': 'entropy', 'max_depth': 50, 'min_samples_leaf': 1, 'min_samples_split': 15, 'n_estimators': 100},\n",
       " mean: 0.68750, std: 0.05551, params: {'criterion': 'entropy', 'max_depth': 50, 'min_samples_leaf': 1, 'min_samples_split': 15, 'n_estimators': 150},\n",
       " mean: 0.69583, std: 0.02993, params: {'criterion': 'entropy', 'max_depth': 50, 'min_samples_leaf': 5, 'min_samples_split': 2, 'n_estimators': 10},\n",
       " mean: 0.69792, std: 0.01244, params: {'criterion': 'entropy', 'max_depth': 50, 'min_samples_leaf': 5, 'min_samples_split': 2, 'n_estimators': 20},\n",
       " mean: 0.68125, std: 0.05264, params: {'criterion': 'entropy', 'max_depth': 50, 'min_samples_leaf': 5, 'min_samples_split': 2, 'n_estimators': 50},\n",
       " mean: 0.68958, std: 0.04723, params: {'criterion': 'entropy', 'max_depth': 50, 'min_samples_leaf': 5, 'min_samples_split': 2, 'n_estimators': 100},\n",
       " mean: 0.70208, std: 0.03808, params: {'criterion': 'entropy', 'max_depth': 50, 'min_samples_leaf': 5, 'min_samples_split': 2, 'n_estimators': 150},\n",
       " mean: 0.67917, std: 0.03370, params: {'criterion': 'entropy', 'max_depth': 50, 'min_samples_leaf': 5, 'min_samples_split': 5, 'n_estimators': 10},\n",
       " mean: 0.67708, std: 0.03267, params: {'criterion': 'entropy', 'max_depth': 50, 'min_samples_leaf': 5, 'min_samples_split': 5, 'n_estimators': 20},\n",
       " mean: 0.68958, std: 0.04742, params: {'criterion': 'entropy', 'max_depth': 50, 'min_samples_leaf': 5, 'min_samples_split': 5, 'n_estimators': 50},\n",
       " mean: 0.70417, std: 0.03776, params: {'criterion': 'entropy', 'max_depth': 50, 'min_samples_leaf': 5, 'min_samples_split': 5, 'n_estimators': 100},\n",
       " mean: 0.68750, std: 0.05040, params: {'criterion': 'entropy', 'max_depth': 50, 'min_samples_leaf': 5, 'min_samples_split': 5, 'n_estimators': 150},\n",
       " mean: 0.67292, std: 0.04140, params: {'criterion': 'entropy', 'max_depth': 50, 'min_samples_leaf': 5, 'min_samples_split': 10, 'n_estimators': 10},\n",
       " mean: 0.70417, std: 0.06161, params: {'criterion': 'entropy', 'max_depth': 50, 'min_samples_leaf': 5, 'min_samples_split': 10, 'n_estimators': 20},\n",
       " mean: 0.68333, std: 0.04475, params: {'criterion': 'entropy', 'max_depth': 50, 'min_samples_leaf': 5, 'min_samples_split': 10, 'n_estimators': 50},\n",
       " mean: 0.69167, std: 0.05117, params: {'criterion': 'entropy', 'max_depth': 50, 'min_samples_leaf': 5, 'min_samples_split': 10, 'n_estimators': 100},\n",
       " mean: 0.67500, std: 0.05227, params: {'criterion': 'entropy', 'max_depth': 50, 'min_samples_leaf': 5, 'min_samples_split': 10, 'n_estimators': 150},\n",
       " mean: 0.67500, std: 0.04271, params: {'criterion': 'entropy', 'max_depth': 50, 'min_samples_leaf': 5, 'min_samples_split': 15, 'n_estimators': 10},\n",
       " mean: 0.68750, std: 0.04148, params: {'criterion': 'entropy', 'max_depth': 50, 'min_samples_leaf': 5, 'min_samples_split': 15, 'n_estimators': 20},\n",
       " mean: 0.72292, std: 0.02573, params: {'criterion': 'entropy', 'max_depth': 50, 'min_samples_leaf': 5, 'min_samples_split': 15, 'n_estimators': 50},\n",
       " mean: 0.68750, std: 0.04707, params: {'criterion': 'entropy', 'max_depth': 50, 'min_samples_leaf': 5, 'min_samples_split': 15, 'n_estimators': 100},\n",
       " mean: 0.70625, std: 0.03564, params: {'criterion': 'entropy', 'max_depth': 50, 'min_samples_leaf': 5, 'min_samples_split': 15, 'n_estimators': 150},\n",
       " mean: 0.67083, std: 0.04319, params: {'criterion': 'entropy', 'max_depth': 50, 'min_samples_leaf': 10, 'min_samples_split': 2, 'n_estimators': 10},\n",
       " mean: 0.67708, std: 0.02113, params: {'criterion': 'entropy', 'max_depth': 50, 'min_samples_leaf': 10, 'min_samples_split': 2, 'n_estimators': 20},\n",
       " mean: 0.69583, std: 0.04233, params: {'criterion': 'entropy', 'max_depth': 50, 'min_samples_leaf': 10, 'min_samples_split': 2, 'n_estimators': 50},\n",
       " mean: 0.68958, std: 0.05902, params: {'criterion': 'entropy', 'max_depth': 50, 'min_samples_leaf': 10, 'min_samples_split': 2, 'n_estimators': 100},\n",
       " mean: 0.67500, std: 0.01893, params: {'criterion': 'entropy', 'max_depth': 50, 'min_samples_leaf': 10, 'min_samples_split': 2, 'n_estimators': 150},\n",
       " mean: 0.69167, std: 0.05457, params: {'criterion': 'entropy', 'max_depth': 50, 'min_samples_leaf': 10, 'min_samples_split': 5, 'n_estimators': 10},\n",
       " mean: 0.70208, std: 0.03787, params: {'criterion': 'entropy', 'max_depth': 50, 'min_samples_leaf': 10, 'min_samples_split': 5, 'n_estimators': 20},\n",
       " mean: 0.66667, std: 0.01764, params: {'criterion': 'entropy', 'max_depth': 50, 'min_samples_leaf': 10, 'min_samples_split': 5, 'n_estimators': 50},\n",
       " mean: 0.69583, std: 0.03673, params: {'criterion': 'entropy', 'max_depth': 50, 'min_samples_leaf': 10, 'min_samples_split': 5, 'n_estimators': 100},\n",
       " mean: 0.68750, std: 0.03979, params: {'criterion': 'entropy', 'max_depth': 50, 'min_samples_leaf': 10, 'min_samples_split': 5, 'n_estimators': 150},\n",
       " mean: 0.67500, std: 0.03284, params: {'criterion': 'entropy', 'max_depth': 50, 'min_samples_leaf': 10, 'min_samples_split': 10, 'n_estimators': 10},\n",
       " mean: 0.68125, std: 0.05909, params: {'criterion': 'entropy', 'max_depth': 50, 'min_samples_leaf': 10, 'min_samples_split': 10, 'n_estimators': 20},\n",
       " mean: 0.71667, std: 0.02822, params: {'criterion': 'entropy', 'max_depth': 50, 'min_samples_leaf': 10, 'min_samples_split': 10, 'n_estimators': 50},\n",
       " mean: 0.68750, std: 0.02577, params: {'criterion': 'entropy', 'max_depth': 50, 'min_samples_leaf': 10, 'min_samples_split': 10, 'n_estimators': 100},\n",
       " mean: 0.68958, std: 0.03480, params: {'criterion': 'entropy', 'max_depth': 50, 'min_samples_leaf': 10, 'min_samples_split': 10, 'n_estimators': 150},\n",
       " mean: 0.64792, std: 0.06553, params: {'criterion': 'entropy', 'max_depth': 50, 'min_samples_leaf': 10, 'min_samples_split': 15, 'n_estimators': 10},\n",
       " mean: 0.69167, std: 0.05661, params: {'criterion': 'entropy', 'max_depth': 50, 'min_samples_leaf': 10, 'min_samples_split': 15, 'n_estimators': 20},\n",
       " mean: 0.69375, std: 0.03413, params: {'criterion': 'entropy', 'max_depth': 50, 'min_samples_leaf': 10, 'min_samples_split': 15, 'n_estimators': 50},\n",
       " mean: 0.68125, std: 0.04231, params: {'criterion': 'entropy', 'max_depth': 50, 'min_samples_leaf': 10, 'min_samples_split': 15, 'n_estimators': 100},\n",
       " mean: 0.68750, std: 0.04770, params: {'criterion': 'entropy', 'max_depth': 50, 'min_samples_leaf': 10, 'min_samples_split': 15, 'n_estimators': 150},\n",
       " mean: 0.68125, std: 0.04464, params: {'criterion': 'entropy', 'max_depth': 50, 'min_samples_leaf': 15, 'min_samples_split': 2, 'n_estimators': 10},\n",
       " mean: 0.68958, std: 0.04812, params: {'criterion': 'entropy', 'max_depth': 50, 'min_samples_leaf': 15, 'min_samples_split': 2, 'n_estimators': 20},\n",
       " mean: 0.69583, std: 0.06291, params: {'criterion': 'entropy', 'max_depth': 50, 'min_samples_leaf': 15, 'min_samples_split': 2, 'n_estimators': 50},\n",
       " mean: 0.70417, std: 0.03776, params: {'criterion': 'entropy', 'max_depth': 50, 'min_samples_leaf': 15, 'min_samples_split': 2, 'n_estimators': 100},\n",
       " mean: 0.66875, std: 0.03779, params: {'criterion': 'entropy', 'max_depth': 50, 'min_samples_leaf': 15, 'min_samples_split': 2, 'n_estimators': 150},\n",
       " mean: 0.66667, std: 0.04267, params: {'criterion': 'entropy', 'max_depth': 50, 'min_samples_leaf': 15, 'min_samples_split': 5, 'n_estimators': 10},\n",
       " mean: 0.67500, std: 0.03401, params: {'criterion': 'entropy', 'max_depth': 50, 'min_samples_leaf': 15, 'min_samples_split': 5, 'n_estimators': 20},\n",
       " mean: 0.69583, std: 0.03662, params: {'criterion': 'entropy', 'max_depth': 50, 'min_samples_leaf': 15, 'min_samples_split': 5, 'n_estimators': 50},\n",
       " mean: 0.68125, std: 0.02770, params: {'criterion': 'entropy', 'max_depth': 50, 'min_samples_leaf': 15, 'min_samples_split': 5, 'n_estimators': 100},\n",
       " mean: 0.69583, std: 0.02651, params: {'criterion': 'entropy', 'max_depth': 50, 'min_samples_leaf': 15, 'min_samples_split': 5, 'n_estimators': 150},\n",
       " mean: 0.67917, std: 0.02784, params: {'criterion': 'entropy', 'max_depth': 50, 'min_samples_leaf': 15, 'min_samples_split': 10, 'n_estimators': 10},\n",
       " mean: 0.67500, std: 0.03901, params: {'criterion': 'entropy', 'max_depth': 50, 'min_samples_leaf': 15, 'min_samples_split': 10, 'n_estimators': 20},\n",
       " mean: 0.69375, std: 0.04600, params: {'criterion': 'entropy', 'max_depth': 50, 'min_samples_leaf': 15, 'min_samples_split': 10, 'n_estimators': 50},\n",
       " mean: 0.68750, std: 0.03589, params: {'criterion': 'entropy', 'max_depth': 50, 'min_samples_leaf': 15, 'min_samples_split': 10, 'n_estimators': 100},\n",
       " mean: 0.69167, std: 0.02494, params: {'criterion': 'entropy', 'max_depth': 50, 'min_samples_leaf': 15, 'min_samples_split': 10, 'n_estimators': 150},\n",
       " mean: 0.66875, std: 0.02790, params: {'criterion': 'entropy', 'max_depth': 50, 'min_samples_leaf': 15, 'min_samples_split': 15, 'n_estimators': 10},\n",
       " mean: 0.69375, std: 0.04467, params: {'criterion': 'entropy', 'max_depth': 50, 'min_samples_leaf': 15, 'min_samples_split': 15, 'n_estimators': 20},\n",
       " mean: 0.68750, std: 0.05998, params: {'criterion': 'entropy', 'max_depth': 50, 'min_samples_leaf': 15, 'min_samples_split': 15, 'n_estimators': 50},\n",
       " mean: 0.70000, std: 0.02711, params: {'criterion': 'entropy', 'max_depth': 50, 'min_samples_leaf': 15, 'min_samples_split': 15, 'n_estimators': 100},\n",
       " mean: 0.69167, std: 0.03725, params: {'criterion': 'entropy', 'max_depth': 50, 'min_samples_leaf': 15, 'min_samples_split': 15, 'n_estimators': 150},\n",
       " mean: 0.66042, std: 0.03746, params: {'criterion': 'entropy', 'max_depth': 100, 'min_samples_leaf': 1, 'min_samples_split': 2, 'n_estimators': 10},\n",
       " mean: 0.67292, std: 0.03486, params: {'criterion': 'entropy', 'max_depth': 100, 'min_samples_leaf': 1, 'min_samples_split': 2, 'n_estimators': 20},\n",
       " mean: 0.65625, std: 0.04589, params: {'criterion': 'entropy', 'max_depth': 100, 'min_samples_leaf': 1, 'min_samples_split': 2, 'n_estimators': 50},\n",
       " mean: 0.69167, std: 0.04152, params: {'criterion': 'entropy', 'max_depth': 100, 'min_samples_leaf': 1, 'min_samples_split': 2, 'n_estimators': 100},\n",
       " mean: 0.67708, std: 0.04560, params: {'criterion': 'entropy', 'max_depth': 100, 'min_samples_leaf': 1, 'min_samples_split': 2, 'n_estimators': 150},\n",
       " mean: 0.65000, std: 0.02449, params: {'criterion': 'entropy', 'max_depth': 100, 'min_samples_leaf': 1, 'min_samples_split': 5, 'n_estimators': 10},\n",
       " mean: 0.66875, std: 0.02745, params: {'criterion': 'entropy', 'max_depth': 100, 'min_samples_leaf': 1, 'min_samples_split': 5, 'n_estimators': 20},\n",
       " mean: 0.68333, std: 0.05089, params: {'criterion': 'entropy', 'max_depth': 100, 'min_samples_leaf': 1, 'min_samples_split': 5, 'n_estimators': 50},\n",
       " mean: 0.67708, std: 0.03804, params: {'criterion': 'entropy', 'max_depth': 100, 'min_samples_leaf': 1, 'min_samples_split': 5, 'n_estimators': 100},\n",
       " mean: 0.68542, std: 0.03927, params: {'criterion': 'entropy', 'max_depth': 100, 'min_samples_leaf': 1, 'min_samples_split': 5, 'n_estimators': 150},\n",
       " mean: 0.66458, std: 0.03956, params: {'criterion': 'entropy', 'max_depth': 100, 'min_samples_leaf': 1, 'min_samples_split': 10, 'n_estimators': 10},\n",
       " mean: 0.70208, std: 0.05597, params: {'criterion': 'entropy', 'max_depth': 100, 'min_samples_leaf': 1, 'min_samples_split': 10, 'n_estimators': 20},\n",
       " mean: 0.69167, std: 0.02002, params: {'criterion': 'entropy', 'max_depth': 100, 'min_samples_leaf': 1, 'min_samples_split': 10, 'n_estimators': 50},\n",
       " mean: 0.67500, std: 0.05128, params: {'criterion': 'entropy', 'max_depth': 100, 'min_samples_leaf': 1, 'min_samples_split': 10, 'n_estimators': 100},\n",
       " mean: 0.68333, std: 0.04906, params: {'criterion': 'entropy', 'max_depth': 100, 'min_samples_leaf': 1, 'min_samples_split': 10, 'n_estimators': 150},\n",
       " mean: 0.65625, std: 0.03522, params: {'criterion': 'entropy', 'max_depth': 100, 'min_samples_leaf': 1, 'min_samples_split': 15, 'n_estimators': 10},\n",
       " mean: 0.67708, std: 0.05454, params: {'criterion': 'entropy', 'max_depth': 100, 'min_samples_leaf': 1, 'min_samples_split': 15, 'n_estimators': 20},\n",
       " mean: 0.68333, std: 0.04470, params: {'criterion': 'entropy', 'max_depth': 100, 'min_samples_leaf': 1, 'min_samples_split': 15, 'n_estimators': 50},\n",
       " mean: 0.67708, std: 0.03557, params: {'criterion': 'entropy', 'max_depth': 100, 'min_samples_leaf': 1, 'min_samples_split': 15, 'n_estimators': 100},\n",
       " mean: 0.69375, std: 0.05384, params: {'criterion': 'entropy', 'max_depth': 100, 'min_samples_leaf': 1, 'min_samples_split': 15, 'n_estimators': 150},\n",
       " mean: 0.69375, std: 0.03609, params: {'criterion': 'entropy', 'max_depth': 100, 'min_samples_leaf': 5, 'min_samples_split': 2, 'n_estimators': 10},\n",
       " mean: 0.69583, std: 0.02052, params: {'criterion': 'entropy', 'max_depth': 100, 'min_samples_leaf': 5, 'min_samples_split': 2, 'n_estimators': 20},\n",
       " mean: 0.70208, std: 0.02701, params: {'criterion': 'entropy', 'max_depth': 100, 'min_samples_leaf': 5, 'min_samples_split': 2, 'n_estimators': 50},\n",
       " mean: 0.68958, std: 0.04534, params: {'criterion': 'entropy', 'max_depth': 100, 'min_samples_leaf': 5, 'min_samples_split': 2, 'n_estimators': 100},\n",
       " mean: 0.68958, std: 0.04331, params: {'criterion': 'entropy', 'max_depth': 100, 'min_samples_leaf': 5, 'min_samples_split': 2, 'n_estimators': 150},\n",
       " mean: 0.69375, std: 0.05519, params: {'criterion': 'entropy', 'max_depth': 100, 'min_samples_leaf': 5, 'min_samples_split': 5, 'n_estimators': 10},\n",
       " mean: 0.67917, std: 0.04448, params: {'criterion': 'entropy', 'max_depth': 100, 'min_samples_leaf': 5, 'min_samples_split': 5, 'n_estimators': 20},\n",
       " mean: 0.68542, std: 0.02000, params: {'criterion': 'entropy', 'max_depth': 100, 'min_samples_leaf': 5, 'min_samples_split': 5, 'n_estimators': 50},\n",
       " mean: 0.69375, std: 0.05112, params: {'criterion': 'entropy', 'max_depth': 100, 'min_samples_leaf': 5, 'min_samples_split': 5, 'n_estimators': 100},\n",
       " mean: 0.70000, std: 0.05510, params: {'criterion': 'entropy', 'max_depth': 100, 'min_samples_leaf': 5, 'min_samples_split': 5, 'n_estimators': 150},\n",
       " mean: 0.66250, std: 0.02617, params: {'criterion': 'entropy', 'max_depth': 100, 'min_samples_leaf': 5, 'min_samples_split': 10, 'n_estimators': 10},\n",
       " mean: 0.70833, std: 0.04989, params: {'criterion': 'entropy', 'max_depth': 100, 'min_samples_leaf': 5, 'min_samples_split': 10, 'n_estimators': 20},\n",
       " mean: 0.68958, std: 0.04655, params: {'criterion': 'entropy', 'max_depth': 100, 'min_samples_leaf': 5, 'min_samples_split': 10, 'n_estimators': 50},\n",
       " mean: 0.68750, std: 0.04932, params: {'criterion': 'entropy', 'max_depth': 100, 'min_samples_leaf': 5, 'min_samples_split': 10, 'n_estimators': 100},\n",
       " mean: 0.68542, std: 0.03970, params: {'criterion': 'entropy', 'max_depth': 100, 'min_samples_leaf': 5, 'min_samples_split': 10, 'n_estimators': 150},\n",
       " mean: 0.66875, std: 0.05103, params: {'criterion': 'entropy', 'max_depth': 100, 'min_samples_leaf': 5, 'min_samples_split': 15, 'n_estimators': 10},\n",
       " mean: 0.68542, std: 0.02707, params: {'criterion': 'entropy', 'max_depth': 100, 'min_samples_leaf': 5, 'min_samples_split': 15, 'n_estimators': 20},\n",
       " mean: 0.68750, std: 0.02613, params: {'criterion': 'entropy', 'max_depth': 100, 'min_samples_leaf': 5, 'min_samples_split': 15, 'n_estimators': 50},\n",
       " mean: 0.69167, std: 0.04982, params: {'criterion': 'entropy', 'max_depth': 100, 'min_samples_leaf': 5, 'min_samples_split': 15, 'n_estimators': 100},\n",
       " mean: 0.69167, std: 0.04406, params: {'criterion': 'entropy', 'max_depth': 100, 'min_samples_leaf': 5, 'min_samples_split': 15, 'n_estimators': 150},\n",
       " mean: 0.65208, std: 0.04188, params: {'criterion': 'entropy', 'max_depth': 100, 'min_samples_leaf': 10, 'min_samples_split': 2, 'n_estimators': 10},\n",
       " mean: 0.67708, std: 0.03215, params: {'criterion': 'entropy', 'max_depth': 100, 'min_samples_leaf': 10, 'min_samples_split': 2, 'n_estimators': 20},\n",
       " mean: 0.70417, std: 0.04966, params: {'criterion': 'entropy', 'max_depth': 100, 'min_samples_leaf': 10, 'min_samples_split': 2, 'n_estimators': 50},\n",
       " mean: 0.68542, std: 0.04251, params: {'criterion': 'entropy', 'max_depth': 100, 'min_samples_leaf': 10, 'min_samples_split': 2, 'n_estimators': 100},\n",
       " mean: 0.70000, std: 0.03427, params: {'criterion': 'entropy', 'max_depth': 100, 'min_samples_leaf': 10, 'min_samples_split': 2, 'n_estimators': 150},\n",
       " mean: 0.68125, std: 0.07130, params: {'criterion': 'entropy', 'max_depth': 100, 'min_samples_leaf': 10, 'min_samples_split': 5, 'n_estimators': 10},\n",
       " mean: 0.70625, std: 0.04121, params: {'criterion': 'entropy', 'max_depth': 100, 'min_samples_leaf': 10, 'min_samples_split': 5, 'n_estimators': 20},\n",
       " mean: 0.70000, std: 0.02542, params: {'criterion': 'entropy', 'max_depth': 100, 'min_samples_leaf': 10, 'min_samples_split': 5, 'n_estimators': 50},\n",
       " mean: 0.67917, std: 0.04752, params: {'criterion': 'entropy', 'max_depth': 100, 'min_samples_leaf': 10, 'min_samples_split': 5, 'n_estimators': 100},\n",
       " mean: 0.69583, std: 0.02419, params: {'criterion': 'entropy', 'max_depth': 100, 'min_samples_leaf': 10, 'min_samples_split': 5, 'n_estimators': 150},\n",
       " mean: 0.68333, std: 0.03710, params: {'criterion': 'entropy', 'max_depth': 100, 'min_samples_leaf': 10, 'min_samples_split': 10, 'n_estimators': 10},\n",
       " mean: 0.67917, std: 0.02335, params: {'criterion': 'entropy', 'max_depth': 100, 'min_samples_leaf': 10, 'min_samples_split': 10, 'n_estimators': 20},\n",
       " mean: 0.69792, std: 0.02886, params: {'criterion': 'entropy', 'max_depth': 100, 'min_samples_leaf': 10, 'min_samples_split': 10, 'n_estimators': 50},\n",
       " mean: 0.69583, std: 0.03158, params: {'criterion': 'entropy', 'max_depth': 100, 'min_samples_leaf': 10, 'min_samples_split': 10, 'n_estimators': 100},\n",
       " mean: 0.69792, std: 0.04092, params: {'criterion': 'entropy', 'max_depth': 100, 'min_samples_leaf': 10, 'min_samples_split': 10, 'n_estimators': 150},\n",
       " mean: 0.66250, std: 0.03579, params: {'criterion': 'entropy', 'max_depth': 100, 'min_samples_leaf': 10, 'min_samples_split': 15, 'n_estimators': 10},\n",
       " mean: 0.67083, std: 0.04915, params: {'criterion': 'entropy', 'max_depth': 100, 'min_samples_leaf': 10, 'min_samples_split': 15, 'n_estimators': 20},\n",
       " mean: 0.66458, std: 0.03069, params: {'criterion': 'entropy', 'max_depth': 100, 'min_samples_leaf': 10, 'min_samples_split': 15, 'n_estimators': 50},\n",
       " mean: 0.69375, std: 0.02666, params: {'criterion': 'entropy', 'max_depth': 100, 'min_samples_leaf': 10, 'min_samples_split': 15, 'n_estimators': 100},\n",
       " mean: 0.67292, std: 0.02565, params: {'criterion': 'entropy', 'max_depth': 100, 'min_samples_leaf': 10, 'min_samples_split': 15, 'n_estimators': 150},\n",
       " mean: 0.66667, std: 0.06150, params: {'criterion': 'entropy', 'max_depth': 100, 'min_samples_leaf': 15, 'min_samples_split': 2, 'n_estimators': 10},\n",
       " mean: 0.69583, std: 0.05519, params: {'criterion': 'entropy', 'max_depth': 100, 'min_samples_leaf': 15, 'min_samples_split': 2, 'n_estimators': 20},\n",
       " mean: 0.68958, std: 0.03991, params: {'criterion': 'entropy', 'max_depth': 100, 'min_samples_leaf': 15, 'min_samples_split': 2, 'n_estimators': 50},\n",
       " mean: 0.68542, std: 0.04122, params: {'criterion': 'entropy', 'max_depth': 100, 'min_samples_leaf': 15, 'min_samples_split': 2, 'n_estimators': 100},\n",
       " mean: 0.68542, std: 0.02437, params: {'criterion': 'entropy', 'max_depth': 100, 'min_samples_leaf': 15, 'min_samples_split': 2, 'n_estimators': 150},\n",
       " mean: 0.64583, std: 0.06228, params: {'criterion': 'entropy', 'max_depth': 100, 'min_samples_leaf': 15, 'min_samples_split': 5, 'n_estimators': 10},\n",
       " mean: 0.68542, std: 0.04300, params: {'criterion': 'entropy', 'max_depth': 100, 'min_samples_leaf': 15, 'min_samples_split': 5, 'n_estimators': 20},\n",
       " mean: 0.67917, std: 0.05415, params: {'criterion': 'entropy', 'max_depth': 100, 'min_samples_leaf': 15, 'min_samples_split': 5, 'n_estimators': 50},\n",
       " mean: 0.69792, std: 0.03706, params: {'criterion': 'entropy', 'max_depth': 100, 'min_samples_leaf': 15, 'min_samples_split': 5, 'n_estimators': 100},\n",
       " mean: 0.69792, std: 0.03612, params: {'criterion': 'entropy', 'max_depth': 100, 'min_samples_leaf': 15, 'min_samples_split': 5, 'n_estimators': 150},\n",
       " mean: 0.66250, std: 0.02136, params: {'criterion': 'entropy', 'max_depth': 100, 'min_samples_leaf': 15, 'min_samples_split': 10, 'n_estimators': 10},\n",
       " mean: 0.65833, std: 0.06151, params: {'criterion': 'entropy', 'max_depth': 100, 'min_samples_leaf': 15, 'min_samples_split': 10, 'n_estimators': 20},\n",
       " mean: 0.67917, std: 0.02958, params: {'criterion': 'entropy', 'max_depth': 100, 'min_samples_leaf': 15, 'min_samples_split': 10, 'n_estimators': 50},\n",
       " mean: 0.69375, std: 0.04419, params: {'criterion': 'entropy', 'max_depth': 100, 'min_samples_leaf': 15, 'min_samples_split': 10, 'n_estimators': 100},\n",
       " mean: 0.68333, std: 0.03548, params: {'criterion': 'entropy', 'max_depth': 100, 'min_samples_leaf': 15, 'min_samples_split': 10, 'n_estimators': 150},\n",
       " mean: 0.65000, std: 0.06547, params: {'criterion': 'entropy', 'max_depth': 100, 'min_samples_leaf': 15, 'min_samples_split': 15, 'n_estimators': 10},\n",
       " mean: 0.68542, std: 0.03295, params: {'criterion': 'entropy', 'max_depth': 100, 'min_samples_leaf': 15, 'min_samples_split': 15, 'n_estimators': 20},\n",
       " mean: 0.69375, std: 0.04631, params: {'criterion': 'entropy', 'max_depth': 100, 'min_samples_leaf': 15, 'min_samples_split': 15, 'n_estimators': 50},\n",
       " mean: 0.67708, std: 0.03239, params: {'criterion': 'entropy', 'max_depth': 100, 'min_samples_leaf': 15, 'min_samples_split': 15, 'n_estimators': 100},\n",
       " mean: 0.68333, std: 0.04346, params: {'criterion': 'entropy', 'max_depth': 100, 'min_samples_leaf': 15, 'min_samples_split': 15, 'n_estimators': 150}]"
      ]
     },
     "execution_count": 194,
     "metadata": {},
     "output_type": "execute_result"
    }
   ],
   "source": [
    "grid.grid_scores_"
   ]
  },
  {
   "cell_type": "markdown",
   "metadata": {},
   "source": [
    "#### Verificando os melhores parâmetros."
   ]
  },
  {
   "cell_type": "code",
   "execution_count": 195,
   "metadata": {},
   "outputs": [
    {
     "data": {
      "text/plain": [
       "{'criterion': 'gini',\n",
       " 'max_depth': 50,\n",
       " 'min_samples_leaf': 15,\n",
       " 'min_samples_split': 10,\n",
       " 'n_estimators': 10}"
      ]
     },
     "execution_count": 195,
     "metadata": {},
     "output_type": "execute_result"
    }
   ],
   "source": [
    "grid.best_params_"
   ]
  },
  {
   "cell_type": "markdown",
   "metadata": {},
   "source": [
    "#### Verificando o melhor score."
   ]
  },
  {
   "cell_type": "code",
   "execution_count": 196,
   "metadata": {
    "scrolled": true
   },
   "outputs": [
    {
     "data": {
      "text/plain": [
       "0.7291666666666666"
      ]
     },
     "execution_count": 196,
     "metadata": {},
     "output_type": "execute_result"
    }
   ],
   "source": [
    "grid.best_score_"
   ]
  }
 ],
 "metadata": {
  "kernelspec": {
   "display_name": "Python 3",
   "language": "python",
   "name": "python3"
  },
  "language_info": {
   "codemirror_mode": {
    "name": "ipython",
    "version": 3
   },
   "file_extension": ".py",
   "mimetype": "text/x-python",
   "name": "python",
   "nbconvert_exporter": "python",
   "pygments_lexer": "ipython3",
   "version": "3.6.5"
  }
 },
 "nbformat": 4,
 "nbformat_minor": 2
}
