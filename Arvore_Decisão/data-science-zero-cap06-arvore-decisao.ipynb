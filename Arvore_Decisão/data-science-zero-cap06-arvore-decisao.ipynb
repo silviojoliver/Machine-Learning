{
 "cells": [
  {
   "cell_type": "markdown",
   "metadata": {},
   "source": [
    "# Capítulo 06 - Machine Learning - Arvore de Decisão"
   ]
  },
  {
   "cell_type": "markdown",
   "metadata": {},
   "source": [
    "#### Importação das bibliotecas necessárias"
   ]
  },
  {
   "cell_type": "code",
   "execution_count": 72,
   "metadata": {},
   "outputs": [],
   "source": [
    "from sklearn.tree import export_graphviz\n",
    "from sklearn.datasets import load_iris\n",
    "from sklearn import tree\n",
    "import numpy as np\n",
    "import pandas as pd"
   ]
  },
  {
   "cell_type": "markdown",
   "metadata": {},
   "source": [
    "#### Carregando a base de dados iris"
   ]
  },
  {
   "cell_type": "code",
   "execution_count": 73,
   "metadata": {},
   "outputs": [],
   "source": [
    "iris = load_iris()"
   ]
  },
  {
   "cell_type": "markdown",
   "metadata": {},
   "source": [
    "#### Verificando a descrição do dataset\n"
   ]
  },
  {
   "cell_type": "code",
   "execution_count": 74,
   "metadata": {},
   "outputs": [
    {
     "name": "stdout",
     "output_type": "stream",
     "text": [
      "Iris Plants Database\n",
      "====================\n",
      "\n",
      "Notes\n",
      "-----\n",
      "Data Set Characteristics:\n",
      "    :Number of Instances: 150 (50 in each of three classes)\n",
      "    :Number of Attributes: 4 numeric, predictive attributes and the class\n",
      "    :Attribute Information:\n",
      "        - sepal length in cm\n",
      "        - sepal width in cm\n",
      "        - petal length in cm\n",
      "        - petal width in cm\n",
      "        - class:\n",
      "                - Iris-Setosa\n",
      "                - Iris-Versicolour\n",
      "                - Iris-Virginica\n",
      "    :Summary Statistics:\n",
      "\n",
      "    ============== ==== ==== ======= ===== ====================\n",
      "                    Min  Max   Mean    SD   Class Correlation\n",
      "    ============== ==== ==== ======= ===== ====================\n",
      "    sepal length:   4.3  7.9   5.84   0.83    0.7826\n",
      "    sepal width:    2.0  4.4   3.05   0.43   -0.4194\n",
      "    petal length:   1.0  6.9   3.76   1.76    0.9490  (high!)\n",
      "    petal width:    0.1  2.5   1.20  0.76     0.9565  (high!)\n",
      "    ============== ==== ==== ======= ===== ====================\n",
      "\n",
      "    :Missing Attribute Values: None\n",
      "    :Class Distribution: 33.3% for each of 3 classes.\n",
      "    :Creator: R.A. Fisher\n",
      "    :Donor: Michael Marshall (MARSHALL%PLU@io.arc.nasa.gov)\n",
      "    :Date: July, 1988\n",
      "\n",
      "This is a copy of UCI ML iris datasets.\n",
      "http://archive.ics.uci.edu/ml/datasets/Iris\n",
      "\n",
      "The famous Iris database, first used by Sir R.A Fisher\n",
      "\n",
      "This is perhaps the best known database to be found in the\n",
      "pattern recognition literature.  Fisher's paper is a classic in the field and\n",
      "is referenced frequently to this day.  (See Duda & Hart, for example.)  The\n",
      "data set contains 3 classes of 50 instances each, where each class refers to a\n",
      "type of iris plant.  One class is linearly separable from the other 2; the\n",
      "latter are NOT linearly separable from each other.\n",
      "\n",
      "References\n",
      "----------\n",
      "   - Fisher,R.A. \"The use of multiple measurements in taxonomic problems\"\n",
      "     Annual Eugenics, 7, Part II, 179-188 (1936); also in \"Contributions to\n",
      "     Mathematical Statistics\" (John Wiley, NY, 1950).\n",
      "   - Duda,R.O., & Hart,P.E. (1973) Pattern Classification and Scene Analysis.\n",
      "     (Q327.D83) John Wiley & Sons.  ISBN 0-471-22361-1.  See page 218.\n",
      "   - Dasarathy, B.V. (1980) \"Nosing Around the Neighborhood: A New System\n",
      "     Structure and Classification Rule for Recognition in Partially Exposed\n",
      "     Environments\".  IEEE Transactions on Pattern Analysis and Machine\n",
      "     Intelligence, Vol. PAMI-2, No. 1, 67-71.\n",
      "   - Gates, G.W. (1972) \"The Reduced Nearest Neighbor Rule\".  IEEE Transactions\n",
      "     on Information Theory, May 1972, 431-433.\n",
      "   - See also: 1988 MLC Proceedings, 54-64.  Cheeseman et al\"s AUTOCLASS II\n",
      "     conceptual clustering system finds 3 classes in the data.\n",
      "   - Many, many more ...\n",
      "\n"
     ]
    }
   ],
   "source": [
    "print(iris.DESCR)"
   ]
  },
  {
   "cell_type": "markdown",
   "metadata": {},
   "source": [
    "#### Verificando features names, target e dados"
   ]
  },
  {
   "cell_type": "code",
   "execution_count": 75,
   "metadata": {},
   "outputs": [
    {
     "data": {
      "text/plain": [
       "['sepal length (cm)',\n",
       " 'sepal width (cm)',\n",
       " 'petal length (cm)',\n",
       " 'petal width (cm)']"
      ]
     },
     "execution_count": 75,
     "metadata": {},
     "output_type": "execute_result"
    }
   ],
   "source": [
    "iris.feature_names"
   ]
  },
  {
   "cell_type": "code",
   "execution_count": 76,
   "metadata": {},
   "outputs": [
    {
     "data": {
      "text/plain": [
       "array(['setosa', 'versicolor', 'virginica'], dtype='<U10')"
      ]
     },
     "execution_count": 76,
     "metadata": {},
     "output_type": "execute_result"
    }
   ],
   "source": [
    "iris.target_names"
   ]
  },
  {
   "cell_type": "code",
   "execution_count": 77,
   "metadata": {
    "collapsed": true
   },
   "outputs": [
    {
     "data": {
      "text/plain": [
       "array([[5.1, 3.5, 1.4, 0.2],\n",
       "       [4.9, 3. , 1.4, 0.2],\n",
       "       [4.7, 3.2, 1.3, 0.2],\n",
       "       [4.6, 3.1, 1.5, 0.2],\n",
       "       [5. , 3.6, 1.4, 0.2],\n",
       "       [5.4, 3.9, 1.7, 0.4],\n",
       "       [4.6, 3.4, 1.4, 0.3],\n",
       "       [5. , 3.4, 1.5, 0.2],\n",
       "       [4.4, 2.9, 1.4, 0.2],\n",
       "       [4.9, 3.1, 1.5, 0.1],\n",
       "       [5.4, 3.7, 1.5, 0.2],\n",
       "       [4.8, 3.4, 1.6, 0.2],\n",
       "       [4.8, 3. , 1.4, 0.1],\n",
       "       [4.3, 3. , 1.1, 0.1],\n",
       "       [5.8, 4. , 1.2, 0.2],\n",
       "       [5.7, 4.4, 1.5, 0.4],\n",
       "       [5.4, 3.9, 1.3, 0.4],\n",
       "       [5.1, 3.5, 1.4, 0.3],\n",
       "       [5.7, 3.8, 1.7, 0.3],\n",
       "       [5.1, 3.8, 1.5, 0.3],\n",
       "       [5.4, 3.4, 1.7, 0.2],\n",
       "       [5.1, 3.7, 1.5, 0.4],\n",
       "       [4.6, 3.6, 1. , 0.2],\n",
       "       [5.1, 3.3, 1.7, 0.5],\n",
       "       [4.8, 3.4, 1.9, 0.2],\n",
       "       [5. , 3. , 1.6, 0.2],\n",
       "       [5. , 3.4, 1.6, 0.4],\n",
       "       [5.2, 3.5, 1.5, 0.2],\n",
       "       [5.2, 3.4, 1.4, 0.2],\n",
       "       [4.7, 3.2, 1.6, 0.2],\n",
       "       [4.8, 3.1, 1.6, 0.2],\n",
       "       [5.4, 3.4, 1.5, 0.4],\n",
       "       [5.2, 4.1, 1.5, 0.1],\n",
       "       [5.5, 4.2, 1.4, 0.2],\n",
       "       [4.9, 3.1, 1.5, 0.1],\n",
       "       [5. , 3.2, 1.2, 0.2],\n",
       "       [5.5, 3.5, 1.3, 0.2],\n",
       "       [4.9, 3.1, 1.5, 0.1],\n",
       "       [4.4, 3. , 1.3, 0.2],\n",
       "       [5.1, 3.4, 1.5, 0.2],\n",
       "       [5. , 3.5, 1.3, 0.3],\n",
       "       [4.5, 2.3, 1.3, 0.3],\n",
       "       [4.4, 3.2, 1.3, 0.2],\n",
       "       [5. , 3.5, 1.6, 0.6],\n",
       "       [5.1, 3.8, 1.9, 0.4],\n",
       "       [4.8, 3. , 1.4, 0.3],\n",
       "       [5.1, 3.8, 1.6, 0.2],\n",
       "       [4.6, 3.2, 1.4, 0.2],\n",
       "       [5.3, 3.7, 1.5, 0.2],\n",
       "       [5. , 3.3, 1.4, 0.2],\n",
       "       [7. , 3.2, 4.7, 1.4],\n",
       "       [6.4, 3.2, 4.5, 1.5],\n",
       "       [6.9, 3.1, 4.9, 1.5],\n",
       "       [5.5, 2.3, 4. , 1.3],\n",
       "       [6.5, 2.8, 4.6, 1.5],\n",
       "       [5.7, 2.8, 4.5, 1.3],\n",
       "       [6.3, 3.3, 4.7, 1.6],\n",
       "       [4.9, 2.4, 3.3, 1. ],\n",
       "       [6.6, 2.9, 4.6, 1.3],\n",
       "       [5.2, 2.7, 3.9, 1.4],\n",
       "       [5. , 2. , 3.5, 1. ],\n",
       "       [5.9, 3. , 4.2, 1.5],\n",
       "       [6. , 2.2, 4. , 1. ],\n",
       "       [6.1, 2.9, 4.7, 1.4],\n",
       "       [5.6, 2.9, 3.6, 1.3],\n",
       "       [6.7, 3.1, 4.4, 1.4],\n",
       "       [5.6, 3. , 4.5, 1.5],\n",
       "       [5.8, 2.7, 4.1, 1. ],\n",
       "       [6.2, 2.2, 4.5, 1.5],\n",
       "       [5.6, 2.5, 3.9, 1.1],\n",
       "       [5.9, 3.2, 4.8, 1.8],\n",
       "       [6.1, 2.8, 4. , 1.3],\n",
       "       [6.3, 2.5, 4.9, 1.5],\n",
       "       [6.1, 2.8, 4.7, 1.2],\n",
       "       [6.4, 2.9, 4.3, 1.3],\n",
       "       [6.6, 3. , 4.4, 1.4],\n",
       "       [6.8, 2.8, 4.8, 1.4],\n",
       "       [6.7, 3. , 5. , 1.7],\n",
       "       [6. , 2.9, 4.5, 1.5],\n",
       "       [5.7, 2.6, 3.5, 1. ],\n",
       "       [5.5, 2.4, 3.8, 1.1],\n",
       "       [5.5, 2.4, 3.7, 1. ],\n",
       "       [5.8, 2.7, 3.9, 1.2],\n",
       "       [6. , 2.7, 5.1, 1.6],\n",
       "       [5.4, 3. , 4.5, 1.5],\n",
       "       [6. , 3.4, 4.5, 1.6],\n",
       "       [6.7, 3.1, 4.7, 1.5],\n",
       "       [6.3, 2.3, 4.4, 1.3],\n",
       "       [5.6, 3. , 4.1, 1.3],\n",
       "       [5.5, 2.5, 4. , 1.3],\n",
       "       [5.5, 2.6, 4.4, 1.2],\n",
       "       [6.1, 3. , 4.6, 1.4],\n",
       "       [5.8, 2.6, 4. , 1.2],\n",
       "       [5. , 2.3, 3.3, 1. ],\n",
       "       [5.6, 2.7, 4.2, 1.3],\n",
       "       [5.7, 3. , 4.2, 1.2],\n",
       "       [5.7, 2.9, 4.2, 1.3],\n",
       "       [6.2, 2.9, 4.3, 1.3],\n",
       "       [5.1, 2.5, 3. , 1.1],\n",
       "       [5.7, 2.8, 4.1, 1.3],\n",
       "       [6.3, 3.3, 6. , 2.5],\n",
       "       [5.8, 2.7, 5.1, 1.9],\n",
       "       [7.1, 3. , 5.9, 2.1],\n",
       "       [6.3, 2.9, 5.6, 1.8],\n",
       "       [6.5, 3. , 5.8, 2.2],\n",
       "       [7.6, 3. , 6.6, 2.1],\n",
       "       [4.9, 2.5, 4.5, 1.7],\n",
       "       [7.3, 2.9, 6.3, 1.8],\n",
       "       [6.7, 2.5, 5.8, 1.8],\n",
       "       [7.2, 3.6, 6.1, 2.5],\n",
       "       [6.5, 3.2, 5.1, 2. ],\n",
       "       [6.4, 2.7, 5.3, 1.9],\n",
       "       [6.8, 3. , 5.5, 2.1],\n",
       "       [5.7, 2.5, 5. , 2. ],\n",
       "       [5.8, 2.8, 5.1, 2.4],\n",
       "       [6.4, 3.2, 5.3, 2.3],\n",
       "       [6.5, 3. , 5.5, 1.8],\n",
       "       [7.7, 3.8, 6.7, 2.2],\n",
       "       [7.7, 2.6, 6.9, 2.3],\n",
       "       [6. , 2.2, 5. , 1.5],\n",
       "       [6.9, 3.2, 5.7, 2.3],\n",
       "       [5.6, 2.8, 4.9, 2. ],\n",
       "       [7.7, 2.8, 6.7, 2. ],\n",
       "       [6.3, 2.7, 4.9, 1.8],\n",
       "       [6.7, 3.3, 5.7, 2.1],\n",
       "       [7.2, 3.2, 6. , 1.8],\n",
       "       [6.2, 2.8, 4.8, 1.8],\n",
       "       [6.1, 3. , 4.9, 1.8],\n",
       "       [6.4, 2.8, 5.6, 2.1],\n",
       "       [7.2, 3. , 5.8, 1.6],\n",
       "       [7.4, 2.8, 6.1, 1.9],\n",
       "       [7.9, 3.8, 6.4, 2. ],\n",
       "       [6.4, 2.8, 5.6, 2.2],\n",
       "       [6.3, 2.8, 5.1, 1.5],\n",
       "       [6.1, 2.6, 5.6, 1.4],\n",
       "       [7.7, 3. , 6.1, 2.3],\n",
       "       [6.3, 3.4, 5.6, 2.4],\n",
       "       [6.4, 3.1, 5.5, 1.8],\n",
       "       [6. , 3. , 4.8, 1.8],\n",
       "       [6.9, 3.1, 5.4, 2.1],\n",
       "       [6.7, 3.1, 5.6, 2.4],\n",
       "       [6.9, 3.1, 5.1, 2.3],\n",
       "       [5.8, 2.7, 5.1, 1.9],\n",
       "       [6.8, 3.2, 5.9, 2.3],\n",
       "       [6.7, 3.3, 5.7, 2.5],\n",
       "       [6.7, 3. , 5.2, 2.3],\n",
       "       [6.3, 2.5, 5. , 1.9],\n",
       "       [6.5, 3. , 5.2, 2. ],\n",
       "       [6.2, 3.4, 5.4, 2.3],\n",
       "       [5.9, 3. , 5.1, 1.8]])"
      ]
     },
     "execution_count": 77,
     "metadata": {},
     "output_type": "execute_result"
    }
   ],
   "source": [
    "iris.data"
   ]
  },
  {
   "cell_type": "markdown",
   "metadata": {},
   "source": [
    "#### Dividindo os dados em treino e teste"
   ]
  },
  {
   "cell_type": "code",
   "execution_count": 78,
   "metadata": {},
   "outputs": [],
   "source": [
    "from sklearn.model_selection import train_test_split"
   ]
  },
  {
   "cell_type": "code",
   "execution_count": 79,
   "metadata": {},
   "outputs": [],
   "source": [
    "X_train, X_test, y_train, y_test = train_test_split(iris.data,iris.target,test_size=0.3)"
   ]
  },
  {
   "cell_type": "markdown",
   "metadata": {},
   "source": [
    "#### Verificando a forma dos dados"
   ]
  },
  {
   "cell_type": "code",
   "execution_count": 81,
   "metadata": {},
   "outputs": [
    {
     "data": {
      "text/plain": [
       "((105, 4), (45, 4))"
      ]
     },
     "execution_count": 81,
     "metadata": {},
     "output_type": "execute_result"
    }
   ],
   "source": [
    "X_train.shape,X_test.shape"
   ]
  },
  {
   "cell_type": "code",
   "execution_count": 82,
   "metadata": {},
   "outputs": [
    {
     "data": {
      "text/plain": [
       "((105,), (45,))"
      ]
     },
     "execution_count": 82,
     "metadata": {},
     "output_type": "execute_result"
    }
   ],
   "source": [
    "y_train.shape,y_test.shape"
   ]
  },
  {
   "cell_type": "markdown",
   "metadata": {},
   "source": [
    "#### Instânciando o objeto classificador"
   ]
  },
  {
   "cell_type": "code",
   "execution_count": 19,
   "metadata": {},
   "outputs": [],
   "source": [
    "clf = tree.DecisionTreeClassifier()"
   ]
  },
  {
   "cell_type": "markdown",
   "metadata": {},
   "source": [
    "#### Parâmetros do  classificador DecisionTreeClassifier\n",
    "* criterion: medida de qualidade da divisão\n",
    "* splitter: estratégia utilizada para dividir o nó de decisão\n",
    "* max_depth: profundidade máxima da árvore\n",
    "* min_samples_split: número de amostras mínimas para considerar um nó para divisão\n",
    "* min_samples_leaf: número de amostras mínimas no nível folha"
   ]
  },
  {
   "cell_type": "markdown",
   "metadata": {},
   "source": [
    "#### Treinando o modelo de arvore de decisão"
   ]
  },
  {
   "cell_type": "code",
   "execution_count": 83,
   "metadata": {},
   "outputs": [],
   "source": [
    "clf = clf.fit(X_train,y_train)"
   ]
  },
  {
   "cell_type": "markdown",
   "metadata": {},
   "source": [
    "#### Verificando as features mais importantes para o modelo de arvore de decisão treinado"
   ]
  },
  {
   "cell_type": "code",
   "execution_count": 84,
   "metadata": {
    "scrolled": true
   },
   "outputs": [
    {
     "data": {
      "text/plain": [
       "array([0.        , 0.        , 0.56902997, 0.43097003])"
      ]
     },
     "execution_count": 84,
     "metadata": {},
     "output_type": "execute_result"
    }
   ],
   "source": [
    "clf.feature_importances_"
   ]
  },
  {
   "cell_type": "code",
   "execution_count": 85,
   "metadata": {
    "scrolled": true
   },
   "outputs": [
    {
     "name": "stdout",
     "output_type": "stream",
     "text": [
      "sepal length (cm):0.0\n",
      "sepal width (cm):0.0\n",
      "petal length (cm):0.5690299690501054\n",
      "petal width (cm):0.43097003094989467\n"
     ]
    }
   ],
   "source": [
    "for feature,importancia in zip(iris.feature_names,clf.feature_importances_):\n",
    "    print(\"{}:{}\".format(feature, importancia))"
   ]
  },
  {
   "cell_type": "markdown",
   "metadata": {},
   "source": [
    "#### Executando o algoritmo de arvore de decisão com o conjunto de teste"
   ]
  },
  {
   "cell_type": "code",
   "execution_count": 86,
   "metadata": {},
   "outputs": [
    {
     "data": {
      "text/plain": [
       "array([0, 0, 1, 1, 1, 0, 1, 1, 0, 0, 2, 1, 1, 2, 1, 2, 2, 0, 0, 0, 2, 2,\n",
       "       0, 1, 2, 0, 0, 2, 2, 1, 0, 2, 2, 2, 2, 2, 0, 1, 2, 2, 1, 2, 0, 2,\n",
       "       2])"
      ]
     },
     "execution_count": 86,
     "metadata": {},
     "output_type": "execute_result"
    }
   ],
   "source": [
    "resultado = clf.predict(X_test)\n",
    "resultado"
   ]
  },
  {
   "cell_type": "markdown",
   "metadata": {},
   "source": [
    "#### Testando com uma nova amostra"
   ]
  },
  {
   "cell_type": "code",
   "execution_count": 87,
   "metadata": {},
   "outputs": [
    {
     "data": {
      "text/plain": [
       "array([0])"
      ]
     },
     "execution_count": 87,
     "metadata": {},
     "output_type": "execute_result"
    }
   ],
   "source": [
    "test = np.array([[5.1,3.5,1.4,0.2]])\n",
    "clf.predict(test)"
   ]
  },
  {
   "cell_type": "markdown",
   "metadata": {},
   "source": [
    "#### Verificando a probabilidade"
   ]
  },
  {
   "cell_type": "code",
   "execution_count": 88,
   "metadata": {},
   "outputs": [
    {
     "data": {
      "text/plain": [
       "array([[1., 0., 0.]])"
      ]
     },
     "execution_count": 88,
     "metadata": {},
     "output_type": "execute_result"
    }
   ],
   "source": [
    "clf.predict_proba(test)"
   ]
  },
  {
   "cell_type": "markdown",
   "metadata": {},
   "source": [
    "#### Métricas de Validação"
   ]
  },
  {
   "cell_type": "code",
   "execution_count": 89,
   "metadata": {},
   "outputs": [
    {
     "name": "stdout",
     "output_type": "stream",
     "text": [
      "             precision    recall  f1-score   support\n",
      "\n",
      "     setosa       1.00      1.00      1.00        14\n",
      " versicolor       1.00      0.92      0.96        13\n",
      "  virginica       0.95      1.00      0.97        18\n",
      "\n",
      "avg / total       0.98      0.98      0.98        45\n",
      "\n"
     ]
    }
   ],
   "source": [
    "from sklearn import metrics\n",
    "print(metrics.classification_report(y_test,resultado,target_names=iris.target_names))"
   ]
  },
  {
   "cell_type": "markdown",
   "metadata": {},
   "source": [
    "#### Biblioteca para utilização de widgets interativos"
   ]
  },
  {
   "cell_type": "code",
   "execution_count": 94,
   "metadata": {
    "collapsed": true
   },
   "outputs": [
    {
     "name": "stdout",
     "output_type": "stream",
     "text": [
      "Requirement already satisfied: ipywidgets in /web/datascience/anaconda/lib/python3.6/site-packages (7.2.1)\n",
      "Requirement already satisfied: ipykernel>=4.5.1 in /web/datascience/anaconda/lib/python3.6/site-packages (from ipywidgets) (4.8.2)\n",
      "Requirement already satisfied: traitlets>=4.3.1 in /web/datascience/anaconda/lib/python3.6/site-packages (from ipywidgets) (4.3.2)\n",
      "Requirement already satisfied: nbformat>=4.2.0 in /web/datascience/anaconda/lib/python3.6/site-packages (from ipywidgets) (4.4.0)\n",
      "Requirement already satisfied: widgetsnbextension~=3.2.0 in /web/datascience/anaconda/lib/python3.6/site-packages (from ipywidgets) (3.2.1)\n",
      "Requirement already satisfied: ipython>=4.0.0 in /web/datascience/anaconda/lib/python3.6/site-packages (from ipywidgets) (6.4.0)\n",
      "Requirement already satisfied: jupyter_client in /web/datascience/anaconda/lib/python3.6/site-packages (from ipykernel>=4.5.1->ipywidgets) (5.2.3)\n",
      "Requirement already satisfied: tornado>=4.0 in /web/datascience/anaconda/lib/python3.6/site-packages (from ipykernel>=4.5.1->ipywidgets) (5.0.2)\n",
      "Requirement already satisfied: ipython_genutils in /web/datascience/anaconda/lib/python3.6/site-packages (from traitlets>=4.3.1->ipywidgets) (0.2.0)\n",
      "Requirement already satisfied: six in /web/datascience/anaconda/lib/python3.6/site-packages (from traitlets>=4.3.1->ipywidgets) (1.11.0)\n",
      "Requirement already satisfied: decorator in /web/datascience/anaconda/lib/python3.6/site-packages (from traitlets>=4.3.1->ipywidgets) (4.3.0)\n",
      "Requirement already satisfied: jsonschema!=2.5.0,>=2.4 in /web/datascience/anaconda/lib/python3.6/site-packages (from nbformat>=4.2.0->ipywidgets) (2.6.0)\n",
      "Requirement already satisfied: jupyter_core in /web/datascience/anaconda/lib/python3.6/site-packages (from nbformat>=4.2.0->ipywidgets) (4.4.0)\n",
      "Requirement already satisfied: notebook>=4.4.1 in /web/datascience/anaconda/lib/python3.6/site-packages (from widgetsnbextension~=3.2.0->ipywidgets) (5.5.0)\n",
      "Requirement already satisfied: prompt-toolkit<2.0.0,>=1.0.15 in /web/datascience/anaconda/lib/python3.6/site-packages (from ipython>=4.0.0->ipywidgets) (1.0.15)\n",
      "Requirement already satisfied: pygments in /web/datascience/anaconda/lib/python3.6/site-packages (from ipython>=4.0.0->ipywidgets) (2.2.0)\n",
      "Requirement already satisfied: jedi>=0.10 in /web/datascience/anaconda/lib/python3.6/site-packages (from ipython>=4.0.0->ipywidgets) (0.12.0)\n",
      "Requirement already satisfied: pexpect; sys_platform != \"win32\" in /web/datascience/anaconda/lib/python3.6/site-packages (from ipython>=4.0.0->ipywidgets) (4.5.0)\n",
      "Requirement already satisfied: setuptools>=18.5 in /web/datascience/anaconda/lib/python3.6/site-packages (from ipython>=4.0.0->ipywidgets) (39.1.0)\n",
      "Requirement already satisfied: backcall in /web/datascience/anaconda/lib/python3.6/site-packages (from ipython>=4.0.0->ipywidgets) (0.1.0)\n",
      "Requirement already satisfied: pickleshare in /web/datascience/anaconda/lib/python3.6/site-packages (from ipython>=4.0.0->ipywidgets) (0.7.4)\n",
      "Requirement already satisfied: simplegeneric>0.8 in /web/datascience/anaconda/lib/python3.6/site-packages (from ipython>=4.0.0->ipywidgets) (0.8.1)\n",
      "Requirement already satisfied: pyzmq>=13 in /web/datascience/anaconda/lib/python3.6/site-packages (from jupyter_client->ipykernel>=4.5.1->ipywidgets) (17.0.0)\n",
      "Requirement already satisfied: python-dateutil>=2.1 in /web/datascience/anaconda/lib/python3.6/site-packages (from jupyter_client->ipykernel>=4.5.1->ipywidgets) (2.7.3)\n",
      "Requirement already satisfied: nbconvert in /web/datascience/anaconda/lib/python3.6/site-packages (from notebook>=4.4.1->widgetsnbextension~=3.2.0->ipywidgets) (5.3.1)\n",
      "Requirement already satisfied: terminado>=0.8.1 in /web/datascience/anaconda/lib/python3.6/site-packages (from notebook>=4.4.1->widgetsnbextension~=3.2.0->ipywidgets) (0.8.1)\n",
      "Requirement already satisfied: Send2Trash in /web/datascience/anaconda/lib/python3.6/site-packages (from notebook>=4.4.1->widgetsnbextension~=3.2.0->ipywidgets) (1.5.0)\n",
      "Requirement already satisfied: jinja2 in /web/datascience/anaconda/lib/python3.6/site-packages (from notebook>=4.4.1->widgetsnbextension~=3.2.0->ipywidgets) (2.10)\n",
      "Requirement already satisfied: wcwidth in /web/datascience/anaconda/lib/python3.6/site-packages (from prompt-toolkit<2.0.0,>=1.0.15->ipython>=4.0.0->ipywidgets) (0.1.7)\n",
      "Requirement already satisfied: parso>=0.2.0 in /web/datascience/anaconda/lib/python3.6/site-packages (from jedi>=0.10->ipython>=4.0.0->ipywidgets) (0.2.0)\n",
      "Requirement already satisfied: ptyprocess>=0.5 in /web/datascience/anaconda/lib/python3.6/site-packages (from pexpect; sys_platform != \"win32\"->ipython>=4.0.0->ipywidgets) (0.5.2)\n",
      "Requirement already satisfied: mistune>=0.7.4 in /web/datascience/anaconda/lib/python3.6/site-packages (from nbconvert->notebook>=4.4.1->widgetsnbextension~=3.2.0->ipywidgets) (0.8.3)\n",
      "Requirement already satisfied: entrypoints>=0.2.2 in /web/datascience/anaconda/lib/python3.6/site-packages (from nbconvert->notebook>=4.4.1->widgetsnbextension~=3.2.0->ipywidgets) (0.2.3)\n",
      "Requirement already satisfied: bleach in /web/datascience/anaconda/lib/python3.6/site-packages (from nbconvert->notebook>=4.4.1->widgetsnbextension~=3.2.0->ipywidgets) (2.1.3)\n",
      "Requirement already satisfied: pandocfilters>=1.4.1 in /web/datascience/anaconda/lib/python3.6/site-packages (from nbconvert->notebook>=4.4.1->widgetsnbextension~=3.2.0->ipywidgets) (1.4.2)\n",
      "Requirement already satisfied: testpath in /web/datascience/anaconda/lib/python3.6/site-packages (from nbconvert->notebook>=4.4.1->widgetsnbextension~=3.2.0->ipywidgets) (0.3.1)\n",
      "Requirement already satisfied: MarkupSafe>=0.23 in /web/datascience/anaconda/lib/python3.6/site-packages (from jinja2->notebook>=4.4.1->widgetsnbextension~=3.2.0->ipywidgets) (1.0)\n",
      "Requirement already satisfied: html5lib!=1.0b1,!=1.0b2,!=1.0b3,!=1.0b4,!=1.0b5,!=1.0b6,!=1.0b7,!=1.0b8,>=0.99999999pre in /web/datascience/anaconda/lib/python3.6/site-packages (from bleach->nbconvert->notebook>=4.4.1->widgetsnbextension~=3.2.0->ipywidgets) (1.0.1)\n",
      "Requirement already satisfied: webencodings in /web/datascience/anaconda/lib/python3.6/site-packages (from html5lib!=1.0b1,!=1.0b2,!=1.0b3,!=1.0b4,!=1.0b5,!=1.0b6,!=1.0b7,!=1.0b8,>=0.99999999pre->bleach->nbconvert->notebook>=4.4.1->widgetsnbextension~=3.2.0->ipywidgets) (0.5.1)\n",
      "\u001b[33mYou are using pip version 18.0, however version 18.1 is available.\n",
      "You should consider upgrading via the 'pip install --upgrade pip' command.\u001b[0m\n"
     ]
    }
   ],
   "source": [
    "!pip install ipywidgets"
   ]
  },
  {
   "cell_type": "markdown",
   "metadata": {},
   "source": [
    "#### Bibliotecas para visualização da arvore de recisão"
   ]
  },
  {
   "cell_type": "code",
   "execution_count": 95,
   "metadata": {},
   "outputs": [
    {
     "name": "stdout",
     "output_type": "stream",
     "text": [
      "Requirement already satisfied: pydot in /web/datascience/anaconda/lib/python3.6/site-packages (1.3.0)\n",
      "Requirement already satisfied: pyparsing>=2.1.4 in /web/datascience/anaconda/lib/python3.6/site-packages (from pydot) (2.2.0)\n",
      "\u001b[33mYou are using pip version 18.0, however version 18.1 is available.\n",
      "You should consider upgrading via the 'pip install --upgrade pip' command.\u001b[0m\n"
     ]
    }
   ],
   "source": [
    "!pip3 install pydot"
   ]
  },
  {
   "cell_type": "code",
   "execution_count": 96,
   "metadata": {},
   "outputs": [
    {
     "name": "stdout",
     "output_type": "stream",
     "text": [
      "Requirement already satisfied: graphviz in /web/datascience/anaconda/lib/python3.6/site-packages (0.9)\n",
      "\u001b[33mYou are using pip version 18.0, however version 18.1 is available.\n",
      "You should consider upgrading via the 'pip install --upgrade pip' command.\u001b[0m\n"
     ]
    }
   ],
   "source": [
    "!pip3 install graphviz"
   ]
  },
  {
   "cell_type": "markdown",
   "metadata": {},
   "source": [
    "#### Importando as bibliotecas instaladas"
   ]
  },
  {
   "cell_type": "code",
   "execution_count": 97,
   "metadata": {},
   "outputs": [],
   "source": [
    "import pydot\n",
    "import graphviz \n",
    "from ipywidgets import interactive"
   ]
  },
  {
   "cell_type": "markdown",
   "metadata": {},
   "source": [
    "#### Visualizando de forma gráfica a arvore gerada"
   ]
  },
  {
   "cell_type": "code",
   "execution_count": 99,
   "metadata": {},
   "outputs": [
    {
     "data": {
      "image/svg+xml": [
       "<?xml version=\"1.0\" encoding=\"UTF-8\" standalone=\"no\"?>\n",
       "<!DOCTYPE svg PUBLIC \"-//W3C//DTD SVG 1.1//EN\"\n",
       " \"http://www.w3.org/Graphics/SVG/1.1/DTD/svg11.dtd\">\n",
       "<!-- Generated by graphviz version 2.30.1 (20170916.1124)\n",
       " -->\n",
       "<!-- Title: Tree Pages: 1 -->\n",
       "<svg width=\"744pt\" height=\"738pt\"\n",
       " viewBox=\"0.00 0.00 744.00 738.00\" xmlns=\"http://www.w3.org/2000/svg\" xmlns:xlink=\"http://www.w3.org/1999/xlink\">\n",
       "<g id=\"graph0\" class=\"graph\" transform=\"scale(1 1) rotate(0) translate(4 734)\">\n",
       "<title>Tree</title>\n",
       "<polygon fill=\"white\" stroke=\"white\" points=\"-4,5 -4,-734 741,-734 741,5 -4,5\"/>\n",
       "<!-- 0 -->\n",
       "<g id=\"node1\" class=\"node\"><title>0</title>\n",
       "<path fill=\"#39e581\" fill-opacity=\"0.015686\" stroke=\"black\" d=\"M401.25,-729.5C401.25,-729.5 236.75,-729.5 236.75,-729.5 230.75,-729.5 224.75,-723.5 224.75,-717.5 224.75,-717.5 224.75,-648.5 224.75,-648.5 224.75,-642.5 230.75,-636.5 236.75,-636.5 236.75,-636.5 401.25,-636.5 401.25,-636.5 407.25,-636.5 413.25,-642.5 413.25,-648.5 413.25,-648.5 413.25,-717.5 413.25,-717.5 413.25,-723.5 407.25,-729.5 401.25,-729.5\"/>\n",
       "<text text-anchor=\"start\" x=\"294.5\" y=\"-715.3\" font-family=\"Helvetica,sans-Serif\" font-size=\"14.00\">node #0</text>\n",
       "<text text-anchor=\"start\" x=\"251\" y=\"-701.3\" font-family=\"Helvetica,sans-Serif\" font-size=\"14.00\">petal length (cm) ≤ 2.6</text>\n",
       "<text text-anchor=\"start\" x=\"283.5\" y=\"-687.3\" font-family=\"Helvetica,sans-Serif\" font-size=\"14.00\">gini = 0.665</text>\n",
       "<text text-anchor=\"start\" x=\"262\" y=\"-673.3\" font-family=\"Helvetica,sans-Serif\" font-size=\"14.00\">samples = 100.0%</text>\n",
       "<text text-anchor=\"start\" x=\"233\" y=\"-659.3\" font-family=\"Helvetica,sans-Serif\" font-size=\"14.00\">value = [0.343, 0.352, 0.305]</text>\n",
       "<text text-anchor=\"start\" x=\"266.5\" y=\"-645.3\" font-family=\"Helvetica,sans-Serif\" font-size=\"14.00\">class = versicolor</text>\n",
       "</g>\n",
       "<!-- 1 -->\n",
       "<g id=\"node2\" class=\"node\"><title>1</title>\n",
       "<path fill=\"#e58139\" stroke=\"black\" d=\"M291,-592.5C291,-592.5 171,-592.5 171,-592.5 165,-592.5 159,-586.5 159,-580.5 159,-580.5 159,-525.5 159,-525.5 159,-519.5 165,-513.5 171,-513.5 171,-513.5 291,-513.5 291,-513.5 297,-513.5 303,-519.5 303,-525.5 303,-525.5 303,-580.5 303,-580.5 303,-586.5 297,-592.5 291,-592.5\"/>\n",
       "<text text-anchor=\"start\" x=\"206.5\" y=\"-578.3\" font-family=\"Helvetica,sans-Serif\" font-size=\"14.00\">node #1</text>\n",
       "<text text-anchor=\"start\" x=\"203\" y=\"-564.3\" font-family=\"Helvetica,sans-Serif\" font-size=\"14.00\">gini = 0.0</text>\n",
       "<text text-anchor=\"start\" x=\"178\" y=\"-550.3\" font-family=\"Helvetica,sans-Serif\" font-size=\"14.00\">samples = 34.3%</text>\n",
       "<text text-anchor=\"start\" x=\"167.5\" y=\"-536.3\" font-family=\"Helvetica,sans-Serif\" font-size=\"14.00\">value = [1.0, 0.0, 0.0]</text>\n",
       "<text text-anchor=\"start\" x=\"187.5\" y=\"-522.3\" font-family=\"Helvetica,sans-Serif\" font-size=\"14.00\">class = setosa</text>\n",
       "</g>\n",
       "<!-- 0&#45;&gt;1 -->\n",
       "<g id=\"edge1\" class=\"edge\"><title>0&#45;&gt;1</title>\n",
       "<path fill=\"none\" stroke=\"black\" d=\"M287.479,-636.151C279.697,-624.832 271.348,-612.688 263.52,-601.302\"/>\n",
       "<polygon fill=\"black\" stroke=\"black\" points=\"266.203,-599.027 257.654,-592.769 260.435,-602.993 266.203,-599.027\"/>\n",
       "<text text-anchor=\"middle\" x=\"253.102\" y=\"-613.651\" font-family=\"Helvetica,sans-Serif\" font-size=\"14.00\">True</text>\n",
       "</g>\n",
       "<!-- 2 -->\n",
       "<g id=\"node3\" class=\"node\"><title>2</title>\n",
       "<path fill=\"#39e581\" fill-opacity=\"0.133333\" stroke=\"black\" d=\"M483,-599.5C483,-599.5 333,-599.5 333,-599.5 327,-599.5 321,-593.5 321,-587.5 321,-587.5 321,-518.5 321,-518.5 321,-512.5 327,-506.5 333,-506.5 333,-506.5 483,-506.5 483,-506.5 489,-506.5 495,-512.5 495,-518.5 495,-518.5 495,-587.5 495,-587.5 495,-593.5 489,-599.5 483,-599.5\"/>\n",
       "<text text-anchor=\"start\" x=\"383.5\" y=\"-585.3\" font-family=\"Helvetica,sans-Serif\" font-size=\"14.00\">node #2</text>\n",
       "<text text-anchor=\"start\" x=\"338.5\" y=\"-571.3\" font-family=\"Helvetica,sans-Serif\" font-size=\"14.00\">petal width (cm) ≤ 1.75</text>\n",
       "<text text-anchor=\"start\" x=\"372.5\" y=\"-557.3\" font-family=\"Helvetica,sans-Serif\" font-size=\"14.00\">gini = 0.497</text>\n",
       "<text text-anchor=\"start\" x=\"355\" y=\"-543.3\" font-family=\"Helvetica,sans-Serif\" font-size=\"14.00\">samples = 65.7%</text>\n",
       "<text text-anchor=\"start\" x=\"329.5\" y=\"-529.3\" font-family=\"Helvetica,sans-Serif\" font-size=\"14.00\">value = [0.0, 0.536, 0.464]</text>\n",
       "<text text-anchor=\"start\" x=\"355.5\" y=\"-515.3\" font-family=\"Helvetica,sans-Serif\" font-size=\"14.00\">class = versicolor</text>\n",
       "</g>\n",
       "<!-- 0&#45;&gt;2 -->\n",
       "<g id=\"edge2\" class=\"edge\"><title>0&#45;&gt;2</title>\n",
       "<path fill=\"none\" stroke=\"black\" d=\"M350.88,-636.151C357.219,-627.034 363.931,-617.381 370.439,-608.02\"/>\n",
       "<polygon fill=\"black\" stroke=\"black\" points=\"373.508,-609.738 376.343,-599.529 367.76,-605.742 373.508,-609.738\"/>\n",
       "<text text-anchor=\"middle\" x=\"380.765\" y=\"-620.435\" font-family=\"Helvetica,sans-Serif\" font-size=\"14.00\">False</text>\n",
       "</g>\n",
       "<!-- 3 -->\n",
       "<g id=\"node4\" class=\"node\"><title>3</title>\n",
       "<path fill=\"#39e581\" fill-opacity=\"0.890196\" stroke=\"black\" d=\"M394,-469.5C394,-469.5 244,-469.5 244,-469.5 238,-469.5 232,-463.5 232,-457.5 232,-457.5 232,-388.5 232,-388.5 232,-382.5 238,-376.5 244,-376.5 244,-376.5 394,-376.5 394,-376.5 400,-376.5 406,-382.5 406,-388.5 406,-388.5 406,-457.5 406,-457.5 406,-463.5 400,-469.5 394,-469.5\"/>\n",
       "<text text-anchor=\"start\" x=\"294.5\" y=\"-455.3\" font-family=\"Helvetica,sans-Serif\" font-size=\"14.00\">node #3</text>\n",
       "<text text-anchor=\"start\" x=\"247\" y=\"-441.3\" font-family=\"Helvetica,sans-Serif\" font-size=\"14.00\">petal length (cm) ≤ 4.95</text>\n",
       "<text text-anchor=\"start\" x=\"283.5\" y=\"-427.3\" font-family=\"Helvetica,sans-Serif\" font-size=\"14.00\">gini = 0.176</text>\n",
       "<text text-anchor=\"start\" x=\"266\" y=\"-413.3\" font-family=\"Helvetica,sans-Serif\" font-size=\"14.00\">samples = 39.0%</text>\n",
       "<text text-anchor=\"start\" x=\"240.5\" y=\"-399.3\" font-family=\"Helvetica,sans-Serif\" font-size=\"14.00\">value = [0.0, 0.902, 0.098]</text>\n",
       "<text text-anchor=\"start\" x=\"266.5\" y=\"-385.3\" font-family=\"Helvetica,sans-Serif\" font-size=\"14.00\">class = versicolor</text>\n",
       "</g>\n",
       "<!-- 2&#45;&gt;3 -->\n",
       "<g id=\"edge3\" class=\"edge\"><title>2&#45;&gt;3</title>\n",
       "<path fill=\"none\" stroke=\"black\" d=\"M376.12,-506.151C369.781,-497.034 363.069,-487.381 356.561,-478.02\"/>\n",
       "<polygon fill=\"black\" stroke=\"black\" points=\"359.24,-475.742 350.657,-469.529 353.492,-479.738 359.24,-475.742\"/>\n",
       "</g>\n",
       "<!-- 12 -->\n",
       "<g id=\"node13\" class=\"node\"><title>12</title>\n",
       "<path fill=\"#8139e5\" stroke=\"black\" d=\"M556,-462.5C556,-462.5 436,-462.5 436,-462.5 430,-462.5 424,-456.5 424,-450.5 424,-450.5 424,-395.5 424,-395.5 424,-389.5 430,-383.5 436,-383.5 436,-383.5 556,-383.5 556,-383.5 562,-383.5 568,-389.5 568,-395.5 568,-395.5 568,-450.5 568,-450.5 568,-456.5 562,-462.5 556,-462.5\"/>\n",
       "<text text-anchor=\"start\" x=\"467.5\" y=\"-448.3\" font-family=\"Helvetica,sans-Serif\" font-size=\"14.00\">node #12</text>\n",
       "<text text-anchor=\"start\" x=\"468\" y=\"-434.3\" font-family=\"Helvetica,sans-Serif\" font-size=\"14.00\">gini = 0.0</text>\n",
       "<text text-anchor=\"start\" x=\"443\" y=\"-420.3\" font-family=\"Helvetica,sans-Serif\" font-size=\"14.00\">samples = 26.7%</text>\n",
       "<text text-anchor=\"start\" x=\"432.5\" y=\"-406.3\" font-family=\"Helvetica,sans-Serif\" font-size=\"14.00\">value = [0.0, 0.0, 1.0]</text>\n",
       "<text text-anchor=\"start\" x=\"447.5\" y=\"-392.3\" font-family=\"Helvetica,sans-Serif\" font-size=\"14.00\">class = virginica</text>\n",
       "</g>\n",
       "<!-- 2&#45;&gt;12 -->\n",
       "<g id=\"edge12\" class=\"edge\"><title>2&#45;&gt;12</title>\n",
       "<path fill=\"none\" stroke=\"black\" d=\"M439.521,-506.151C447.303,-494.832 455.652,-482.688 463.48,-471.302\"/>\n",
       "<polygon fill=\"black\" stroke=\"black\" points=\"466.565,-472.993 469.346,-462.769 460.797,-469.027 466.565,-472.993\"/>\n",
       "</g>\n",
       "<!-- 4 -->\n",
       "<g id=\"node5\" class=\"node\"><title>4</title>\n",
       "<path fill=\"#39e581\" fill-opacity=\"0.972549\" stroke=\"black\" d=\"M303,-339.5C303,-339.5 153,-339.5 153,-339.5 147,-339.5 141,-333.5 141,-327.5 141,-327.5 141,-258.5 141,-258.5 141,-252.5 147,-246.5 153,-246.5 153,-246.5 303,-246.5 303,-246.5 309,-246.5 315,-252.5 315,-258.5 315,-258.5 315,-327.5 315,-327.5 315,-333.5 309,-339.5 303,-339.5\"/>\n",
       "<text text-anchor=\"start\" x=\"203.5\" y=\"-325.3\" font-family=\"Helvetica,sans-Serif\" font-size=\"14.00\">node #4</text>\n",
       "<text text-anchor=\"start\" x=\"158.5\" y=\"-311.3\" font-family=\"Helvetica,sans-Serif\" font-size=\"14.00\">petal width (cm) ≤ 1.65</text>\n",
       "<text text-anchor=\"start\" x=\"192.5\" y=\"-297.3\" font-family=\"Helvetica,sans-Serif\" font-size=\"14.00\">gini = 0.054</text>\n",
       "<text text-anchor=\"start\" x=\"175\" y=\"-283.3\" font-family=\"Helvetica,sans-Serif\" font-size=\"14.00\">samples = 34.3%</text>\n",
       "<text text-anchor=\"start\" x=\"149.5\" y=\"-269.3\" font-family=\"Helvetica,sans-Serif\" font-size=\"14.00\">value = [0.0, 0.972, 0.028]</text>\n",
       "<text text-anchor=\"start\" x=\"175.5\" y=\"-255.3\" font-family=\"Helvetica,sans-Serif\" font-size=\"14.00\">class = versicolor</text>\n",
       "</g>\n",
       "<!-- 3&#45;&gt;4 -->\n",
       "<g id=\"edge4\" class=\"edge\"><title>3&#45;&gt;4</title>\n",
       "<path fill=\"none\" stroke=\"black\" d=\"M286.404,-376.151C279.856,-366.941 272.92,-357.184 266.201,-347.734\"/>\n",
       "<polygon fill=\"black\" stroke=\"black\" points=\"269.015,-345.652 260.368,-339.529 263.31,-349.708 269.015,-345.652\"/>\n",
       "</g>\n",
       "<!-- 7 -->\n",
       "<g id=\"node8\" class=\"node\"><title>7</title>\n",
       "<path fill=\"#8139e5\" fill-opacity=\"0.333333\" stroke=\"black\" d=\"M477,-339.5C477,-339.5 345,-339.5 345,-339.5 339,-339.5 333,-333.5 333,-327.5 333,-327.5 333,-258.5 333,-258.5 333,-252.5 339,-246.5 345,-246.5 345,-246.5 477,-246.5 477,-246.5 483,-246.5 489,-252.5 489,-258.5 489,-258.5 489,-327.5 489,-327.5 489,-333.5 483,-339.5 477,-339.5\"/>\n",
       "<text text-anchor=\"start\" x=\"386.5\" y=\"-325.3\" font-family=\"Helvetica,sans-Serif\" font-size=\"14.00\">node #7</text>\n",
       "<text text-anchor=\"start\" x=\"341.5\" y=\"-311.3\" font-family=\"Helvetica,sans-Serif\" font-size=\"14.00\">petal width (cm) ≤ 1.55</text>\n",
       "<text text-anchor=\"start\" x=\"379\" y=\"-297.3\" font-family=\"Helvetica,sans-Serif\" font-size=\"14.00\">gini = 0.48</text>\n",
       "<text text-anchor=\"start\" x=\"361.5\" y=\"-283.3\" font-family=\"Helvetica,sans-Serif\" font-size=\"14.00\">samples = 4.8%</text>\n",
       "<text text-anchor=\"start\" x=\"347.5\" y=\"-269.3\" font-family=\"Helvetica,sans-Serif\" font-size=\"14.00\">value = [0.0, 0.4, 0.6]</text>\n",
       "<text text-anchor=\"start\" x=\"362.5\" y=\"-255.3\" font-family=\"Helvetica,sans-Serif\" font-size=\"14.00\">class = virginica</text>\n",
       "</g>\n",
       "<!-- 3&#45;&gt;7 -->\n",
       "<g id=\"edge7\" class=\"edge\"><title>3&#45;&gt;7</title>\n",
       "<path fill=\"none\" stroke=\"black\" d=\"M351.954,-376.151C358.574,-366.941 365.587,-357.184 372.379,-347.734\"/>\n",
       "<polygon fill=\"black\" stroke=\"black\" points=\"375.281,-349.692 378.276,-339.529 369.597,-345.607 375.281,-349.692\"/>\n",
       "</g>\n",
       "<!-- 5 -->\n",
       "<g id=\"node6\" class=\"node\"><title>5</title>\n",
       "<path fill=\"#39e581\" stroke=\"black\" d=\"M132,-202.5C132,-202.5 12,-202.5 12,-202.5 6,-202.5 0,-196.5 0,-190.5 0,-190.5 0,-135.5 0,-135.5 0,-129.5 6,-123.5 12,-123.5 12,-123.5 132,-123.5 132,-123.5 138,-123.5 144,-129.5 144,-135.5 144,-135.5 144,-190.5 144,-190.5 144,-196.5 138,-202.5 132,-202.5\"/>\n",
       "<text text-anchor=\"start\" x=\"47.5\" y=\"-188.3\" font-family=\"Helvetica,sans-Serif\" font-size=\"14.00\">node #5</text>\n",
       "<text text-anchor=\"start\" x=\"44\" y=\"-174.3\" font-family=\"Helvetica,sans-Serif\" font-size=\"14.00\">gini = 0.0</text>\n",
       "<text text-anchor=\"start\" x=\"19\" y=\"-160.3\" font-family=\"Helvetica,sans-Serif\" font-size=\"14.00\">samples = 33.3%</text>\n",
       "<text text-anchor=\"start\" x=\"8.5\" y=\"-146.3\" font-family=\"Helvetica,sans-Serif\" font-size=\"14.00\">value = [0.0, 1.0, 0.0]</text>\n",
       "<text text-anchor=\"start\" x=\"19.5\" y=\"-132.3\" font-family=\"Helvetica,sans-Serif\" font-size=\"14.00\">class = versicolor</text>\n",
       "</g>\n",
       "<!-- 4&#45;&gt;5 -->\n",
       "<g id=\"edge5\" class=\"edge\"><title>4&#45;&gt;5</title>\n",
       "<path fill=\"none\" stroke=\"black\" d=\"M172.121,-246.151C157.442,-234.106 141.622,-221.126 126.99,-209.12\"/>\n",
       "<polygon fill=\"black\" stroke=\"black\" points=\"128.949,-206.2 118.998,-202.562 124.508,-211.611 128.949,-206.2\"/>\n",
       "</g>\n",
       "<!-- 6 -->\n",
       "<g id=\"node7\" class=\"node\"><title>6</title>\n",
       "<path fill=\"#8139e5\" stroke=\"black\" d=\"M294,-202.5C294,-202.5 174,-202.5 174,-202.5 168,-202.5 162,-196.5 162,-190.5 162,-190.5 162,-135.5 162,-135.5 162,-129.5 168,-123.5 174,-123.5 174,-123.5 294,-123.5 294,-123.5 300,-123.5 306,-129.5 306,-135.5 306,-135.5 306,-190.5 306,-190.5 306,-196.5 300,-202.5 294,-202.5\"/>\n",
       "<text text-anchor=\"start\" x=\"209.5\" y=\"-188.3\" font-family=\"Helvetica,sans-Serif\" font-size=\"14.00\">node #6</text>\n",
       "<text text-anchor=\"start\" x=\"206\" y=\"-174.3\" font-family=\"Helvetica,sans-Serif\" font-size=\"14.00\">gini = 0.0</text>\n",
       "<text text-anchor=\"start\" x=\"184.5\" y=\"-160.3\" font-family=\"Helvetica,sans-Serif\" font-size=\"14.00\">samples = 1.0%</text>\n",
       "<text text-anchor=\"start\" x=\"170.5\" y=\"-146.3\" font-family=\"Helvetica,sans-Serif\" font-size=\"14.00\">value = [0.0, 0.0, 1.0]</text>\n",
       "<text text-anchor=\"start\" x=\"185.5\" y=\"-132.3\" font-family=\"Helvetica,sans-Serif\" font-size=\"14.00\">class = virginica</text>\n",
       "</g>\n",
       "<!-- 4&#45;&gt;6 -->\n",
       "<g id=\"edge6\" class=\"edge\"><title>4&#45;&gt;6</title>\n",
       "<path fill=\"none\" stroke=\"black\" d=\"M230.149,-246.151C230.654,-235.387 231.193,-223.877 231.704,-212.982\"/>\n",
       "<polygon fill=\"black\" stroke=\"black\" points=\"235.211,-212.922 232.183,-202.769 228.218,-212.594 235.211,-212.922\"/>\n",
       "</g>\n",
       "<!-- 8 -->\n",
       "<g id=\"node9\" class=\"node\"><title>8</title>\n",
       "<path fill=\"#8139e5\" stroke=\"black\" d=\"M466,-202.5C466,-202.5 346,-202.5 346,-202.5 340,-202.5 334,-196.5 334,-190.5 334,-190.5 334,-135.5 334,-135.5 334,-129.5 340,-123.5 346,-123.5 346,-123.5 466,-123.5 466,-123.5 472,-123.5 478,-129.5 478,-135.5 478,-135.5 478,-190.5 478,-190.5 478,-196.5 472,-202.5 466,-202.5\"/>\n",
       "<text text-anchor=\"start\" x=\"381.5\" y=\"-188.3\" font-family=\"Helvetica,sans-Serif\" font-size=\"14.00\">node #8</text>\n",
       "<text text-anchor=\"start\" x=\"378\" y=\"-174.3\" font-family=\"Helvetica,sans-Serif\" font-size=\"14.00\">gini = 0.0</text>\n",
       "<text text-anchor=\"start\" x=\"356.5\" y=\"-160.3\" font-family=\"Helvetica,sans-Serif\" font-size=\"14.00\">samples = 1.9%</text>\n",
       "<text text-anchor=\"start\" x=\"342.5\" y=\"-146.3\" font-family=\"Helvetica,sans-Serif\" font-size=\"14.00\">value = [0.0, 0.0, 1.0]</text>\n",
       "<text text-anchor=\"start\" x=\"357.5\" y=\"-132.3\" font-family=\"Helvetica,sans-Serif\" font-size=\"14.00\">class = virginica</text>\n",
       "</g>\n",
       "<!-- 7&#45;&gt;8 -->\n",
       "<g id=\"edge8\" class=\"edge\"><title>7&#45;&gt;8</title>\n",
       "<path fill=\"none\" stroke=\"black\" d=\"M409.209,-246.151C408.789,-235.387 408.339,-223.877 407.913,-212.982\"/>\n",
       "<polygon fill=\"black\" stroke=\"black\" points=\"411.402,-212.625 407.514,-202.769 404.408,-212.898 411.402,-212.625\"/>\n",
       "</g>\n",
       "<!-- 9 -->\n",
       "<g id=\"node10\" class=\"node\"><title>9</title>\n",
       "<path fill=\"#39e581\" fill-opacity=\"0.498039\" stroke=\"black\" d=\"M658,-209.5C658,-209.5 508,-209.5 508,-209.5 502,-209.5 496,-203.5 496,-197.5 496,-197.5 496,-128.5 496,-128.5 496,-122.5 502,-116.5 508,-116.5 508,-116.5 658,-116.5 658,-116.5 664,-116.5 670,-122.5 670,-128.5 670,-128.5 670,-197.5 670,-197.5 670,-203.5 664,-209.5 658,-209.5\"/>\n",
       "<text text-anchor=\"start\" x=\"558.5\" y=\"-195.3\" font-family=\"Helvetica,sans-Serif\" font-size=\"14.00\">node #9</text>\n",
       "<text text-anchor=\"start\" x=\"511\" y=\"-181.3\" font-family=\"Helvetica,sans-Serif\" font-size=\"14.00\">petal length (cm) ≤ 5.45</text>\n",
       "<text text-anchor=\"start\" x=\"547.5\" y=\"-167.3\" font-family=\"Helvetica,sans-Serif\" font-size=\"14.00\">gini = 0.444</text>\n",
       "<text text-anchor=\"start\" x=\"533.5\" y=\"-153.3\" font-family=\"Helvetica,sans-Serif\" font-size=\"14.00\">samples = 2.9%</text>\n",
       "<text text-anchor=\"start\" x=\"504.5\" y=\"-139.3\" font-family=\"Helvetica,sans-Serif\" font-size=\"14.00\">value = [0.0, 0.667, 0.333]</text>\n",
       "<text text-anchor=\"start\" x=\"530.5\" y=\"-125.3\" font-family=\"Helvetica,sans-Serif\" font-size=\"14.00\">class = versicolor</text>\n",
       "</g>\n",
       "<!-- 7&#45;&gt;9 -->\n",
       "<g id=\"edge9\" class=\"edge\"><title>7&#45;&gt;9</title>\n",
       "<path fill=\"none\" stroke=\"black\" d=\"M472.61,-246.151C485.861,-236.289 499.955,-225.801 513.483,-215.734\"/>\n",
       "<polygon fill=\"black\" stroke=\"black\" points=\"515.887,-218.307 521.82,-209.529 511.708,-212.692 515.887,-218.307\"/>\n",
       "</g>\n",
       "<!-- 10 -->\n",
       "<g id=\"node11\" class=\"node\"><title>10</title>\n",
       "<path fill=\"#39e581\" stroke=\"black\" d=\"M562,-79.5C562,-79.5 442,-79.5 442,-79.5 436,-79.5 430,-73.5 430,-67.5 430,-67.5 430,-12.5 430,-12.5 430,-6.5 436,-0.5 442,-0.5 442,-0.5 562,-0.5 562,-0.5 568,-0.5 574,-6.5 574,-12.5 574,-12.5 574,-67.5 574,-67.5 574,-73.5 568,-79.5 562,-79.5\"/>\n",
       "<text text-anchor=\"start\" x=\"473.5\" y=\"-65.3\" font-family=\"Helvetica,sans-Serif\" font-size=\"14.00\">node #10</text>\n",
       "<text text-anchor=\"start\" x=\"474\" y=\"-51.3\" font-family=\"Helvetica,sans-Serif\" font-size=\"14.00\">gini = 0.0</text>\n",
       "<text text-anchor=\"start\" x=\"452.5\" y=\"-37.3\" font-family=\"Helvetica,sans-Serif\" font-size=\"14.00\">samples = 1.9%</text>\n",
       "<text text-anchor=\"start\" x=\"438.5\" y=\"-23.3\" font-family=\"Helvetica,sans-Serif\" font-size=\"14.00\">value = [0.0, 1.0, 0.0]</text>\n",
       "<text text-anchor=\"start\" x=\"449.5\" y=\"-9.3\" font-family=\"Helvetica,sans-Serif\" font-size=\"14.00\">class = versicolor</text>\n",
       "</g>\n",
       "<!-- 9&#45;&gt;10 -->\n",
       "<g id=\"edge10\" class=\"edge\"><title>9&#45;&gt;10</title>\n",
       "<path fill=\"none\" stroke=\"black\" d=\"M552.377,-116.255C546.203,-107.032 539.703,-97.3219 533.5,-88.055\"/>\n",
       "<polygon fill=\"black\" stroke=\"black\" points=\"536.375,-86.0588 527.904,-79.6959 530.558,-89.9529 536.375,-86.0588\"/>\n",
       "</g>\n",
       "<!-- 11 -->\n",
       "<g id=\"node12\" class=\"node\"><title>11</title>\n",
       "<path fill=\"#8139e5\" stroke=\"black\" d=\"M724,-79.5C724,-79.5 604,-79.5 604,-79.5 598,-79.5 592,-73.5 592,-67.5 592,-67.5 592,-12.5 592,-12.5 592,-6.5 598,-0.5 604,-0.5 604,-0.5 724,-0.5 724,-0.5 730,-0.5 736,-6.5 736,-12.5 736,-12.5 736,-67.5 736,-67.5 736,-73.5 730,-79.5 724,-79.5\"/>\n",
       "<text text-anchor=\"start\" x=\"635.5\" y=\"-65.3\" font-family=\"Helvetica,sans-Serif\" font-size=\"14.00\">node #11</text>\n",
       "<text text-anchor=\"start\" x=\"636\" y=\"-51.3\" font-family=\"Helvetica,sans-Serif\" font-size=\"14.00\">gini = 0.0</text>\n",
       "<text text-anchor=\"start\" x=\"614.5\" y=\"-37.3\" font-family=\"Helvetica,sans-Serif\" font-size=\"14.00\">samples = 1.0%</text>\n",
       "<text text-anchor=\"start\" x=\"600.5\" y=\"-23.3\" font-family=\"Helvetica,sans-Serif\" font-size=\"14.00\">value = [0.0, 0.0, 1.0]</text>\n",
       "<text text-anchor=\"start\" x=\"615.5\" y=\"-9.3\" font-family=\"Helvetica,sans-Serif\" font-size=\"14.00\">class = virginica</text>\n",
       "</g>\n",
       "<!-- 9&#45;&gt;11 -->\n",
       "<g id=\"edge11\" class=\"edge\"><title>9&#45;&gt;11</title>\n",
       "<path fill=\"none\" stroke=\"black\" d=\"M613.623,-116.255C619.797,-107.032 626.297,-97.3219 632.5,-88.055\"/>\n",
       "<polygon fill=\"black\" stroke=\"black\" points=\"635.442,-89.9529 638.096,-79.6959 629.625,-86.0588 635.442,-89.9529\"/>\n",
       "</g>\n",
       "</g>\n",
       "</svg>\n"
      ],
      "text/plain": [
       "<graphviz.files.Source at 0x2abe266fc6d8>"
      ]
     },
     "execution_count": 99,
     "metadata": {},
     "output_type": "execute_result"
    }
   ],
   "source": [
    "dot_data = tree.export_graphviz(\n",
    "         clf, \n",
    "         out_file=None,\n",
    "         feature_names=iris.feature_names,\n",
    "         class_names=iris.target_names,  \n",
    "         filled=True, rounded=True,\n",
    "         proportion=True,\n",
    "         node_ids=True,\n",
    "         rotate=False,\n",
    "         label='all',\n",
    "         special_characters=True\n",
    "        )  \n",
    "graph = graphviz.Source(dot_data)  \n",
    "graph"
   ]
  },
  {
   "cell_type": "markdown",
   "metadata": {},
   "source": [
    "#### Bibliotecas necessárias para renderização da arvore de forma interativa"
   ]
  },
  {
   "cell_type": "code",
   "execution_count": 100,
   "metadata": {},
   "outputs": [],
   "source": [
    "from ipywidgets import interactive\n",
    "from IPython.display import SVG,display\n",
    "from graphviz import Source                   "
   ]
  },
  {
   "cell_type": "markdown",
   "metadata": {},
   "source": [
    "#### Renderizando a arvore de forma interativa através da manipulação de parametros"
   ]
  },
  {
   "cell_type": "code",
   "execution_count": 103,
   "metadata": {},
   "outputs": [
    {
     "data": {
      "application/vnd.jupyter.widget-view+json": {
       "model_id": "d8417f89a6c84dcfbc44f2e0f3d7068f",
       "version_major": 2,
       "version_minor": 0
      },
      "text/plain": [
       "interactive(children=(Dropdown(description='crit', options=('gini', 'entropy'), value='gini'), Dropdown(descri…"
      ]
     },
     "metadata": {},
     "output_type": "display_data"
    }
   ],
   "source": [
    "# load dataset\n",
    "data = load_iris()\n",
    "\n",
    "# feature matrix\n",
    "X = data.data\n",
    "\n",
    "# target vector\n",
    "y = data.target\n",
    "\n",
    "# feature labels\n",
    "features_label = data.feature_names\n",
    "\n",
    "# class label\n",
    "class_label = data.target_names\n",
    "\n",
    "\n",
    "def plot_tree(crit, split, depth, min_split, min_leaf=0.2):\n",
    "    estimator = tree.DecisionTreeClassifier(\n",
    "           random_state = 0 \n",
    "          ,criterion = crit\n",
    "          ,splitter = split\n",
    "          ,max_depth = depth\n",
    "          ,min_samples_split=min_split\n",
    "          ,min_samples_leaf=min_leaf\n",
    "    )\n",
    "\n",
    "    estimator.fit(X, y)\n",
    "    graph = Source(tree.export_graphviz(estimator\n",
    "      , out_file=None\n",
    "      , feature_names=features_label\n",
    "      , class_names=class_label\n",
    "      , filled = True))\n",
    "    display(SVG(graph.pipe(format='svg')))\n",
    "    return estimator\n",
    "\n",
    "inter=interactive(plot_tree \n",
    "   , crit = [\"gini\", \"entropy\"]\n",
    "   , split = [\"best\", \"random\"]\n",
    "   , depth=[1,2,3,4,5]\n",
    "   , min_split=(0.1,1)\n",
    "   , min_leaf=(0.1,0.5))\n",
    "\n",
    "display(inter)"
   ]
  },
  {
   "cell_type": "markdown",
   "metadata": {},
   "source": [
    "#### Navegando na estrutura de uma arvore de decisão"
   ]
  },
  {
   "cell_type": "code",
   "execution_count": 124,
   "metadata": {},
   "outputs": [],
   "source": [
    "iris = load_iris()\n",
    "X = iris.data\n",
    "y = iris.target\n",
    "X_train, X_test, y_train, y_test = train_test_split(X, y, random_state=0)"
   ]
  },
  {
   "cell_type": "code",
   "execution_count": 126,
   "metadata": {},
   "outputs": [
    {
     "data": {
      "text/plain": [
       "DecisionTreeClassifier(class_weight=None, criterion='gini', max_depth=None,\n",
       "            max_features=None, max_leaf_nodes=3, min_impurity_decrease=0.0,\n",
       "            min_impurity_split=None, min_samples_leaf=1,\n",
       "            min_samples_split=2, min_weight_fraction_leaf=0.0,\n",
       "            presort=False, random_state=0, splitter='best')"
      ]
     },
     "execution_count": 126,
     "metadata": {},
     "output_type": "execute_result"
    }
   ],
   "source": [
    "estimator = DecisionTreeClassifier(max_leaf_nodes=3, random_state=0)\n",
    "estimator.fit(X_train, y_train)"
   ]
  },
  {
   "cell_type": "code",
   "execution_count": 127,
   "metadata": {},
   "outputs": [],
   "source": [
    "n_nodes = estimator.tree_.node_count\n",
    "children_left = estimator.tree_.children_left\n",
    "children_right = estimator.tree_.children_right\n",
    "feature = estimator.tree_.feature\n",
    "threshold = estimator.tree_.threshold"
   ]
  },
  {
   "cell_type": "code",
   "execution_count": 128,
   "metadata": {},
   "outputs": [
    {
     "name": "stdout",
     "output_type": "stream",
     "text": [
      "Número de nós: 5\n",
      "Indices a esquerda: [ 1 -1  3 -1 -1]\n",
      "Indices a direita: [ 2 -1  4 -1 -1]\n",
      "Feature: [ 3 -2  2 -2 -2]\n",
      "Limite (threshold: [ 0.80000001 -2.          4.94999981 -2.         -2.        ]\n"
     ]
    }
   ],
   "source": [
    "print(\"Número de nós: {}\".format(n_nodes))\n",
    "print(\"Indices a esquerda: {}\".format(children_left))\n",
    "print(\"Indices a direita: {}\".format(children_right))\n",
    "print(\"Feature: {}\".format(feature))\n",
    "print(\"Limite (threshold: {}\".format(threshold))"
   ]
  },
  {
   "cell_type": "code",
   "execution_count": 129,
   "metadata": {
    "scrolled": true
   },
   "outputs": [
    {
     "name": "stdout",
     "output_type": "stream",
     "text": [
      "\n",
      "A arvore binária tem 5 nós e a seguinte estrutura: \n",
      "\n",
      "nó=0 (nó teste): vai para o nó 1 se o valor do atributo petal width (cm) <= 0.800000011920929 \n",
      " se não, vai para o nó 2.\n",
      "\tnó=1 (nó folha).\n",
      "\tnó=2 (nó teste): vai para o nó 3 se o valor do atributo petal length (cm) <= 4.949999809265137 \n",
      " se não, vai para o nó 4.\n",
      "\t\tnó=3 (nó folha).\n",
      "\t\tnó=4 (nó folha).\n"
     ]
    }
   ],
   "source": [
    "node_depth = np.zeros(shape=n_nodes, dtype=np.int64)\n",
    "is_leaves = np.zeros(shape=n_nodes, dtype=bool)\n",
    "stack = [(0, -1)]\n",
    "while len(stack) > 0:\n",
    "    node_id, parent_depth = stack.pop()\n",
    "    node_depth[node_id] = parent_depth + 1\n",
    "\n",
    "    if (children_left[node_id] != children_right[node_id]):\n",
    "        stack.append((children_left[node_id], parent_depth + 1))\n",
    "        stack.append((children_right[node_id], parent_depth + 1))\n",
    "    else:\n",
    "        is_leaves[node_id] = True\n",
    "\n",
    "print(\"\\nA arvore binária tem %s nós e a seguinte estrutura: \\n\"\n",
    "      % n_nodes)\n",
    "for i in range(n_nodes):\n",
    "    if is_leaves[i]:\n",
    "        print(\"%snó=%s (nó folha).\" % (node_depth[i] * \"\\t\", i))\n",
    "    else:\n",
    "        print(\"%snó=%s (nó teste): vai para o nó %s se o valor do atributo %s <= %s \\n se não, vai para o \"\n",
    "              \"nó %s.\"\n",
    "              % (node_depth[i] * \"\\t\",\n",
    "                 i,\n",
    "                 children_left[i],\n",
    "                 iris.feature_names[feature[i]],\n",
    "                 threshold[i],\n",
    "                 children_right[i],\n",
    "                 ))"
   ]
  },
  {
   "cell_type": "markdown",
   "metadata": {},
   "source": [
    "#### Extraindo regras da arvore gerada a partir de uma determinada amostra do conjunto de teste X_teste\n"
   ]
  },
  {
   "cell_type": "code",
   "execution_count": 130,
   "metadata": {},
   "outputs": [],
   "source": [
    "def extrai_regras(sample_id):\n",
    "    node_indicator = estimator.decision_path(X_test)\n",
    "\n",
    "    leave_id = estimator.apply(X_test)\n",
    "\n",
    "    #sample_id = sample\n",
    "    node_index = node_indicator.indices[node_indicator.indptr[sample_id]:\n",
    "                                        node_indicator.indptr[sample_id + 1]]\n",
    "\n",
    "    print('\\nRegras usadas para predizer a amostra %s' % (sample_id))\n",
    "\n",
    "    for f,v in zip(iris.feature_names,X_test[sample_id]):\n",
    "        print('%s = %s'%(f,v))\n",
    "\n",
    "    print('\\n')      \n",
    "    for node_id in node_index:\n",
    "        if leave_id[sample_id] == node_id:\n",
    "            continue\n",
    "\n",
    "        if (X_test[sample_id, feature[node_id]] <= threshold[node_id]):\n",
    "            threshold_sign = \"<=\"\n",
    "        else:\n",
    "            threshold_sign = \">\"\n",
    "\n",
    "        print(\"id do nó de decisão %s : (atributo %s com valor = %s %s %s)\"\n",
    "              % (node_id,\n",
    "                 iris.feature_names[node_id],\n",
    "                 X_test[sample_id, feature[node_id]],\n",
    "                 threshold_sign,\n",
    "                 threshold[node_id]))\n",
    "    pred =estimator.predict(X_test[sample_id].reshape(1, -1)) \n",
    "    print(\"\\tClasse => %s\" %iris.target_names[pred])"
   ]
  },
  {
   "cell_type": "code",
   "execution_count": 132,
   "metadata": {},
   "outputs": [
    {
     "name": "stdout",
     "output_type": "stream",
     "text": [
      "\n",
      "Regras usadas para predizer a amostra 2\n",
      "sepal length (cm) = 5.5\n",
      "sepal width (cm) = 4.2\n",
      "petal length (cm) = 1.4\n",
      "petal width (cm) = 0.2\n",
      "\n",
      "\n",
      "id do nó de decisão 0 : (atributo sepal length (cm) com valor = 0.2 <= 0.800000011920929)\n",
      "\tClasse => ['setosa']\n"
     ]
    }
   ],
   "source": [
    "extrai_regras(2)"
   ]
  },
  {
   "cell_type": "markdown",
   "metadata": {},
   "source": [
    "#### Instalação da biblioteca mlextend para visualização das fronteiras de complexidade"
   ]
  },
  {
   "cell_type": "code",
   "execution_count": 133,
   "metadata": {},
   "outputs": [
    {
     "name": "stdout",
     "output_type": "stream",
     "text": [
      "Requirement already satisfied: mlxtend in /web/datascience/anaconda/lib/python3.6/site-packages (0.13.0)\n",
      "Requirement already satisfied: numpy>=1.10.4 in /web/datascience/anaconda/lib/python3.6/site-packages (from mlxtend) (1.14.3)\n",
      "Requirement already satisfied: pandas>=0.17.1 in /web/datascience/anaconda/lib/python3.6/site-packages (from mlxtend) (0.23.0)\n",
      "Requirement already satisfied: matplotlib>=1.5.1 in /web/datascience/anaconda/lib/python3.6/site-packages (from mlxtend) (2.2.2)\n",
      "Requirement already satisfied: scipy>=0.17 in /web/datascience/anaconda/lib/python3.6/site-packages (from mlxtend) (1.1.0)\n",
      "Requirement already satisfied: scikit-learn>=0.18 in /web/datascience/anaconda/lib/python3.6/site-packages (from mlxtend) (0.19.1)\n",
      "Requirement already satisfied: setuptools in /web/datascience/anaconda/lib/python3.6/site-packages (from mlxtend) (39.1.0)\n",
      "Requirement already satisfied: python-dateutil>=2.5.0 in /web/datascience/anaconda/lib/python3.6/site-packages (from pandas>=0.17.1->mlxtend) (2.7.3)\n",
      "Requirement already satisfied: pytz>=2011k in /web/datascience/anaconda/lib/python3.6/site-packages (from pandas>=0.17.1->mlxtend) (2018.4)\n",
      "Requirement already satisfied: cycler>=0.10 in /web/datascience/anaconda/lib/python3.6/site-packages (from matplotlib>=1.5.1->mlxtend) (0.10.0)\n",
      "Requirement already satisfied: pyparsing!=2.0.4,!=2.1.2,!=2.1.6,>=2.0.1 in /web/datascience/anaconda/lib/python3.6/site-packages (from matplotlib>=1.5.1->mlxtend) (2.2.0)\n",
      "Requirement already satisfied: six>=1.10 in /web/datascience/anaconda/lib/python3.6/site-packages (from matplotlib>=1.5.1->mlxtend) (1.11.0)\n",
      "Requirement already satisfied: kiwisolver>=1.0.1 in /web/datascience/anaconda/lib/python3.6/site-packages (from matplotlib>=1.5.1->mlxtend) (1.0.1)\n",
      "\u001b[33mYou are using pip version 18.0, however version 18.1 is available.\n",
      "You should consider upgrading via the 'pip install --upgrade pip' command.\u001b[0m\n"
     ]
    }
   ],
   "source": [
    "!pip install mlxtend"
   ]
  },
  {
   "cell_type": "markdown",
   "metadata": {},
   "source": [
    "#### Entendendo o parâmetro min-samples-split para criação do modelo de arvore de decisão"
   ]
  },
  {
   "cell_type": "code",
   "execution_count": 134,
   "metadata": {},
   "outputs": [
    {
     "data": {
      "image/png": "[encoded data removed]",
      "text/plain": [
       "<IPython.core.display.Image object>"
      ]
     },
     "execution_count": 134,
     "metadata": {
      "image/png": {
       "height": 500,
       "width": 500
      }
     },
     "output_type": "execute_result"
    }
   ],
   "source": [
    "from IPython.display import Image\n",
    "Image(filename =\"imagens/min-samples-split.png\", width=500, height=500)"
   ]
  },
  {
   "cell_type": "markdown",
   "metadata": {},
   "source": [
    "#### Visualizando as fronteiras criadas pela arvore"
   ]
  },
  {
   "cell_type": "code",
   "execution_count": 135,
   "metadata": {},
   "outputs": [],
   "source": [
    "from mlxtend.plotting import plot_decision_regions\n",
    "import matplotlib.pyplot as plt"
   ]
  },
  {
   "cell_type": "code",
   "execution_count": 136,
   "metadata": {},
   "outputs": [],
   "source": [
    "def visualize_fronteiras(msamples_split):\n",
    "    X = iris.data[:, [0, 2]]\n",
    "    y = iris.target\n",
    "\n",
    "    clf = DecisionTreeClassifier(min_samples_split=msamples_split)\n",
    "    tree = clf.fit(X, y)\n",
    "\n",
    "    plt.figure(figsize=(8,5))\n",
    "    plot_decision_regions(X, y, clf=tree, legend=2)\n",
    "\n",
    "    plt.xlabel('sepal length [cm]')\n",
    "    plt.ylabel('petal length [cm]')\n",
    "    plt.title('Decision Tree on Iris')\n",
    "    plt.show()"
   ]
  },
  {
   "cell_type": "code",
   "execution_count": 137,
   "metadata": {},
   "outputs": [
    {
     "data": {
      "image/png": "[encoded data removed]",
      "text/plain": [
       "<Figure size 576x360 with 1 Axes>"
      ]
     },
     "metadata": {},
     "output_type": "display_data"
    }
   ],
   "source": [
    "visualize_fronteiras(2)"
   ]
  },
  {
   "cell_type": "code",
   "execution_count": 138,
   "metadata": {
    "scrolled": true
   },
   "outputs": [
    {
     "data": {
      "image/png": "[encoded data removed]",
      "text/plain": [
       "<Figure size 576x360 with 1 Axes>"
      ]
     },
     "metadata": {},
     "output_type": "display_data"
    }
   ],
   "source": [
    "visualize_fronteiras(10)"
   ]
  }
 ],
 "metadata": {
  "kernelspec": {
   "display_name": "Python 2",
   "language": "python",
   "name": "python2"
  },
  "language_info": {
   "codemirror_mode": {
    "name": "ipython",
    "version": 2
   },
   "file_extension": ".py",
   "mimetype": "text/x-python",
   "name": "python",
   "nbconvert_exporter": "python",
   "pygments_lexer": "ipython2",
   "version": "2.7.14"
  }
 },
 "nbformat": 4,
 "nbformat_minor": 2
}
