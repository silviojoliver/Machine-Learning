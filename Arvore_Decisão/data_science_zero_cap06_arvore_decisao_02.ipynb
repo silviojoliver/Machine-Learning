{
  "nbformat": 4,
  "nbformat_minor": 0,
  "metadata": {
    "kernelspec": {
      "display_name": "Python 2",
      "language": "python",
      "name": "python2"
    },
    "colab": {
      "name": "data-science-zero-cap06-arvore-decisao-02.ipynb",
      "version": "0.3.2",
      "provenance": [],
      "toc_visible": true
    }
  },
  "cells": [
    {
      "cell_type": "markdown",
      "metadata": {
        "id": "k16C5s4g0Xby",
        "colab_type": "text"
      },
      "source": [
        "# Capítulo 06 - Machine Learning - Arvore de Decisão"
      ]
    },
    {
      "cell_type": "code",
      "metadata": {
        "_cell_guid": "9e92f1a3-3e81-4ec6-a567-890827b0555c",
        "_uuid": "e5338e8c3fa6dc8f410d8b868aa78cb54621780b",
        "id": "liShBTH80Xb0",
        "colab_type": "code",
        "colab": {}
      },
      "source": [
        "import pandas as pd\n",
        "from sklearn.model_selection import train_test_split\n",
        "from sklearn import tree"
      ],
      "execution_count": 0,
      "outputs": []
    },
    {
      "cell_type": "markdown",
      "metadata": {
        "id": "xJDBc7bR0Xb4",
        "colab_type": "text"
      },
      "source": [
        "#### Carregando a base de dados bank-numeric"
      ]
    },
    {
      "cell_type": "code",
      "metadata": {
        "_cell_guid": "52a87df3-04c2-4515-994a-9a3d0b85d3c3",
        "_uuid": "9700cff3c818070f8f202bc964e2a5ffc8c72aa5",
        "scrolled": false,
        "id": "UHKAWlXG0Xb4",
        "colab_type": "code",
        "outputId": "3bff425a-85af-4ff5-b389-879ed9def3d5",
        "colab": {
          "base_uri": "https://localhost:8080/",
          "height": 241
        }
      },
      "source": [
        "bank = pd.read_csv('bank-numeric.csv')\n",
        "bank.head()"
      ],
      "execution_count": 0,
      "outputs": [
        {
          "output_type": "execute_result",
          "data": {
            "text/html": [
              "<div>\n",
              "<style scoped>\n",
              "    .dataframe tbody tr th:only-of-type {\n",
              "        vertical-align: middle;\n",
              "    }\n",
              "\n",
              "    .dataframe tbody tr th {\n",
              "        vertical-align: top;\n",
              "    }\n",
              "\n",
              "    .dataframe thead th {\n",
              "        text-align: right;\n",
              "    }\n",
              "</style>\n",
              "<table border=\"1\" class=\"dataframe\">\n",
              "  <thead>\n",
              "    <tr style=\"text-align: right;\">\n",
              "      <th></th>\n",
              "      <th>age</th>\n",
              "      <th>balance</th>\n",
              "      <th>duration</th>\n",
              "      <th>campaign</th>\n",
              "      <th>previous</th>\n",
              "      <th>default_cat</th>\n",
              "      <th>housing_cat</th>\n",
              "      <th>loan_cat</th>\n",
              "      <th>recent_pdays</th>\n",
              "      <th>deposit_cat</th>\n",
              "      <th>job_blue-collar</th>\n",
              "      <th>job_entrepreneur</th>\n",
              "      <th>job_other</th>\n",
              "      <th>job_pink-collar</th>\n",
              "      <th>job_self-employed</th>\n",
              "      <th>job_technician</th>\n",
              "      <th>job_white-collar</th>\n",
              "      <th>marital_divorced</th>\n",
              "      <th>marital_married</th>\n",
              "      <th>marital_single</th>\n",
              "      <th>education_primary</th>\n",
              "      <th>education_secondary</th>\n",
              "      <th>education_tertiary</th>\n",
              "      <th>education_unknown</th>\n",
              "      <th>poutcome_failure</th>\n",
              "      <th>poutcome_success</th>\n",
              "      <th>poutcome_unknown</th>\n",
              "    </tr>\n",
              "  </thead>\n",
              "  <tbody>\n",
              "    <tr>\n",
              "      <th>0</th>\n",
              "      <td>59</td>\n",
              "      <td>2343</td>\n",
              "      <td>1042</td>\n",
              "      <td>1</td>\n",
              "      <td>0</td>\n",
              "      <td>0</td>\n",
              "      <td>1</td>\n",
              "      <td>0</td>\n",
              "      <td>0.0001</td>\n",
              "      <td>1</td>\n",
              "      <td>0</td>\n",
              "      <td>0</td>\n",
              "      <td>0</td>\n",
              "      <td>0</td>\n",
              "      <td>0</td>\n",
              "      <td>0</td>\n",
              "      <td>1</td>\n",
              "      <td>0</td>\n",
              "      <td>1</td>\n",
              "      <td>0</td>\n",
              "      <td>0</td>\n",
              "      <td>1</td>\n",
              "      <td>0</td>\n",
              "      <td>0</td>\n",
              "      <td>0</td>\n",
              "      <td>0</td>\n",
              "      <td>1</td>\n",
              "    </tr>\n",
              "    <tr>\n",
              "      <th>1</th>\n",
              "      <td>56</td>\n",
              "      <td>45</td>\n",
              "      <td>1467</td>\n",
              "      <td>1</td>\n",
              "      <td>0</td>\n",
              "      <td>0</td>\n",
              "      <td>0</td>\n",
              "      <td>0</td>\n",
              "      <td>0.0001</td>\n",
              "      <td>1</td>\n",
              "      <td>0</td>\n",
              "      <td>0</td>\n",
              "      <td>0</td>\n",
              "      <td>0</td>\n",
              "      <td>0</td>\n",
              "      <td>0</td>\n",
              "      <td>1</td>\n",
              "      <td>0</td>\n",
              "      <td>1</td>\n",
              "      <td>0</td>\n",
              "      <td>0</td>\n",
              "      <td>1</td>\n",
              "      <td>0</td>\n",
              "      <td>0</td>\n",
              "      <td>0</td>\n",
              "      <td>0</td>\n",
              "      <td>1</td>\n",
              "    </tr>\n",
              "    <tr>\n",
              "      <th>2</th>\n",
              "      <td>41</td>\n",
              "      <td>1270</td>\n",
              "      <td>1389</td>\n",
              "      <td>1</td>\n",
              "      <td>0</td>\n",
              "      <td>0</td>\n",
              "      <td>1</td>\n",
              "      <td>0</td>\n",
              "      <td>0.0001</td>\n",
              "      <td>1</td>\n",
              "      <td>0</td>\n",
              "      <td>0</td>\n",
              "      <td>0</td>\n",
              "      <td>0</td>\n",
              "      <td>0</td>\n",
              "      <td>1</td>\n",
              "      <td>0</td>\n",
              "      <td>0</td>\n",
              "      <td>1</td>\n",
              "      <td>0</td>\n",
              "      <td>0</td>\n",
              "      <td>1</td>\n",
              "      <td>0</td>\n",
              "      <td>0</td>\n",
              "      <td>0</td>\n",
              "      <td>0</td>\n",
              "      <td>1</td>\n",
              "    </tr>\n",
              "    <tr>\n",
              "      <th>3</th>\n",
              "      <td>55</td>\n",
              "      <td>2476</td>\n",
              "      <td>579</td>\n",
              "      <td>1</td>\n",
              "      <td>0</td>\n",
              "      <td>0</td>\n",
              "      <td>1</td>\n",
              "      <td>0</td>\n",
              "      <td>0.0001</td>\n",
              "      <td>1</td>\n",
              "      <td>0</td>\n",
              "      <td>0</td>\n",
              "      <td>0</td>\n",
              "      <td>1</td>\n",
              "      <td>0</td>\n",
              "      <td>0</td>\n",
              "      <td>0</td>\n",
              "      <td>0</td>\n",
              "      <td>1</td>\n",
              "      <td>0</td>\n",
              "      <td>0</td>\n",
              "      <td>1</td>\n",
              "      <td>0</td>\n",
              "      <td>0</td>\n",
              "      <td>0</td>\n",
              "      <td>0</td>\n",
              "      <td>1</td>\n",
              "    </tr>\n",
              "    <tr>\n",
              "      <th>4</th>\n",
              "      <td>54</td>\n",
              "      <td>184</td>\n",
              "      <td>673</td>\n",
              "      <td>2</td>\n",
              "      <td>0</td>\n",
              "      <td>0</td>\n",
              "      <td>0</td>\n",
              "      <td>0</td>\n",
              "      <td>0.0001</td>\n",
              "      <td>1</td>\n",
              "      <td>0</td>\n",
              "      <td>0</td>\n",
              "      <td>0</td>\n",
              "      <td>0</td>\n",
              "      <td>0</td>\n",
              "      <td>0</td>\n",
              "      <td>1</td>\n",
              "      <td>0</td>\n",
              "      <td>1</td>\n",
              "      <td>0</td>\n",
              "      <td>0</td>\n",
              "      <td>0</td>\n",
              "      <td>1</td>\n",
              "      <td>0</td>\n",
              "      <td>0</td>\n",
              "      <td>0</td>\n",
              "      <td>1</td>\n",
              "    </tr>\n",
              "  </tbody>\n",
              "</table>\n",
              "</div>"
            ],
            "text/plain": [
              "   age  balance  duration  ...  poutcome_failure  poutcome_success  poutcome_unknown\n",
              "0   59     2343      1042  ...                 0                 0                 1\n",
              "1   56       45      1467  ...                 0                 0                 1\n",
              "2   41     1270      1389  ...                 0                 0                 1\n",
              "3   55     2476       579  ...                 0                 0                 1\n",
              "4   54      184       673  ...                 0                 0                 1\n",
              "\n",
              "[5 rows x 27 columns]"
            ]
          },
          "metadata": {
            "tags": []
          },
          "execution_count": 5
        }
      ]
    },
    {
      "cell_type": "markdown",
      "metadata": {
        "id": "IBIInlgB0Xb8",
        "colab_type": "text"
      },
      "source": [
        "#### Separando as features das classes"
      ]
    },
    {
      "cell_type": "code",
      "metadata": {
        "id": "BO_rgBFp0Xb9",
        "colab_type": "code",
        "colab": {}
      },
      "source": [
        "bank_data = bank.drop('deposit_cat', 1)\n",
        "bank_target = bank.deposit_cat"
      ],
      "execution_count": 0,
      "outputs": []
    },
    {
      "cell_type": "markdown",
      "metadata": {
        "id": "5bgW6mbX0Xb_",
        "colab_type": "text"
      },
      "source": [
        "#### Dividindo os dados em treino e teste"
      ]
    },
    {
      "cell_type": "code",
      "metadata": {
        "id": "edOHpS8x0XcA",
        "colab_type": "code",
        "colab": {}
      },
      "source": [
        "X_train, X_test, y_train, y_test = train_test_split(bank_data,bank_target,test_size=0.3)"
      ],
      "execution_count": 0,
      "outputs": []
    },
    {
      "cell_type": "markdown",
      "metadata": {
        "id": "QIEvp2tj0XcC",
        "colab_type": "text"
      },
      "source": [
        "#### Função para treinar o modelo de arvore de decisão com o parametro max_depth"
      ]
    },
    {
      "cell_type": "code",
      "metadata": {
        "id": "-XjjpWxA0XcC",
        "colab_type": "code",
        "outputId": "a2bc3599-8616-4ed7-df69-1b4c87cb98f2",
        "colab": {
          "base_uri": "https://localhost:8080/",
          "height": 34
        }
      },
      "source": [
        "def compara_modelos(maxdepth):\n",
        "    if maxdepth == 0:\n",
        "        dt = tree.DecisionTreeClassifier(random_state=1)\n",
        "    else:   \n",
        "        dt = tree.DecisionTreeClassifier(random_state=1, max_depth=maxdepth)\n",
        "    dt.fit(X_train, y_train)\n",
        "    train_score = dt.score(X_train, y_train)\n",
        "    test_score = dt.score(X_test, y_test)\n",
        "    return train_score,test_score\n",
        "\n",
        "compara_modelos(2)"
      ],
      "execution_count": 0,
      "outputs": [
        {
          "output_type": "execute_result",
          "data": {
            "text/plain": [
              "(0.7299372840138231, 0.7240967452971037)"
            ]
          },
          "metadata": {
            "tags": []
          },
          "execution_count": 8
        }
      ]
    },
    {
      "cell_type": "code",
      "metadata": {
        "id": "RVc42xzh0XcE",
        "colab_type": "code",
        "outputId": "fd03e525-4d4c-4af9-b442-ee78b110f43f",
        "colab": {
          "base_uri": "https://localhost:8080/",
          "height": 153
        }
      },
      "source": [
        "print('{:10} {:20} {:20}'.format('depth', 'Training score','Testing score'))\n",
        "print('{:10} {:20} {:20}'.format('-----', '--------------','-------------'))\n",
        "print('{:1}         {} '.format(2,str(compara_modelos(2))))\n",
        "print('{:1}         {} '.format(3,str(compara_modelos(3))))\n",
        "print('{:1}         {} '.format(4,str(compara_modelos(4))))\n",
        "print('{:1}         {} '.format(10,str(compara_modelos(10))))\n",
        "print('{:1}         {} '.format(15,str(compara_modelos(15))))\n",
        "print('{:1}         {} '.format('Full',str(compara_modelos(0))))"
      ],
      "execution_count": 0,
      "outputs": [
        {
          "output_type": "stream",
          "text": [
            "depth      Training score       Testing score       \n",
            "-----      --------------       -------------       \n",
            "2         (0.7299372840138231, 0.7240967452971037) \n",
            "3         (0.7657749904006144, 0.7673932517169304) \n",
            "4         (0.7862536797644951, 0.787996416840848) \n",
            "10         (0.8675284781773966, 0.7769483427888922) \n",
            "15         (0.9482913093562012, 0.7411167512690355) \n",
            "Full         (1.0, 0.7330546431770678) \n"
          ],
          "name": "stdout"
        }
      ]
    },
    {
      "cell_type": "markdown",
      "metadata": {
        "id": "6pD8CSiz0XcG",
        "colab_type": "text"
      },
      "source": [
        "#### Verificando as features mais importantes para o modelo de arvore de decisão treinado"
      ]
    },
    {
      "cell_type": "markdown",
      "metadata": {
        "id": "jCTsa1ZN0XcH",
        "colab_type": "text"
      },
      "source": [
        "##### Treinando o modelo utilizando o valor de max_depth igual a 4"
      ]
    },
    {
      "cell_type": "code",
      "metadata": {
        "id": "JtGvQC9c0XcI",
        "colab_type": "code",
        "outputId": "0755acae-88f6-4d99-9e5c-bc18730840a2",
        "colab": {
          "base_uri": "https://localhost:8080/",
          "height": 119
        }
      },
      "source": [
        "dt = tree.DecisionTreeClassifier(max_depth=4)\n",
        "dt.fit(X_train, y_train)"
      ],
      "execution_count": 0,
      "outputs": [
        {
          "output_type": "execute_result",
          "data": {
            "text/plain": [
              "DecisionTreeClassifier(class_weight=None, criterion='gini', max_depth=4,\n",
              "            max_features=None, max_leaf_nodes=None,\n",
              "            min_impurity_decrease=0.0, min_impurity_split=None,\n",
              "            min_samples_leaf=1, min_samples_split=2,\n",
              "            min_weight_fraction_leaf=0.0, presort=False, random_state=None,\n",
              "            splitter='best')"
            ]
          },
          "metadata": {
            "tags": []
          },
          "execution_count": 10
        }
      ]
    },
    {
      "cell_type": "markdown",
      "metadata": {
        "id": "Nie4XMNu0XcK",
        "colab_type": "text"
      },
      "source": [
        "##### Listando as features e sua importância para o modelo"
      ]
    },
    {
      "cell_type": "code",
      "metadata": {
        "_cell_guid": "a40199c8-690b-4361-bdcc-f7dd76946250",
        "_uuid": "6cd0de90f9a563e11e42683f81d82b5c91c6d93c",
        "id": "uKRIx4lo0XcK",
        "colab_type": "code",
        "outputId": "b0d6f018-1761-4e1e-cf3d-86bb83c8fb07",
        "colab": {
          "base_uri": "https://localhost:8080/",
          "height": 459
        }
      },
      "source": [
        "features = dt.feature_importances_\n",
        "\n",
        "l = len(bank.columns)\n",
        "for i in range(0,len(bank.columns)-1):\n",
        "    print('{:.<20} {:3}'.format(features[i],fi[i]))"
      ],
      "execution_count": 0,
      "outputs": [
        {
          "output_type": "stream",
          "text": [
            "0.0033553729713..... 0.0033553729713\n",
            "0.00212350316418.... 0.00212350316418\n",
            "0.669133838704...... 0.669133838704\n",
            "0.0................. 0.0\n",
            "0.0................. 0.0\n",
            "0.0................. 0.0\n",
            "0.112145036782...... 0.112145036782\n",
            "0.0................. 0.0\n",
            "0.0................. 0.0\n",
            "0.0................. 0.0\n",
            "0.0................. 0.0\n",
            "0.0................. 0.0\n",
            "0.0................. 0.0\n",
            "0.0................. 0.0\n",
            "0.0................. 0.0\n",
            "0.0................. 0.0\n",
            "0.0................. 0.0\n",
            "0.00224028581684.... 0.00224028581684\n",
            "0.0................. 0.0\n",
            "0.0................. 0.0\n",
            "0.0................. 0.0\n",
            "0.0................. 0.0\n",
            "0.0................. 0.0\n",
            "0.0................. 0.0\n",
            "0.211001962562...... 0.211001962562\n",
            "0.0................. 0.0\n"
          ],
          "name": "stdout"
        }
      ]
    }
  ]
}